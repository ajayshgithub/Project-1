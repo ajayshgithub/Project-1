{
  "nbformat": 4,
  "nbformat_minor": 0,
  "metadata": {
    "colab": {
      "provenance": [],
      "gpuType": "T4",
      "authorship_tag": "ABX9TyMsOYNvvb8RVwT0jstDek89",
      "include_colab_link": true
    },
    "kernelspec": {
      "name": "python3",
      "display_name": "Python 3"
    },
    "language_info": {
      "name": "python"
    },
    "accelerator": "GPU"
  },
  "cells": [
    {
      "cell_type": "markdown",
      "metadata": {
        "id": "view-in-github",
        "colab_type": "text"
      },
      "source": [
        "<a href=\"https://colab.research.google.com/github/ajayshgithub/Project-1/blob/main/Project_3_WeatherForecast_using_Time_Series_with_LSTM.ipynb\" target=\"_parent\"><img src=\"https://colab.research.google.com/assets/colab-badge.svg\" alt=\"Open In Colab\"/></a>"
      ]
    },
    {
      "cell_type": "markdown",
      "metadata": {
        "id": "b8ewHTEJUO-0"
      },
      "source": [
        "#### Download data"
      ]
    },
    {
      "cell_type": "markdown",
      "metadata": {
        "id": "HPLC4rjgUYcu"
      },
      "source": [
        "We will use [weather data](https://www.bgc-jena.mpg.de/wetter/) provided by [Max Plank Institute for BiogeoChemistry](https://www.bgc-jena.mpg.de)."
      ]
    },
    {
      "cell_type": "code",
      "metadata": {
        "id": "_gJFl3t7T9mH"
      },
      "source": [
        "#Download the data\n",
        "!wget https://storage.googleapis.com/tensorflow/tf-keras-datasets/jena_climate_2009_2016.csv.zip --quiet"
      ],
      "execution_count": 1,
      "outputs": []
    },
    {
      "cell_type": "code",
      "metadata": {
        "id": "QA1E1n_dU-s2",
        "colab": {
          "base_uri": "https://localhost:8080/"
        },
        "outputId": "1eb0a798-f3d3-45f7-953d-1ef5d2c4890a"
      },
      "source": [
        "!ls -l"
      ],
      "execution_count": 2,
      "outputs": [
        {
          "output_type": "stream",
          "name": "stdout",
          "text": [
            "total 13256\n",
            "-rw-r--r-- 1 root root 13568290 Jul 24  2019 jena_climate_2009_2016.csv.zip\n",
            "drwxr-xr-x 1 root root     4096 Sep  6 13:23 sample_data\n"
          ]
        }
      ]
    },
    {
      "cell_type": "code",
      "metadata": {
        "id": "_dYjJ0fjVCaa",
        "colab": {
          "base_uri": "https://localhost:8080/"
        },
        "outputId": "0693f2b9-7ed1-41f5-c9d7-972cd3fdce37"
      },
      "source": [
        "#Unzip the file\n",
        "!unzip jena_climate_2009_2016.csv.zip"
      ],
      "execution_count": 3,
      "outputs": [
        {
          "output_type": "stream",
          "name": "stdout",
          "text": [
            "Archive:  jena_climate_2009_2016.csv.zip\n",
            "  inflating: jena_climate_2009_2016.csv  \n"
          ]
        }
      ]
    },
    {
      "cell_type": "code",
      "metadata": {
        "id": "Tn0OHK5fVHUM",
        "colab": {
          "base_uri": "https://localhost:8080/"
        },
        "outputId": "882d3f80-f110-419c-e9f4-6e596374d7ab"
      },
      "source": [
        "!ls -l"
      ],
      "execution_count": 4,
      "outputs": [
        {
          "output_type": "stream",
          "name": "stdout",
          "text": [
            "total 55412\n",
            "-rw-r--r-- 1 root root 43164220 Mar 19  2017 jena_climate_2009_2016.csv\n",
            "-rw-r--r-- 1 root root 13568290 Jul 24  2019 jena_climate_2009_2016.csv.zip\n",
            "drwxr-xr-x 1 root root     4096 Sep  6 13:23 sample_data\n"
          ]
        }
      ]
    },
    {
      "cell_type": "markdown",
      "source": [
        "##Data Exploration"
      ],
      "metadata": {
        "id": "ULAeDqZBjSPG"
      }
    },
    {
      "cell_type": "code",
      "execution_count": 5,
      "metadata": {
        "id": "rlf2IMyFi2cn"
      },
      "outputs": [],
      "source": [
        "import pandas as pd\n",
        "from matplotlib import pyplot as plt\n",
        "import numpy as np"
      ]
    },
    {
      "cell_type": "code",
      "source": [
        "#Read Dataset\n",
        "df = pd.read_csv('jena_climate_2009_2016.csv')"
      ],
      "metadata": {
        "id": "56rQmNG6ja_A"
      },
      "execution_count": 6,
      "outputs": []
    },
    {
      "cell_type": "code",
      "source": [
        "#Let's chcck the dataset contents\n",
        "df.sample(n=5)"
      ],
      "metadata": {
        "colab": {
          "base_uri": "https://localhost:8080/",
          "height": 310
        },
        "id": "X-pEWuCbjl1n",
        "outputId": "7dabde65-a24d-4f9f-ef82-0e551683cf29"
      },
      "execution_count": 7,
      "outputs": [
        {
          "output_type": "execute_result",
          "data": {
            "text/plain": [
              "                  Date Time  p (mbar)  T (degC)  Tpot (K)  Tdew (degC)  \\\n",
              "225759  16.04.2013 19:00:00    992.33     19.08    292.88        12.35   \n",
              "103985  23.12.2010 03:20:00    974.81      0.06    275.22        -0.10   \n",
              "29738   26.07.2009 12:30:00    995.47     20.03    293.57         7.68   \n",
              "123920  10.05.2011 13:50:00    997.94     24.58    297.92         2.88   \n",
              "412385  05.11.2016 07:10:00    977.22      6.40    281.41         3.68   \n",
              "\n",
              "        rh (%)  VPmax (mbar)  VPact (mbar)  VPdef (mbar)  sh (g/kg)  \\\n",
              "225759   64.98         22.12         14.37          7.75       9.06   \n",
              "103985   98.80          6.14          6.06          0.07       3.88   \n",
              "29738    44.78         23.46         10.51         12.96       6.59   \n",
              "123920   24.29         30.94          7.52         23.43       4.70   \n",
              "412385   82.70          9.62          7.96          1.66       5.08   \n",
              "\n",
              "        H2OC (mmol/mol)  rho (g/m**3)  wv (m/s)  max. wv (m/s)  wd (deg)  \n",
              "225759            14.48       1176.42      0.74           1.40    144.50  \n",
              "103985             6.22       1239.96      0.55           1.16     61.81  \n",
              "29738             10.55       1178.07      2.12           4.75    262.20  \n",
              "123920             7.53       1164.29      2.37           3.92    206.30  \n",
              "412385             8.14       1213.96      2.00           2.84    184.40  "
            ],
            "text/html": [
              "\n",
              "  <div id=\"df-55956f69-4ff9-4b19-aacc-aa97a59da612\" class=\"colab-df-container\">\n",
              "    <div>\n",
              "<style scoped>\n",
              "    .dataframe tbody tr th:only-of-type {\n",
              "        vertical-align: middle;\n",
              "    }\n",
              "\n",
              "    .dataframe tbody tr th {\n",
              "        vertical-align: top;\n",
              "    }\n",
              "\n",
              "    .dataframe thead th {\n",
              "        text-align: right;\n",
              "    }\n",
              "</style>\n",
              "<table border=\"1\" class=\"dataframe\">\n",
              "  <thead>\n",
              "    <tr style=\"text-align: right;\">\n",
              "      <th></th>\n",
              "      <th>Date Time</th>\n",
              "      <th>p (mbar)</th>\n",
              "      <th>T (degC)</th>\n",
              "      <th>Tpot (K)</th>\n",
              "      <th>Tdew (degC)</th>\n",
              "      <th>rh (%)</th>\n",
              "      <th>VPmax (mbar)</th>\n",
              "      <th>VPact (mbar)</th>\n",
              "      <th>VPdef (mbar)</th>\n",
              "      <th>sh (g/kg)</th>\n",
              "      <th>H2OC (mmol/mol)</th>\n",
              "      <th>rho (g/m**3)</th>\n",
              "      <th>wv (m/s)</th>\n",
              "      <th>max. wv (m/s)</th>\n",
              "      <th>wd (deg)</th>\n",
              "    </tr>\n",
              "  </thead>\n",
              "  <tbody>\n",
              "    <tr>\n",
              "      <th>225759</th>\n",
              "      <td>16.04.2013 19:00:00</td>\n",
              "      <td>992.33</td>\n",
              "      <td>19.08</td>\n",
              "      <td>292.88</td>\n",
              "      <td>12.35</td>\n",
              "      <td>64.98</td>\n",
              "      <td>22.12</td>\n",
              "      <td>14.37</td>\n",
              "      <td>7.75</td>\n",
              "      <td>9.06</td>\n",
              "      <td>14.48</td>\n",
              "      <td>1176.42</td>\n",
              "      <td>0.74</td>\n",
              "      <td>1.40</td>\n",
              "      <td>144.50</td>\n",
              "    </tr>\n",
              "    <tr>\n",
              "      <th>103985</th>\n",
              "      <td>23.12.2010 03:20:00</td>\n",
              "      <td>974.81</td>\n",
              "      <td>0.06</td>\n",
              "      <td>275.22</td>\n",
              "      <td>-0.10</td>\n",
              "      <td>98.80</td>\n",
              "      <td>6.14</td>\n",
              "      <td>6.06</td>\n",
              "      <td>0.07</td>\n",
              "      <td>3.88</td>\n",
              "      <td>6.22</td>\n",
              "      <td>1239.96</td>\n",
              "      <td>0.55</td>\n",
              "      <td>1.16</td>\n",
              "      <td>61.81</td>\n",
              "    </tr>\n",
              "    <tr>\n",
              "      <th>29738</th>\n",
              "      <td>26.07.2009 12:30:00</td>\n",
              "      <td>995.47</td>\n",
              "      <td>20.03</td>\n",
              "      <td>293.57</td>\n",
              "      <td>7.68</td>\n",
              "      <td>44.78</td>\n",
              "      <td>23.46</td>\n",
              "      <td>10.51</td>\n",
              "      <td>12.96</td>\n",
              "      <td>6.59</td>\n",
              "      <td>10.55</td>\n",
              "      <td>1178.07</td>\n",
              "      <td>2.12</td>\n",
              "      <td>4.75</td>\n",
              "      <td>262.20</td>\n",
              "    </tr>\n",
              "    <tr>\n",
              "      <th>123920</th>\n",
              "      <td>10.05.2011 13:50:00</td>\n",
              "      <td>997.94</td>\n",
              "      <td>24.58</td>\n",
              "      <td>297.92</td>\n",
              "      <td>2.88</td>\n",
              "      <td>24.29</td>\n",
              "      <td>30.94</td>\n",
              "      <td>7.52</td>\n",
              "      <td>23.43</td>\n",
              "      <td>4.70</td>\n",
              "      <td>7.53</td>\n",
              "      <td>1164.29</td>\n",
              "      <td>2.37</td>\n",
              "      <td>3.92</td>\n",
              "      <td>206.30</td>\n",
              "    </tr>\n",
              "    <tr>\n",
              "      <th>412385</th>\n",
              "      <td>05.11.2016 07:10:00</td>\n",
              "      <td>977.22</td>\n",
              "      <td>6.40</td>\n",
              "      <td>281.41</td>\n",
              "      <td>3.68</td>\n",
              "      <td>82.70</td>\n",
              "      <td>9.62</td>\n",
              "      <td>7.96</td>\n",
              "      <td>1.66</td>\n",
              "      <td>5.08</td>\n",
              "      <td>8.14</td>\n",
              "      <td>1213.96</td>\n",
              "      <td>2.00</td>\n",
              "      <td>2.84</td>\n",
              "      <td>184.40</td>\n",
              "    </tr>\n",
              "  </tbody>\n",
              "</table>\n",
              "</div>\n",
              "    <div class=\"colab-df-buttons\">\n",
              "\n",
              "  <div class=\"colab-df-container\">\n",
              "    <button class=\"colab-df-convert\" onclick=\"convertToInteractive('df-55956f69-4ff9-4b19-aacc-aa97a59da612')\"\n",
              "            title=\"Convert this dataframe to an interactive table.\"\n",
              "            style=\"display:none;\">\n",
              "\n",
              "  <svg xmlns=\"http://www.w3.org/2000/svg\" height=\"24px\" viewBox=\"0 -960 960 960\">\n",
              "    <path d=\"M120-120v-720h720v720H120Zm60-500h600v-160H180v160Zm220 220h160v-160H400v160Zm0 220h160v-160H400v160ZM180-400h160v-160H180v160Zm440 0h160v-160H620v160ZM180-180h160v-160H180v160Zm440 0h160v-160H620v160Z\"/>\n",
              "  </svg>\n",
              "    </button>\n",
              "\n",
              "  <style>\n",
              "    .colab-df-container {\n",
              "      display:flex;\n",
              "      gap: 12px;\n",
              "    }\n",
              "\n",
              "    .colab-df-convert {\n",
              "      background-color: #E8F0FE;\n",
              "      border: none;\n",
              "      border-radius: 50%;\n",
              "      cursor: pointer;\n",
              "      display: none;\n",
              "      fill: #1967D2;\n",
              "      height: 32px;\n",
              "      padding: 0 0 0 0;\n",
              "      width: 32px;\n",
              "    }\n",
              "\n",
              "    .colab-df-convert:hover {\n",
              "      background-color: #E2EBFA;\n",
              "      box-shadow: 0px 1px 2px rgba(60, 64, 67, 0.3), 0px 1px 3px 1px rgba(60, 64, 67, 0.15);\n",
              "      fill: #174EA6;\n",
              "    }\n",
              "\n",
              "    .colab-df-buttons div {\n",
              "      margin-bottom: 4px;\n",
              "    }\n",
              "\n",
              "    [theme=dark] .colab-df-convert {\n",
              "      background-color: #3B4455;\n",
              "      fill: #D2E3FC;\n",
              "    }\n",
              "\n",
              "    [theme=dark] .colab-df-convert:hover {\n",
              "      background-color: #434B5C;\n",
              "      box-shadow: 0px 1px 3px 1px rgba(0, 0, 0, 0.15);\n",
              "      filter: drop-shadow(0px 1px 2px rgba(0, 0, 0, 0.3));\n",
              "      fill: #FFFFFF;\n",
              "    }\n",
              "  </style>\n",
              "\n",
              "    <script>\n",
              "      const buttonEl =\n",
              "        document.querySelector('#df-55956f69-4ff9-4b19-aacc-aa97a59da612 button.colab-df-convert');\n",
              "      buttonEl.style.display =\n",
              "        google.colab.kernel.accessAllowed ? 'block' : 'none';\n",
              "\n",
              "      async function convertToInteractive(key) {\n",
              "        const element = document.querySelector('#df-55956f69-4ff9-4b19-aacc-aa97a59da612');\n",
              "        const dataTable =\n",
              "          await google.colab.kernel.invokeFunction('convertToInteractive',\n",
              "                                                    [key], {});\n",
              "        if (!dataTable) return;\n",
              "\n",
              "        const docLinkHtml = 'Like what you see? Visit the ' +\n",
              "          '<a target=\"_blank\" href=https://colab.research.google.com/notebooks/data_table.ipynb>data table notebook</a>'\n",
              "          + ' to learn more about interactive tables.';\n",
              "        element.innerHTML = '';\n",
              "        dataTable['output_type'] = 'display_data';\n",
              "        await google.colab.output.renderOutput(dataTable, element);\n",
              "        const docLink = document.createElement('div');\n",
              "        docLink.innerHTML = docLinkHtml;\n",
              "        element.appendChild(docLink);\n",
              "      }\n",
              "    </script>\n",
              "  </div>\n",
              "\n",
              "\n",
              "<div id=\"df-ff0f5636-65eb-4e50-addc-fbdb09fd4f87\">\n",
              "  <button class=\"colab-df-quickchart\" onclick=\"quickchart('df-ff0f5636-65eb-4e50-addc-fbdb09fd4f87')\"\n",
              "            title=\"Suggest charts.\"\n",
              "            style=\"display:none;\">\n",
              "\n",
              "<svg xmlns=\"http://www.w3.org/2000/svg\" height=\"24px\"viewBox=\"0 0 24 24\"\n",
              "     width=\"24px\">\n",
              "    <g>\n",
              "        <path d=\"M19 3H5c-1.1 0-2 .9-2 2v14c0 1.1.9 2 2 2h14c1.1 0 2-.9 2-2V5c0-1.1-.9-2-2-2zM9 17H7v-7h2v7zm4 0h-2V7h2v10zm4 0h-2v-4h2v4z\"/>\n",
              "    </g>\n",
              "</svg>\n",
              "  </button>\n",
              "\n",
              "<style>\n",
              "  .colab-df-quickchart {\n",
              "      --bg-color: #E8F0FE;\n",
              "      --fill-color: #1967D2;\n",
              "      --hover-bg-color: #E2EBFA;\n",
              "      --hover-fill-color: #174EA6;\n",
              "      --disabled-fill-color: #AAA;\n",
              "      --disabled-bg-color: #DDD;\n",
              "  }\n",
              "\n",
              "  [theme=dark] .colab-df-quickchart {\n",
              "      --bg-color: #3B4455;\n",
              "      --fill-color: #D2E3FC;\n",
              "      --hover-bg-color: #434B5C;\n",
              "      --hover-fill-color: #FFFFFF;\n",
              "      --disabled-bg-color: #3B4455;\n",
              "      --disabled-fill-color: #666;\n",
              "  }\n",
              "\n",
              "  .colab-df-quickchart {\n",
              "    background-color: var(--bg-color);\n",
              "    border: none;\n",
              "    border-radius: 50%;\n",
              "    cursor: pointer;\n",
              "    display: none;\n",
              "    fill: var(--fill-color);\n",
              "    height: 32px;\n",
              "    padding: 0;\n",
              "    width: 32px;\n",
              "  }\n",
              "\n",
              "  .colab-df-quickchart:hover {\n",
              "    background-color: var(--hover-bg-color);\n",
              "    box-shadow: 0 1px 2px rgba(60, 64, 67, 0.3), 0 1px 3px 1px rgba(60, 64, 67, 0.15);\n",
              "    fill: var(--button-hover-fill-color);\n",
              "  }\n",
              "\n",
              "  .colab-df-quickchart-complete:disabled,\n",
              "  .colab-df-quickchart-complete:disabled:hover {\n",
              "    background-color: var(--disabled-bg-color);\n",
              "    fill: var(--disabled-fill-color);\n",
              "    box-shadow: none;\n",
              "  }\n",
              "\n",
              "  .colab-df-spinner {\n",
              "    border: 2px solid var(--fill-color);\n",
              "    border-color: transparent;\n",
              "    border-bottom-color: var(--fill-color);\n",
              "    animation:\n",
              "      spin 1s steps(1) infinite;\n",
              "  }\n",
              "\n",
              "  @keyframes spin {\n",
              "    0% {\n",
              "      border-color: transparent;\n",
              "      border-bottom-color: var(--fill-color);\n",
              "      border-left-color: var(--fill-color);\n",
              "    }\n",
              "    20% {\n",
              "      border-color: transparent;\n",
              "      border-left-color: var(--fill-color);\n",
              "      border-top-color: var(--fill-color);\n",
              "    }\n",
              "    30% {\n",
              "      border-color: transparent;\n",
              "      border-left-color: var(--fill-color);\n",
              "      border-top-color: var(--fill-color);\n",
              "      border-right-color: var(--fill-color);\n",
              "    }\n",
              "    40% {\n",
              "      border-color: transparent;\n",
              "      border-right-color: var(--fill-color);\n",
              "      border-top-color: var(--fill-color);\n",
              "    }\n",
              "    60% {\n",
              "      border-color: transparent;\n",
              "      border-right-color: var(--fill-color);\n",
              "    }\n",
              "    80% {\n",
              "      border-color: transparent;\n",
              "      border-right-color: var(--fill-color);\n",
              "      border-bottom-color: var(--fill-color);\n",
              "    }\n",
              "    90% {\n",
              "      border-color: transparent;\n",
              "      border-bottom-color: var(--fill-color);\n",
              "    }\n",
              "  }\n",
              "</style>\n",
              "\n",
              "  <script>\n",
              "    async function quickchart(key) {\n",
              "      const quickchartButtonEl =\n",
              "        document.querySelector('#' + key + ' button');\n",
              "      quickchartButtonEl.disabled = true;  // To prevent multiple clicks.\n",
              "      quickchartButtonEl.classList.add('colab-df-spinner');\n",
              "      try {\n",
              "        const charts = await google.colab.kernel.invokeFunction(\n",
              "            'suggestCharts', [key], {});\n",
              "      } catch (error) {\n",
              "        console.error('Error during call to suggestCharts:', error);\n",
              "      }\n",
              "      quickchartButtonEl.classList.remove('colab-df-spinner');\n",
              "      quickchartButtonEl.classList.add('colab-df-quickchart-complete');\n",
              "    }\n",
              "    (() => {\n",
              "      let quickchartButtonEl =\n",
              "        document.querySelector('#df-ff0f5636-65eb-4e50-addc-fbdb09fd4f87 button');\n",
              "      quickchartButtonEl.style.display =\n",
              "        google.colab.kernel.accessAllowed ? 'block' : 'none';\n",
              "    })();\n",
              "  </script>\n",
              "</div>\n",
              "    </div>\n",
              "  </div>\n"
            ]
          },
          "metadata": {},
          "execution_count": 7
        }
      ]
    },
    {
      "cell_type": "code",
      "source": [
        "#No. of records\n",
        "df.shape"
      ],
      "metadata": {
        "colab": {
          "base_uri": "https://localhost:8080/"
        },
        "id": "Y0Ver1a4jtG9",
        "outputId": "0eabde12-c7f6-4fe9-d08a-3f62fc1a6cc8"
      },
      "execution_count": 8,
      "outputs": [
        {
          "output_type": "execute_result",
          "data": {
            "text/plain": [
              "(420551, 15)"
            ]
          },
          "metadata": {},
          "execution_count": 8
        }
      ]
    },
    {
      "cell_type": "code",
      "source": [
        "#Columns\n",
        "df.columns"
      ],
      "metadata": {
        "colab": {
          "base_uri": "https://localhost:8080/"
        },
        "id": "sSKX0ShzkAOx",
        "outputId": "fe0037d0-a603-4e21-97da-b8d8e6a4d47a"
      },
      "execution_count": 9,
      "outputs": [
        {
          "output_type": "execute_result",
          "data": {
            "text/plain": [
              "Index(['Date Time', 'p (mbar)', 'T (degC)', 'Tpot (K)', 'Tdew (degC)',\n",
              "       'rh (%)', 'VPmax (mbar)', 'VPact (mbar)', 'VPdef (mbar)', 'sh (g/kg)',\n",
              "       'H2OC (mmol/mol)', 'rho (g/m**3)', 'wv (m/s)', 'max. wv (m/s)',\n",
              "       'wd (deg)'],\n",
              "      dtype='object')"
            ]
          },
          "metadata": {},
          "execution_count": 9
        }
      ]
    },
    {
      "cell_type": "code",
      "source": [
        "df.head(n=10)"
      ],
      "metadata": {
        "colab": {
          "base_uri": "https://localhost:8080/",
          "height": 554
        },
        "id": "ekfk6dXokCkJ",
        "outputId": "69639f0b-e396-4aca-8dfd-ee614ee929ee"
      },
      "execution_count": 10,
      "outputs": [
        {
          "output_type": "execute_result",
          "data": {
            "text/plain": [
              "             Date Time  p (mbar)  T (degC)  Tpot (K)  Tdew (degC)  rh (%)  \\\n",
              "0  01.01.2009 00:10:00    996.52     -8.02    265.40        -8.90    93.3   \n",
              "1  01.01.2009 00:20:00    996.57     -8.41    265.01        -9.28    93.4   \n",
              "2  01.01.2009 00:30:00    996.53     -8.51    264.91        -9.31    93.9   \n",
              "3  01.01.2009 00:40:00    996.51     -8.31    265.12        -9.07    94.2   \n",
              "4  01.01.2009 00:50:00    996.51     -8.27    265.15        -9.04    94.1   \n",
              "5  01.01.2009 01:00:00    996.50     -8.05    265.38        -8.78    94.4   \n",
              "6  01.01.2009 01:10:00    996.50     -7.62    265.81        -8.30    94.8   \n",
              "7  01.01.2009 01:20:00    996.50     -7.62    265.81        -8.36    94.4   \n",
              "8  01.01.2009 01:30:00    996.50     -7.91    265.52        -8.73    93.8   \n",
              "9  01.01.2009 01:40:00    996.53     -8.43    264.99        -9.34    93.1   \n",
              "\n",
              "   VPmax (mbar)  VPact (mbar)  VPdef (mbar)  sh (g/kg)  H2OC (mmol/mol)  \\\n",
              "0          3.33          3.11          0.22       1.94             3.12   \n",
              "1          3.23          3.02          0.21       1.89             3.03   \n",
              "2          3.21          3.01          0.20       1.88             3.02   \n",
              "3          3.26          3.07          0.19       1.92             3.08   \n",
              "4          3.27          3.08          0.19       1.92             3.09   \n",
              "5          3.33          3.14          0.19       1.96             3.15   \n",
              "6          3.44          3.26          0.18       2.04             3.27   \n",
              "7          3.44          3.25          0.19       2.03             3.26   \n",
              "8          3.36          3.15          0.21       1.97             3.16   \n",
              "9          3.23          3.00          0.22       1.88             3.02   \n",
              "\n",
              "   rho (g/m**3)  wv (m/s)  max. wv (m/s)  wd (deg)  \n",
              "0       1307.75      1.03           1.75     152.3  \n",
              "1       1309.80      0.72           1.50     136.1  \n",
              "2       1310.24      0.19           0.63     171.6  \n",
              "3       1309.19      0.34           0.50     198.0  \n",
              "4       1309.00      0.32           0.63     214.3  \n",
              "5       1307.86      0.21           0.63     192.7  \n",
              "6       1305.68      0.18           0.63     166.5  \n",
              "7       1305.69      0.19           0.50     118.6  \n",
              "8       1307.17      0.28           0.75     188.5  \n",
              "9       1309.85      0.59           0.88     185.0  "
            ],
            "text/html": [
              "\n",
              "  <div id=\"df-434d0e62-2fe2-4de6-a94c-6136348fbfea\" class=\"colab-df-container\">\n",
              "    <div>\n",
              "<style scoped>\n",
              "    .dataframe tbody tr th:only-of-type {\n",
              "        vertical-align: middle;\n",
              "    }\n",
              "\n",
              "    .dataframe tbody tr th {\n",
              "        vertical-align: top;\n",
              "    }\n",
              "\n",
              "    .dataframe thead th {\n",
              "        text-align: right;\n",
              "    }\n",
              "</style>\n",
              "<table border=\"1\" class=\"dataframe\">\n",
              "  <thead>\n",
              "    <tr style=\"text-align: right;\">\n",
              "      <th></th>\n",
              "      <th>Date Time</th>\n",
              "      <th>p (mbar)</th>\n",
              "      <th>T (degC)</th>\n",
              "      <th>Tpot (K)</th>\n",
              "      <th>Tdew (degC)</th>\n",
              "      <th>rh (%)</th>\n",
              "      <th>VPmax (mbar)</th>\n",
              "      <th>VPact (mbar)</th>\n",
              "      <th>VPdef (mbar)</th>\n",
              "      <th>sh (g/kg)</th>\n",
              "      <th>H2OC (mmol/mol)</th>\n",
              "      <th>rho (g/m**3)</th>\n",
              "      <th>wv (m/s)</th>\n",
              "      <th>max. wv (m/s)</th>\n",
              "      <th>wd (deg)</th>\n",
              "    </tr>\n",
              "  </thead>\n",
              "  <tbody>\n",
              "    <tr>\n",
              "      <th>0</th>\n",
              "      <td>01.01.2009 00:10:00</td>\n",
              "      <td>996.52</td>\n",
              "      <td>-8.02</td>\n",
              "      <td>265.40</td>\n",
              "      <td>-8.90</td>\n",
              "      <td>93.3</td>\n",
              "      <td>3.33</td>\n",
              "      <td>3.11</td>\n",
              "      <td>0.22</td>\n",
              "      <td>1.94</td>\n",
              "      <td>3.12</td>\n",
              "      <td>1307.75</td>\n",
              "      <td>1.03</td>\n",
              "      <td>1.75</td>\n",
              "      <td>152.3</td>\n",
              "    </tr>\n",
              "    <tr>\n",
              "      <th>1</th>\n",
              "      <td>01.01.2009 00:20:00</td>\n",
              "      <td>996.57</td>\n",
              "      <td>-8.41</td>\n",
              "      <td>265.01</td>\n",
              "      <td>-9.28</td>\n",
              "      <td>93.4</td>\n",
              "      <td>3.23</td>\n",
              "      <td>3.02</td>\n",
              "      <td>0.21</td>\n",
              "      <td>1.89</td>\n",
              "      <td>3.03</td>\n",
              "      <td>1309.80</td>\n",
              "      <td>0.72</td>\n",
              "      <td>1.50</td>\n",
              "      <td>136.1</td>\n",
              "    </tr>\n",
              "    <tr>\n",
              "      <th>2</th>\n",
              "      <td>01.01.2009 00:30:00</td>\n",
              "      <td>996.53</td>\n",
              "      <td>-8.51</td>\n",
              "      <td>264.91</td>\n",
              "      <td>-9.31</td>\n",
              "      <td>93.9</td>\n",
              "      <td>3.21</td>\n",
              "      <td>3.01</td>\n",
              "      <td>0.20</td>\n",
              "      <td>1.88</td>\n",
              "      <td>3.02</td>\n",
              "      <td>1310.24</td>\n",
              "      <td>0.19</td>\n",
              "      <td>0.63</td>\n",
              "      <td>171.6</td>\n",
              "    </tr>\n",
              "    <tr>\n",
              "      <th>3</th>\n",
              "      <td>01.01.2009 00:40:00</td>\n",
              "      <td>996.51</td>\n",
              "      <td>-8.31</td>\n",
              "      <td>265.12</td>\n",
              "      <td>-9.07</td>\n",
              "      <td>94.2</td>\n",
              "      <td>3.26</td>\n",
              "      <td>3.07</td>\n",
              "      <td>0.19</td>\n",
              "      <td>1.92</td>\n",
              "      <td>3.08</td>\n",
              "      <td>1309.19</td>\n",
              "      <td>0.34</td>\n",
              "      <td>0.50</td>\n",
              "      <td>198.0</td>\n",
              "    </tr>\n",
              "    <tr>\n",
              "      <th>4</th>\n",
              "      <td>01.01.2009 00:50:00</td>\n",
              "      <td>996.51</td>\n",
              "      <td>-8.27</td>\n",
              "      <td>265.15</td>\n",
              "      <td>-9.04</td>\n",
              "      <td>94.1</td>\n",
              "      <td>3.27</td>\n",
              "      <td>3.08</td>\n",
              "      <td>0.19</td>\n",
              "      <td>1.92</td>\n",
              "      <td>3.09</td>\n",
              "      <td>1309.00</td>\n",
              "      <td>0.32</td>\n",
              "      <td>0.63</td>\n",
              "      <td>214.3</td>\n",
              "    </tr>\n",
              "    <tr>\n",
              "      <th>5</th>\n",
              "      <td>01.01.2009 01:00:00</td>\n",
              "      <td>996.50</td>\n",
              "      <td>-8.05</td>\n",
              "      <td>265.38</td>\n",
              "      <td>-8.78</td>\n",
              "      <td>94.4</td>\n",
              "      <td>3.33</td>\n",
              "      <td>3.14</td>\n",
              "      <td>0.19</td>\n",
              "      <td>1.96</td>\n",
              "      <td>3.15</td>\n",
              "      <td>1307.86</td>\n",
              "      <td>0.21</td>\n",
              "      <td>0.63</td>\n",
              "      <td>192.7</td>\n",
              "    </tr>\n",
              "    <tr>\n",
              "      <th>6</th>\n",
              "      <td>01.01.2009 01:10:00</td>\n",
              "      <td>996.50</td>\n",
              "      <td>-7.62</td>\n",
              "      <td>265.81</td>\n",
              "      <td>-8.30</td>\n",
              "      <td>94.8</td>\n",
              "      <td>3.44</td>\n",
              "      <td>3.26</td>\n",
              "      <td>0.18</td>\n",
              "      <td>2.04</td>\n",
              "      <td>3.27</td>\n",
              "      <td>1305.68</td>\n",
              "      <td>0.18</td>\n",
              "      <td>0.63</td>\n",
              "      <td>166.5</td>\n",
              "    </tr>\n",
              "    <tr>\n",
              "      <th>7</th>\n",
              "      <td>01.01.2009 01:20:00</td>\n",
              "      <td>996.50</td>\n",
              "      <td>-7.62</td>\n",
              "      <td>265.81</td>\n",
              "      <td>-8.36</td>\n",
              "      <td>94.4</td>\n",
              "      <td>3.44</td>\n",
              "      <td>3.25</td>\n",
              "      <td>0.19</td>\n",
              "      <td>2.03</td>\n",
              "      <td>3.26</td>\n",
              "      <td>1305.69</td>\n",
              "      <td>0.19</td>\n",
              "      <td>0.50</td>\n",
              "      <td>118.6</td>\n",
              "    </tr>\n",
              "    <tr>\n",
              "      <th>8</th>\n",
              "      <td>01.01.2009 01:30:00</td>\n",
              "      <td>996.50</td>\n",
              "      <td>-7.91</td>\n",
              "      <td>265.52</td>\n",
              "      <td>-8.73</td>\n",
              "      <td>93.8</td>\n",
              "      <td>3.36</td>\n",
              "      <td>3.15</td>\n",
              "      <td>0.21</td>\n",
              "      <td>1.97</td>\n",
              "      <td>3.16</td>\n",
              "      <td>1307.17</td>\n",
              "      <td>0.28</td>\n",
              "      <td>0.75</td>\n",
              "      <td>188.5</td>\n",
              "    </tr>\n",
              "    <tr>\n",
              "      <th>9</th>\n",
              "      <td>01.01.2009 01:40:00</td>\n",
              "      <td>996.53</td>\n",
              "      <td>-8.43</td>\n",
              "      <td>264.99</td>\n",
              "      <td>-9.34</td>\n",
              "      <td>93.1</td>\n",
              "      <td>3.23</td>\n",
              "      <td>3.00</td>\n",
              "      <td>0.22</td>\n",
              "      <td>1.88</td>\n",
              "      <td>3.02</td>\n",
              "      <td>1309.85</td>\n",
              "      <td>0.59</td>\n",
              "      <td>0.88</td>\n",
              "      <td>185.0</td>\n",
              "    </tr>\n",
              "  </tbody>\n",
              "</table>\n",
              "</div>\n",
              "    <div class=\"colab-df-buttons\">\n",
              "\n",
              "  <div class=\"colab-df-container\">\n",
              "    <button class=\"colab-df-convert\" onclick=\"convertToInteractive('df-434d0e62-2fe2-4de6-a94c-6136348fbfea')\"\n",
              "            title=\"Convert this dataframe to an interactive table.\"\n",
              "            style=\"display:none;\">\n",
              "\n",
              "  <svg xmlns=\"http://www.w3.org/2000/svg\" height=\"24px\" viewBox=\"0 -960 960 960\">\n",
              "    <path d=\"M120-120v-720h720v720H120Zm60-500h600v-160H180v160Zm220 220h160v-160H400v160Zm0 220h160v-160H400v160ZM180-400h160v-160H180v160Zm440 0h160v-160H620v160ZM180-180h160v-160H180v160Zm440 0h160v-160H620v160Z\"/>\n",
              "  </svg>\n",
              "    </button>\n",
              "\n",
              "  <style>\n",
              "    .colab-df-container {\n",
              "      display:flex;\n",
              "      gap: 12px;\n",
              "    }\n",
              "\n",
              "    .colab-df-convert {\n",
              "      background-color: #E8F0FE;\n",
              "      border: none;\n",
              "      border-radius: 50%;\n",
              "      cursor: pointer;\n",
              "      display: none;\n",
              "      fill: #1967D2;\n",
              "      height: 32px;\n",
              "      padding: 0 0 0 0;\n",
              "      width: 32px;\n",
              "    }\n",
              "\n",
              "    .colab-df-convert:hover {\n",
              "      background-color: #E2EBFA;\n",
              "      box-shadow: 0px 1px 2px rgba(60, 64, 67, 0.3), 0px 1px 3px 1px rgba(60, 64, 67, 0.15);\n",
              "      fill: #174EA6;\n",
              "    }\n",
              "\n",
              "    .colab-df-buttons div {\n",
              "      margin-bottom: 4px;\n",
              "    }\n",
              "\n",
              "    [theme=dark] .colab-df-convert {\n",
              "      background-color: #3B4455;\n",
              "      fill: #D2E3FC;\n",
              "    }\n",
              "\n",
              "    [theme=dark] .colab-df-convert:hover {\n",
              "      background-color: #434B5C;\n",
              "      box-shadow: 0px 1px 3px 1px rgba(0, 0, 0, 0.15);\n",
              "      filter: drop-shadow(0px 1px 2px rgba(0, 0, 0, 0.3));\n",
              "      fill: #FFFFFF;\n",
              "    }\n",
              "  </style>\n",
              "\n",
              "    <script>\n",
              "      const buttonEl =\n",
              "        document.querySelector('#df-434d0e62-2fe2-4de6-a94c-6136348fbfea button.colab-df-convert');\n",
              "      buttonEl.style.display =\n",
              "        google.colab.kernel.accessAllowed ? 'block' : 'none';\n",
              "\n",
              "      async function convertToInteractive(key) {\n",
              "        const element = document.querySelector('#df-434d0e62-2fe2-4de6-a94c-6136348fbfea');\n",
              "        const dataTable =\n",
              "          await google.colab.kernel.invokeFunction('convertToInteractive',\n",
              "                                                    [key], {});\n",
              "        if (!dataTable) return;\n",
              "\n",
              "        const docLinkHtml = 'Like what you see? Visit the ' +\n",
              "          '<a target=\"_blank\" href=https://colab.research.google.com/notebooks/data_table.ipynb>data table notebook</a>'\n",
              "          + ' to learn more about interactive tables.';\n",
              "        element.innerHTML = '';\n",
              "        dataTable['output_type'] = 'display_data';\n",
              "        await google.colab.output.renderOutput(dataTable, element);\n",
              "        const docLink = document.createElement('div');\n",
              "        docLink.innerHTML = docLinkHtml;\n",
              "        element.appendChild(docLink);\n",
              "      }\n",
              "    </script>\n",
              "  </div>\n",
              "\n",
              "\n",
              "<div id=\"df-ff8529c7-c092-4f30-9a05-8a101768cbf8\">\n",
              "  <button class=\"colab-df-quickchart\" onclick=\"quickchart('df-ff8529c7-c092-4f30-9a05-8a101768cbf8')\"\n",
              "            title=\"Suggest charts.\"\n",
              "            style=\"display:none;\">\n",
              "\n",
              "<svg xmlns=\"http://www.w3.org/2000/svg\" height=\"24px\"viewBox=\"0 0 24 24\"\n",
              "     width=\"24px\">\n",
              "    <g>\n",
              "        <path d=\"M19 3H5c-1.1 0-2 .9-2 2v14c0 1.1.9 2 2 2h14c1.1 0 2-.9 2-2V5c0-1.1-.9-2-2-2zM9 17H7v-7h2v7zm4 0h-2V7h2v10zm4 0h-2v-4h2v4z\"/>\n",
              "    </g>\n",
              "</svg>\n",
              "  </button>\n",
              "\n",
              "<style>\n",
              "  .colab-df-quickchart {\n",
              "      --bg-color: #E8F0FE;\n",
              "      --fill-color: #1967D2;\n",
              "      --hover-bg-color: #E2EBFA;\n",
              "      --hover-fill-color: #174EA6;\n",
              "      --disabled-fill-color: #AAA;\n",
              "      --disabled-bg-color: #DDD;\n",
              "  }\n",
              "\n",
              "  [theme=dark] .colab-df-quickchart {\n",
              "      --bg-color: #3B4455;\n",
              "      --fill-color: #D2E3FC;\n",
              "      --hover-bg-color: #434B5C;\n",
              "      --hover-fill-color: #FFFFFF;\n",
              "      --disabled-bg-color: #3B4455;\n",
              "      --disabled-fill-color: #666;\n",
              "  }\n",
              "\n",
              "  .colab-df-quickchart {\n",
              "    background-color: var(--bg-color);\n",
              "    border: none;\n",
              "    border-radius: 50%;\n",
              "    cursor: pointer;\n",
              "    display: none;\n",
              "    fill: var(--fill-color);\n",
              "    height: 32px;\n",
              "    padding: 0;\n",
              "    width: 32px;\n",
              "  }\n",
              "\n",
              "  .colab-df-quickchart:hover {\n",
              "    background-color: var(--hover-bg-color);\n",
              "    box-shadow: 0 1px 2px rgba(60, 64, 67, 0.3), 0 1px 3px 1px rgba(60, 64, 67, 0.15);\n",
              "    fill: var(--button-hover-fill-color);\n",
              "  }\n",
              "\n",
              "  .colab-df-quickchart-complete:disabled,\n",
              "  .colab-df-quickchart-complete:disabled:hover {\n",
              "    background-color: var(--disabled-bg-color);\n",
              "    fill: var(--disabled-fill-color);\n",
              "    box-shadow: none;\n",
              "  }\n",
              "\n",
              "  .colab-df-spinner {\n",
              "    border: 2px solid var(--fill-color);\n",
              "    border-color: transparent;\n",
              "    border-bottom-color: var(--fill-color);\n",
              "    animation:\n",
              "      spin 1s steps(1) infinite;\n",
              "  }\n",
              "\n",
              "  @keyframes spin {\n",
              "    0% {\n",
              "      border-color: transparent;\n",
              "      border-bottom-color: var(--fill-color);\n",
              "      border-left-color: var(--fill-color);\n",
              "    }\n",
              "    20% {\n",
              "      border-color: transparent;\n",
              "      border-left-color: var(--fill-color);\n",
              "      border-top-color: var(--fill-color);\n",
              "    }\n",
              "    30% {\n",
              "      border-color: transparent;\n",
              "      border-left-color: var(--fill-color);\n",
              "      border-top-color: var(--fill-color);\n",
              "      border-right-color: var(--fill-color);\n",
              "    }\n",
              "    40% {\n",
              "      border-color: transparent;\n",
              "      border-right-color: var(--fill-color);\n",
              "      border-top-color: var(--fill-color);\n",
              "    }\n",
              "    60% {\n",
              "      border-color: transparent;\n",
              "      border-right-color: var(--fill-color);\n",
              "    }\n",
              "    80% {\n",
              "      border-color: transparent;\n",
              "      border-right-color: var(--fill-color);\n",
              "      border-bottom-color: var(--fill-color);\n",
              "    }\n",
              "    90% {\n",
              "      border-color: transparent;\n",
              "      border-bottom-color: var(--fill-color);\n",
              "    }\n",
              "  }\n",
              "</style>\n",
              "\n",
              "  <script>\n",
              "    async function quickchart(key) {\n",
              "      const quickchartButtonEl =\n",
              "        document.querySelector('#' + key + ' button');\n",
              "      quickchartButtonEl.disabled = true;  // To prevent multiple clicks.\n",
              "      quickchartButtonEl.classList.add('colab-df-spinner');\n",
              "      try {\n",
              "        const charts = await google.colab.kernel.invokeFunction(\n",
              "            'suggestCharts', [key], {});\n",
              "      } catch (error) {\n",
              "        console.error('Error during call to suggestCharts:', error);\n",
              "      }\n",
              "      quickchartButtonEl.classList.remove('colab-df-spinner');\n",
              "      quickchartButtonEl.classList.add('colab-df-quickchart-complete');\n",
              "    }\n",
              "    (() => {\n",
              "      let quickchartButtonEl =\n",
              "        document.querySelector('#df-ff8529c7-c092-4f30-9a05-8a101768cbf8 button');\n",
              "      quickchartButtonEl.style.display =\n",
              "        google.colab.kernel.accessAllowed ? 'block' : 'none';\n",
              "    })();\n",
              "  </script>\n",
              "</div>\n",
              "    </div>\n",
              "  </div>\n"
            ]
          },
          "metadata": {},
          "execution_count": 10
        }
      ]
    },
    {
      "cell_type": "code",
      "source": [
        "#Checking null values\n",
        "df.isnull().sum()"
      ],
      "metadata": {
        "colab": {
          "base_uri": "https://localhost:8080/"
        },
        "id": "L50hL6bpkMsg",
        "outputId": "2f560254-c204-48c2-ab39-2df725362c6e"
      },
      "execution_count": 11,
      "outputs": [
        {
          "output_type": "execute_result",
          "data": {
            "text/plain": [
              "Date Time          0\n",
              "p (mbar)           0\n",
              "T (degC)           0\n",
              "Tpot (K)           0\n",
              "Tdew (degC)        0\n",
              "rh (%)             0\n",
              "VPmax (mbar)       0\n",
              "VPact (mbar)       0\n",
              "VPdef (mbar)       0\n",
              "sh (g/kg)          0\n",
              "H2OC (mmol/mol)    0\n",
              "rho (g/m**3)       0\n",
              "wv (m/s)           0\n",
              "max. wv (m/s)      0\n",
              "wd (deg)           0\n",
              "dtype: int64"
            ]
          },
          "metadata": {},
          "execution_count": 11
        }
      ]
    },
    {
      "cell_type": "markdown",
      "source": [
        "It's good that we didn't have any missing values in our dataset.\n"
      ],
      "metadata": {
        "id": "xZ7PkrWfYe3L"
      }
    },
    {
      "cell_type": "markdown",
      "source": [
        "##DAta for Air Temperature"
      ],
      "metadata": {
        "id": "8wLo8KKXmmzO"
      }
    },
    {
      "cell_type": "markdown",
      "source": [
        "Excercise #1 : Build a model which will predict future 'Air Temperature' based on the past data."
      ],
      "metadata": {
        "id": "_N69va3gmm2f"
      }
    },
    {
      "cell_type": "code",
      "source": [
        "#Get data for air temp.\n",
        "temp_df = df['T (degC)']"
      ],
      "metadata": {
        "id": "2c02VUmrkS8x"
      },
      "execution_count": 12,
      "outputs": []
    },
    {
      "cell_type": "code",
      "source": [
        "#Make date time column as index to make sure data is sorted\n",
        "temp_df.index = df['Date Time']"
      ],
      "metadata": {
        "id": "-gCcIDjqmzST"
      },
      "execution_count": 13,
      "outputs": []
    },
    {
      "cell_type": "code",
      "source": [
        "#Check data\n",
        "temp_df.head(n=50)"
      ],
      "metadata": {
        "colab": {
          "base_uri": "https://localhost:8080/"
        },
        "id": "afuv4xoznCxc",
        "outputId": "3fff4db8-ecbd-49d9-bfeb-e6f0a253dc05"
      },
      "execution_count": 14,
      "outputs": [
        {
          "output_type": "execute_result",
          "data": {
            "text/plain": [
              "Date Time\n",
              "01.01.2009 00:10:00   -8.02\n",
              "01.01.2009 00:20:00   -8.41\n",
              "01.01.2009 00:30:00   -8.51\n",
              "01.01.2009 00:40:00   -8.31\n",
              "01.01.2009 00:50:00   -8.27\n",
              "01.01.2009 01:00:00   -8.05\n",
              "01.01.2009 01:10:00   -7.62\n",
              "01.01.2009 01:20:00   -7.62\n",
              "01.01.2009 01:30:00   -7.91\n",
              "01.01.2009 01:40:00   -8.43\n",
              "01.01.2009 01:50:00   -8.76\n",
              "01.01.2009 02:00:00   -8.88\n",
              "01.01.2009 02:10:00   -8.85\n",
              "01.01.2009 02:20:00   -8.83\n",
              "01.01.2009 02:30:00   -8.66\n",
              "01.01.2009 02:40:00   -8.66\n",
              "01.01.2009 02:50:00   -8.70\n",
              "01.01.2009 03:00:00   -8.81\n",
              "01.01.2009 03:10:00   -8.84\n",
              "01.01.2009 03:20:00   -8.94\n",
              "01.01.2009 03:30:00   -8.94\n",
              "01.01.2009 03:40:00   -8.86\n",
              "01.01.2009 03:50:00   -8.99\n",
              "01.01.2009 04:00:00   -9.05\n",
              "01.01.2009 04:10:00   -9.23\n",
              "01.01.2009 04:20:00   -9.49\n",
              "01.01.2009 04:30:00   -9.50\n",
              "01.01.2009 04:40:00   -9.35\n",
              "01.01.2009 04:50:00   -9.47\n",
              "01.01.2009 05:00:00   -9.63\n",
              "01.01.2009 05:10:00   -9.67\n",
              "01.01.2009 05:20:00   -9.68\n",
              "01.01.2009 05:30:00   -9.90\n",
              "01.01.2009 05:40:00   -9.91\n",
              "01.01.2009 05:50:00   -9.51\n",
              "01.01.2009 06:00:00   -9.67\n",
              "01.01.2009 06:10:00   -9.59\n",
              "01.01.2009 06:20:00   -9.15\n",
              "01.01.2009 06:30:00   -8.91\n",
              "01.01.2009 06:40:00   -9.04\n",
              "01.01.2009 06:50:00   -9.43\n",
              "01.01.2009 07:00:00   -9.17\n",
              "01.01.2009 07:10:00   -8.71\n",
              "01.01.2009 07:20:00   -8.55\n",
              "01.01.2009 07:30:00   -8.40\n",
              "01.01.2009 07:40:00   -8.30\n",
              "01.01.2009 07:50:00   -8.13\n",
              "01.01.2009 08:00:00   -8.10\n",
              "01.01.2009 08:10:00   -8.14\n",
              "01.01.2009 08:20:00   -8.06\n",
              "Name: T (degC), dtype: float64"
            ]
          },
          "metadata": {},
          "execution_count": 14
        }
      ]
    },
    {
      "cell_type": "code",
      "source": [
        "#Visualize data\n",
        "temp_df.plot(subplots=True, figsize=(10,6))\n",
        "plt.show()"
      ],
      "metadata": {
        "colab": {
          "base_uri": "https://localhost:8080/",
          "height": 545
        },
        "id": "4lMB4KhTnIsb",
        "outputId": "4ae8d05d-aa4b-4215-aac6-eb9f9102bee7"
      },
      "execution_count": 15,
      "outputs": [
        {
          "output_type": "display_data",
          "data": {
            "text/plain": [
              "<Figure size 1000x600 with 1 Axes>"
            ],
            "image/png": "[encoded data removed]"
          },
          "metadata": {}
        }
      ]
    },
    {
      "cell_type": "markdown",
      "source": [
        "##Data Preparation\n"
      ],
      "metadata": {
        "id": "QW2rbkC9nviO"
      }
    },
    {
      "cell_type": "markdown",
      "source": [
        "Split data between training and Test"
      ],
      "metadata": {
        "id": "bNjRy5tcnves"
      }
    },
    {
      "cell_type": "code",
      "source": [
        "#Number of training examples - set to 80%\n",
        "num_training_examples = int(0.8 * temp_df.shape[0])\n",
        "num_training_examples"
      ],
      "metadata": {
        "colab": {
          "base_uri": "https://localhost:8080/"
        },
        "id": "KQiHInD3nUY1",
        "outputId": "7489219b-0b4b-4597-f344-bfaa734d69b5"
      },
      "execution_count": 16,
      "outputs": [
        {
          "output_type": "execute_result",
          "data": {
            "text/plain": [
              "336440"
            ]
          },
          "metadata": {},
          "execution_count": 16
        }
      ]
    },
    {
      "cell_type": "code",
      "source": [
        "#Prepare training  and test data\n",
        "train_data = temp_df.to_list()[:num_training_examples]     #(0-336440)\n",
        "test_data = temp_df.to_list()[num_training_examples:]      #(336441-420551)"
      ],
      "metadata": {
        "id": "y1izWzXSoESe"
      },
      "execution_count": 17,
      "outputs": []
    },
    {
      "cell_type": "code",
      "source": [
        "#Check the data\n",
        "print(train_data[:100])"
      ],
      "metadata": {
        "colab": {
          "base_uri": "https://localhost:8080/"
        },
        "id": "Refd3E2Qoeft",
        "outputId": "c9d36f05-2789-4519-8ce2-e41f56b424ee"
      },
      "execution_count": 18,
      "outputs": [
        {
          "output_type": "stream",
          "name": "stdout",
          "text": [
            "[-8.02, -8.41, -8.51, -8.31, -8.27, -8.05, -7.62, -7.62, -7.91, -8.43, -8.76, -8.88, -8.85, -8.83, -8.66, -8.66, -8.7, -8.81, -8.84, -8.94, -8.94, -8.86, -8.99, -9.05, -9.23, -9.49, -9.5, -9.35, -9.47, -9.63, -9.67, -9.68, -9.9, -9.91, -9.51, -9.67, -9.59, -9.15, -8.91, -9.04, -9.43, -9.17, -8.71, -8.55, -8.4, -8.3, -8.13, -8.1, -8.14, -8.06, -7.95, -7.74, -7.57, -7.66, -7.71, -7.56, -7.29, -7.15, -7.02, -7.04, -7.03, -7.15, -7.26, -7.34, -7.35, -7.41, -7.48, -7.38, -7.21, -7.16, -7.03, -6.87, -6.77, -6.7, -6.61, -6.51, -6.21, -5.89, -5.83, -5.76, -5.9, -5.97, -5.88, -5.94, -5.84, -5.76, -5.75, -5.76, -5.73, -5.69, -5.53, -5.57, -5.43, -5.32, -5.36, -5.4, -5.31, -5.28, -5.32, -5.29]\n"
          ]
        }
      ]
    },
    {
      "cell_type": "markdown",
      "source": [
        "Normalize the data"
      ],
      "metadata": {
        "id": "pDn2vjXSop5S"
      }
    },
    {
      "cell_type": "code",
      "source": [
        "import tensorflow as tf"
      ],
      "metadata": {
        "id": "BOooiBSaoidF"
      },
      "execution_count": 19,
      "outputs": []
    },
    {
      "cell_type": "code",
      "source": [
        "#Find the mean, std deviation\n",
        "mean = np.array(train_data).mean()\n",
        "std= np.array(train_data).std()"
      ],
      "metadata": {
        "id": "AGVXx1GBo7Me"
      },
      "execution_count": 20,
      "outputs": []
    },
    {
      "cell_type": "code",
      "source": [
        "mean, std"
      ],
      "metadata": {
        "colab": {
          "base_uri": "https://localhost:8080/"
        },
        "id": "zqqZWGUfrALO",
        "outputId": "c83fbfd7-9f0e-413e-b93c-89654ca44849"
      },
      "execution_count": 21,
      "outputs": [
        {
          "output_type": "execute_result",
          "data": {
            "text/plain": [
              "(8.987612768992983, 8.440672143902399)"
            ]
          },
          "metadata": {},
          "execution_count": 21
        }
      ]
    },
    {
      "cell_type": "code",
      "source": [
        "#Normalize training and test data . BAsically STANDARIDIZING the data(Z-Score = x-mean/std)\n",
        "norm_train = (np.array(train_data)-mean)/std\n",
        "norm_test = (np.array(test_data)- mean)/std"
      ],
      "metadata": {
        "id": "e0UUJzDBrBng"
      },
      "execution_count": 22,
      "outputs": []
    },
    {
      "cell_type": "code",
      "source": [
        "norm_train[0]"
      ],
      "metadata": {
        "colab": {
          "base_uri": "https://localhost:8080/"
        },
        "id": "awnQ36uKKUPL",
        "outputId": "06d4f91a-e0c7-4f0f-954a-b2b17c521e32"
      },
      "execution_count": 23,
      "outputs": [
        {
          "output_type": "execute_result",
          "data": {
            "text/plain": [
              "-2.014959529174392"
            ]
          },
          "metadata": {},
          "execution_count": 23
        }
      ]
    },
    {
      "cell_type": "code",
      "source": [
        "norm_train.shape"
      ],
      "metadata": {
        "colab": {
          "base_uri": "https://localhost:8080/"
        },
        "id": "VDTxhyCfreW8",
        "outputId": "7fa7467b-d2ce-434c-a70f-4349022ac9fc"
      },
      "execution_count": 24,
      "outputs": [
        {
          "output_type": "execute_result",
          "data": {
            "text/plain": [
              "(336440,)"
            ]
          },
          "metadata": {},
          "execution_count": 24
        }
      ]
    },
    {
      "cell_type": "markdown",
      "source": [
        "Build X(Input Features) and y(Label) for model training"
      ],
      "metadata": {
        "id": "VBLpHWpcr_Wp"
      }
    },
    {
      "cell_type": "code",
      "source": [
        "def prepare_xy(dataset, window_size=20):\n",
        "\n",
        "    dataX, dataY = [], []\n",
        "\n",
        "    for i in range(len(dataset)-window_size):\n",
        "\n",
        "        #Prepare input features\n",
        "        input_features = dataset[i:(i+window_size)]           # 1-20 input features from dataset (historical values)\n",
        "        dataX.append(input_features)\n",
        "\n",
        "        #Prepare Label\n",
        "        label = dataset[i + window_size]                      # 21st value from our dataset (future predicted)\n",
        "        dataY.append(label)\n",
        "\n",
        "    return np.array(dataX), np.array(dataY)"
      ],
      "metadata": {
        "id": "FL_lLIYzrg7a"
      },
      "execution_count": 25,
      "outputs": []
    },
    {
      "cell_type": "code",
      "source": [
        "#Prepare X and y for train and test\n",
        "train_x, train_y = prepare_xy(norm_train)\n",
        "test_x, test_y = prepare_xy(norm_test)"
      ],
      "metadata": {
        "id": "vdkG4r9LsTgg"
      },
      "execution_count": 26,
      "outputs": []
    },
    {
      "cell_type": "code",
      "source": [
        "train_x.shape"
      ],
      "metadata": {
        "colab": {
          "base_uri": "https://localhost:8080/"
        },
        "id": "ou8jZdNysonh",
        "outputId": "2bee511f-ef3d-4c56-9efb-45adad5d1cde"
      },
      "execution_count": 27,
      "outputs": [
        {
          "output_type": "execute_result",
          "data": {
            "text/plain": [
              "(336420, 20)"
            ]
          },
          "metadata": {},
          "execution_count": 27
        }
      ]
    },
    {
      "cell_type": "code",
      "source": [
        "train_y.shape"
      ],
      "metadata": {
        "colab": {
          "base_uri": "https://localhost:8080/"
        },
        "id": "Ph5EY_ggsrN5",
        "outputId": "1f33cce8-a407-4f6f-ae11-b6266e0cc5d7"
      },
      "execution_count": 28,
      "outputs": [
        {
          "output_type": "execute_result",
          "data": {
            "text/plain": [
              "(336420,)"
            ]
          },
          "metadata": {},
          "execution_count": 28
        }
      ]
    },
    {
      "cell_type": "code",
      "source": [
        "#Checking first example of input feature(x)\n",
        "train_x[0]"
      ],
      "metadata": {
        "colab": {
          "base_uri": "https://localhost:8080/"
        },
        "id": "yWnClEdSssaa",
        "outputId": "e2d47178-e6d0-4349-c456-a5467db31232"
      },
      "execution_count": 29,
      "outputs": [
        {
          "output_type": "execute_result",
          "data": {
            "text/plain": [
              "array([-2.01495953, -2.06116438, -2.07301178, -2.04931698, -2.04457802,\n",
              "       -2.01851375, -1.96756994, -1.96756994, -2.00192739, -2.06353386,\n",
              "       -2.10263027, -2.11684715, -2.11329293, -2.11092345, -2.09078287,\n",
              "       -2.09078287, -2.09552183, -2.10855397, -2.11210819, -2.12395559])"
            ]
          },
          "metadata": {},
          "execution_count": 29
        }
      ]
    },
    {
      "cell_type": "code",
      "source": [
        "#Checking first example label(y)\n",
        "train_y[0]"
      ],
      "metadata": {
        "colab": {
          "base_uri": "https://localhost:8080/"
        },
        "id": "XxadXBsYs5OK",
        "outputId": "7b8b8ef0-c706-4df0-d7b6-9612c22ec3e5"
      },
      "execution_count": 30,
      "outputs": [
        {
          "output_type": "execute_result",
          "data": {
            "text/plain": [
              "-2.1239555882932875"
            ]
          },
          "metadata": {},
          "execution_count": 30
        }
      ]
    },
    {
      "cell_type": "markdown",
      "source": [
        "VIsualize single example\n"
      ],
      "metadata": {
        "id": "gVICfB4NtIe9"
      }
    },
    {
      "cell_type": "code",
      "source": [
        "def show_example(input_features, target, prediction=None):\n",
        "\n",
        "    #Plot historical values\n",
        "    plt.plot(list(range(input_features.shape[0])), input_features.flatten(), '.-', label='History' )     #.= data points, _=connection\n",
        "\n",
        "    #Plot target\n",
        "    plt.plot(input_features.shape[0]+1, target, 'rx', markersize=10, label='Actual')\n",
        "\n",
        "    #Plot prediction, if applicable\n",
        "    if prediction:\n",
        "        plt.plot(input_features.shape[0]+1, prediction, 'go', markersize=10, label='Prediction')\n",
        "\n",
        "    plt.legend()\n",
        "    plt.show()"
      ],
      "metadata": {
        "id": "hLD-eBFPtBUL"
      },
      "execution_count": 31,
      "outputs": []
    },
    {
      "cell_type": "code",
      "source": [
        "#Display examples\n",
        "exp_num = np.random.randint(0, train_x.shape[0])\n",
        "show_example(train_x[exp_num], train_y[exp_num])"
      ],
      "metadata": {
        "id": "gCGN_UvRtaDV",
        "colab": {
          "base_uri": "https://localhost:8080/",
          "height": 430
        },
        "outputId": "a33b5dec-1f7c-4117-eedd-26957fb0e052"
      },
      "execution_count": 32,
      "outputs": [
        {
          "output_type": "display_data",
          "data": {
            "text/plain": [
              "<Figure size 640x480 with 1 Axes>"
            ],
            "image/png": "[encoded data removed]"
          },
          "metadata": {}
        }
      ]
    },
    {
      "cell_type": "markdown",
      "source": [
        "Prediction using average method"
      ],
      "metadata": {
        "id": "sj3_vXUNMcMf"
      }
    },
    {
      "cell_type": "code",
      "source": [
        "#Prediction is taken as average of all the points in sequence e.g.20\n",
        "exp_num = np.random.randint(0, train_x.shape[0])\n",
        "show_example(train_x[exp_num], train_y[exp_num], train_x[exp_num].mean())"
      ],
      "metadata": {
        "colab": {
          "base_uri": "https://localhost:8080/",
          "height": 430
        },
        "id": "e_Cqv_CGMQ80",
        "outputId": "4a8a3ec3-750d-49a3-ad75-d853c59dd6a0"
      },
      "execution_count": 33,
      "outputs": [
        {
          "output_type": "display_data",
          "data": {
            "text/plain": [
              "<Figure size 640x480 with 1 Axes>"
            ],
            "image/png": "[encoded data removed]"
          },
          "metadata": {}
        }
      ]
    },
    {
      "cell_type": "markdown",
      "source": [
        "##Build Model"
      ],
      "metadata": {
        "id": "yta2zXwXNQDO"
      }
    },
    {
      "cell_type": "code",
      "source": [
        "import tensorflow as tf"
      ],
      "metadata": {
        "id": "Eue-SBkFNCcX"
      },
      "execution_count": 34,
      "outputs": []
    },
    {
      "cell_type": "code",
      "source": [
        "tf.random.set_seed(13)"
      ],
      "metadata": {
        "id": "KUbnm6pPNUj4"
      },
      "execution_count": 35,
      "outputs": []
    },
    {
      "cell_type": "code",
      "source": [
        "#Build Model\n",
        "model = tf.keras.Sequential()\n",
        "\n",
        "#Add LSTM layer\n",
        "model.add(tf.keras.layers.LSTM(8, input_shape=(train_x.shape[1],1,)))\n",
        "\n",
        "#Add output layer\n",
        "model.add(tf.keras.layers.Dense(1))"
      ],
      "metadata": {
        "id": "5eErnUolNXbY"
      },
      "execution_count": 36,
      "outputs": []
    },
    {
      "cell_type": "code",
      "source": [
        "#Compile the model\n",
        "model.compile(optimizer='adam', loss='mae')"
      ],
      "metadata": {
        "id": "gMlP8Ws2NqnH"
      },
      "execution_count": 37,
      "outputs": []
    },
    {
      "cell_type": "code",
      "source": [
        "model.summary()"
      ],
      "metadata": {
        "colab": {
          "base_uri": "https://localhost:8080/"
        },
        "id": "y9gqBeOaN7J1",
        "outputId": "038a1ee0-4304-49d8-a881-876ae188e920"
      },
      "execution_count": 38,
      "outputs": [
        {
          "output_type": "stream",
          "name": "stdout",
          "text": [
            "Model: \"sequential\"\n",
            "_________________________________________________________________\n",
            " Layer (type)                Output Shape              Param #   \n",
            "=================================================================\n",
            " lstm (LSTM)                 (None, 8)                 320       \n",
            "                                                                 \n",
            " dense (Dense)               (None, 1)                 9         \n",
            "                                                                 \n",
            "=================================================================\n",
            "Total params: 329\n",
            "Trainable params: 329\n",
            "Non-trainable params: 0\n",
            "_________________________________________________________________\n"
          ]
        }
      ]
    },
    {
      "cell_type": "markdown",
      "source": [
        "Train the model\n",
        "\n",
        "- Convert batch to be 3 dimensional data : Batch size x Sequence length x 1"
      ],
      "metadata": {
        "id": "SxErkD_-OFVP"
      }
    },
    {
      "cell_type": "code",
      "source": [
        "train_x.shape"
      ],
      "metadata": {
        "colab": {
          "base_uri": "https://localhost:8080/"
        },
        "id": "zx5Ic70lN8WV",
        "outputId": "9462c57e-a47a-4970-c05e-e796ae76c4ca"
      },
      "execution_count": 39,
      "outputs": [
        {
          "output_type": "execute_result",
          "data": {
            "text/plain": [
              "(336420, 20)"
            ]
          },
          "metadata": {},
          "execution_count": 39
        }
      ]
    },
    {
      "cell_type": "code",
      "source": [
        "train_x = np.expand_dims(train_x,axis=2)\n",
        "test_x = np.expand_dims(test_x,axis=2)\n"
      ],
      "metadata": {
        "id": "JmUQp3JqOHUn"
      },
      "execution_count": 40,
      "outputs": []
    },
    {
      "cell_type": "code",
      "source": [
        "train_x.shape"
      ],
      "metadata": {
        "colab": {
          "base_uri": "https://localhost:8080/"
        },
        "id": "zlEuTeXZORl8",
        "outputId": "18931309-5fac-44bd-e689-0a1c6b086397"
      },
      "execution_count": 41,
      "outputs": [
        {
          "output_type": "execute_result",
          "data": {
            "text/plain": [
              "(336420, 20, 1)"
            ]
          },
          "metadata": {},
          "execution_count": 41
        }
      ]
    },
    {
      "cell_type": "code",
      "source": [
        "train_y.shape"
      ],
      "metadata": {
        "colab": {
          "base_uri": "https://localhost:8080/"
        },
        "id": "pmJbqj7bOTCk",
        "outputId": "153a5899-6c10-489d-b116-7a4ef160fdd9"
      },
      "execution_count": 42,
      "outputs": [
        {
          "output_type": "execute_result",
          "data": {
            "text/plain": [
              "(336420,)"
            ]
          },
          "metadata": {},
          "execution_count": 42
        }
      ]
    },
    {
      "cell_type": "code",
      "source": [
        "model.fit(train_x, train_y,\n",
        "          validation_data=(test_x, test_y),\n",
        "          epochs=10,\n",
        "          batch_size=256)"
      ],
      "metadata": {
        "colab": {
          "base_uri": "https://localhost:8080/"
        },
        "id": "iR2plUacOUcM",
        "outputId": "1b7382ce-f74d-43c9-8597-3a6f8788c494"
      },
      "execution_count": 43,
      "outputs": [
        {
          "output_type": "stream",
          "name": "stdout",
          "text": [
            "Epoch 1/10\n",
            "1315/1315 [==============================] - 21s 9ms/step - loss: 0.0759 - val_loss: 0.0229\n",
            "Epoch 2/10\n",
            "1315/1315 [==============================] - 11s 8ms/step - loss: 0.0192 - val_loss: 0.0188\n",
            "Epoch 3/10\n",
            "1315/1315 [==============================] - 11s 8ms/step - loss: 0.0163 - val_loss: 0.0166\n",
            "Epoch 4/10\n",
            "1315/1315 [==============================] - 11s 9ms/step - loss: 0.0154 - val_loss: 0.0155\n",
            "Epoch 5/10\n",
            "1315/1315 [==============================] - 8s 6ms/step - loss: 0.0152 - val_loss: 0.0158\n",
            "Epoch 6/10\n",
            "1315/1315 [==============================] - 7s 5ms/step - loss: 0.0152 - val_loss: 0.0155\n",
            "Epoch 7/10\n",
            "1315/1315 [==============================] - 8s 6ms/step - loss: 0.0152 - val_loss: 0.0158\n",
            "Epoch 8/10\n",
            "1315/1315 [==============================] - 7s 5ms/step - loss: 0.0151 - val_loss: 0.0157\n",
            "Epoch 9/10\n",
            "1315/1315 [==============================] - 7s 5ms/step - loss: 0.0152 - val_loss: 0.0156\n",
            "Epoch 10/10\n",
            "1315/1315 [==============================] - 7s 6ms/step - loss: 0.0151 - val_loss: 0.0158\n"
          ]
        },
        {
          "output_type": "execute_result",
          "data": {
            "text/plain": [
              "<keras.callbacks.History at 0x7e88b7b73bb0>"
            ]
          },
          "metadata": {},
          "execution_count": 43
        }
      ]
    },
    {
      "cell_type": "code",
      "source": [
        "#Model Prediction\n",
        "a = model.predict(test_x[0:1])\n",
        "a * std + mean"
      ],
      "metadata": {
        "colab": {
          "base_uri": "https://localhost:8080/"
        },
        "id": "2mUa6iAhOiIn",
        "outputId": "7e267c11-05dd-4649-925b-740a84d2a286"
      },
      "execution_count": 44,
      "outputs": [
        {
          "output_type": "stream",
          "name": "stdout",
          "text": [
            "1/1 [==============================] - 1s 524ms/step\n"
          ]
        },
        {
          "output_type": "execute_result",
          "data": {
            "text/plain": [
              "array([[14.307175]], dtype=float32)"
            ]
          },
          "metadata": {},
          "execution_count": 44
        }
      ]
    },
    {
      "cell_type": "markdown",
      "source": [
        "VIsualize model prediction"
      ],
      "metadata": {
        "id": "JmLjonRdPBfj"
      }
    },
    {
      "cell_type": "code",
      "source": [
        "#Pick a test example\n",
        "exp_num = np.random.randint(0, test_x.shape[0])\n",
        "\n",
        "#Make input example a batch of 1\n",
        "prediction = model.predict(np.expand_dims(test_x[exp_num], axis=0))\n",
        "\n",
        "#Visualize\n",
        "show_example(test_x[exp_num], test_y[exp_num], prediction[0])"
      ],
      "metadata": {
        "colab": {
          "base_uri": "https://localhost:8080/",
          "height": 448
        },
        "id": "RvhbnKBfO_-8",
        "outputId": "d1ad4af0-4e19-426c-e948-904caf5d2c3a"
      },
      "execution_count": 45,
      "outputs": [
        {
          "output_type": "stream",
          "name": "stdout",
          "text": [
            "1/1 [==============================] - 0s 21ms/step\n"
          ]
        },
        {
          "output_type": "display_data",
          "data": {
            "text/plain": [
              "<Figure size 640x480 with 1 Axes>"
            ],
            "image/png": "[encoded data removed]"
          },
          "metadata": {}
        }
      ]
    },
    {
      "cell_type": "markdown",
      "source": [
        "##Multiple Time Series- Data Preparation"
      ],
      "metadata": {
        "id": "IFIV0rjy_Fxt"
      }
    },
    {
      "cell_type": "code",
      "source": [
        "#Air temperature, pressure and air density\n",
        "features_to_include = ['T (degC)', 'p (mbar)', 'rho (g/m**3)']\n",
        "\n",
        "#Get data\n",
        "multi_df = df[features_to_include]\n",
        "multi_df.index = df['Date Time']"
      ],
      "metadata": {
        "id": "0GMb7l_B_LrX"
      },
      "execution_count": 46,
      "outputs": []
    },
    {
      "cell_type": "code",
      "source": [
        "#Train and Test Data\n",
        "train_df = multi_df.iloc[:num_training_examples,:]\n",
        "test_df = multi_df.iloc[num_training_examples:,:]"
      ],
      "metadata": {
        "id": "KWXC5gQR_sJ7"
      },
      "execution_count": 47,
      "outputs": []
    },
    {
      "cell_type": "code",
      "source": [
        "train_df.shape"
      ],
      "metadata": {
        "colab": {
          "base_uri": "https://localhost:8080/"
        },
        "id": "jITQO67BAAFL",
        "outputId": "fa011920-175d-469a-f911-7e55f0ff282b"
      },
      "execution_count": 48,
      "outputs": [
        {
          "output_type": "execute_result",
          "data": {
            "text/plain": [
              "(336440, 3)"
            ]
          },
          "metadata": {},
          "execution_count": 48
        }
      ]
    },
    {
      "cell_type": "markdown",
      "source": [
        "Normalize data\n"
      ],
      "metadata": {
        "id": "duxawZjdAa7b"
      }
    },
    {
      "cell_type": "code",
      "source": [
        "#Find mean and standard deviation\n",
        "mean_multi = train_df.mean()\n",
        "std_multi = train_df.std()"
      ],
      "metadata": {
        "id": "eWKje4hTABYI"
      },
      "execution_count": 49,
      "outputs": []
    },
    {
      "cell_type": "code",
      "source": [
        "mean_multi"
      ],
      "metadata": {
        "colab": {
          "base_uri": "https://localhost:8080/"
        },
        "id": "o-KPL7r7AlfM",
        "outputId": "214b58d6-0ccf-4357-cc86-686c169c4051"
      },
      "execution_count": 50,
      "outputs": [
        {
          "output_type": "execute_result",
          "data": {
            "text/plain": [
              "T (degC)           8.987613\n",
              "p (mbar)         988.832741\n",
              "rho (g/m**3)    1217.704598\n",
              "dtype: float64"
            ]
          },
          "metadata": {},
          "execution_count": 50
        }
      ]
    },
    {
      "cell_type": "code",
      "source": [
        "std_multi"
      ],
      "metadata": {
        "colab": {
          "base_uri": "https://localhost:8080/"
        },
        "id": "x16LFhkwAmwy",
        "outputId": "79c50c92-e2e7-4396-8d23-5c39c6ed1f6e"
      },
      "execution_count": 51,
      "outputs": [
        {
          "output_type": "execute_result",
          "data": {
            "text/plain": [
              "T (degC)         8.440685\n",
              "p (mbar)         8.349543\n",
              "rho (g/m**3)    40.129560\n",
              "dtype: float64"
            ]
          },
          "metadata": {},
          "execution_count": 51
        }
      ]
    },
    {
      "cell_type": "code",
      "source": [
        "#Normalize train and test data\n",
        "norm_train_df = (train_df - mean_multi)/std_multi\n",
        "norm_test_df = (test_df - mean_multi)/std_multi"
      ],
      "metadata": {
        "id": "yKxHC03MAn0B"
      },
      "execution_count": 52,
      "outputs": []
    },
    {
      "cell_type": "code",
      "source": [
        "norm_train_df.sample(n=5)"
      ],
      "metadata": {
        "colab": {
          "base_uri": "https://localhost:8080/",
          "height": 237
        },
        "id": "JTw8CSpKA9y_",
        "outputId": "c7257198-e131-49ec-f309-a3a0eaede96d"
      },
      "execution_count": 53,
      "outputs": [
        {
          "output_type": "execute_result",
          "data": {
            "text/plain": [
              "                     T (degC)  p (mbar)  rho (g/m**3)\n",
              "Date Time                                            \n",
              "18.09.2010 19:20:00  0.148375  0.181718     -0.103530\n",
              "11.03.2011 02:40:00 -0.199938 -0.419513      0.078880\n",
              "31.10.2009 10:00:00 -1.139435  1.636887      1.518965\n",
              "25.06.2011 15:30:00  0.599760  0.973378     -0.335528\n",
              "27.11.2012 18:10:00 -0.115822 -1.068650     -0.194485"
            ],
            "text/html": [
              "\n",
              "  <div id=\"df-f7109ba5-5238-46d1-951e-59a6931bdae4\" class=\"colab-df-container\">\n",
              "    <div>\n",
              "<style scoped>\n",
              "    .dataframe tbody tr th:only-of-type {\n",
              "        vertical-align: middle;\n",
              "    }\n",
              "\n",
              "    .dataframe tbody tr th {\n",
              "        vertical-align: top;\n",
              "    }\n",
              "\n",
              "    .dataframe thead th {\n",
              "        text-align: right;\n",
              "    }\n",
              "</style>\n",
              "<table border=\"1\" class=\"dataframe\">\n",
              "  <thead>\n",
              "    <tr style=\"text-align: right;\">\n",
              "      <th></th>\n",
              "      <th>T (degC)</th>\n",
              "      <th>p (mbar)</th>\n",
              "      <th>rho (g/m**3)</th>\n",
              "    </tr>\n",
              "    <tr>\n",
              "      <th>Date Time</th>\n",
              "      <th></th>\n",
              "      <th></th>\n",
              "      <th></th>\n",
              "    </tr>\n",
              "  </thead>\n",
              "  <tbody>\n",
              "    <tr>\n",
              "      <th>18.09.2010 19:20:00</th>\n",
              "      <td>0.148375</td>\n",
              "      <td>0.181718</td>\n",
              "      <td>-0.103530</td>\n",
              "    </tr>\n",
              "    <tr>\n",
              "      <th>11.03.2011 02:40:00</th>\n",
              "      <td>-0.199938</td>\n",
              "      <td>-0.419513</td>\n",
              "      <td>0.078880</td>\n",
              "    </tr>\n",
              "    <tr>\n",
              "      <th>31.10.2009 10:00:00</th>\n",
              "      <td>-1.139435</td>\n",
              "      <td>1.636887</td>\n",
              "      <td>1.518965</td>\n",
              "    </tr>\n",
              "    <tr>\n",
              "      <th>25.06.2011 15:30:00</th>\n",
              "      <td>0.599760</td>\n",
              "      <td>0.973378</td>\n",
              "      <td>-0.335528</td>\n",
              "    </tr>\n",
              "    <tr>\n",
              "      <th>27.11.2012 18:10:00</th>\n",
              "      <td>-0.115822</td>\n",
              "      <td>-1.068650</td>\n",
              "      <td>-0.194485</td>\n",
              "    </tr>\n",
              "  </tbody>\n",
              "</table>\n",
              "</div>\n",
              "    <div class=\"colab-df-buttons\">\n",
              "\n",
              "  <div class=\"colab-df-container\">\n",
              "    <button class=\"colab-df-convert\" onclick=\"convertToInteractive('df-f7109ba5-5238-46d1-951e-59a6931bdae4')\"\n",
              "            title=\"Convert this dataframe to an interactive table.\"\n",
              "            style=\"display:none;\">\n",
              "\n",
              "  <svg xmlns=\"http://www.w3.org/2000/svg\" height=\"24px\" viewBox=\"0 -960 960 960\">\n",
              "    <path d=\"M120-120v-720h720v720H120Zm60-500h600v-160H180v160Zm220 220h160v-160H400v160Zm0 220h160v-160H400v160ZM180-400h160v-160H180v160Zm440 0h160v-160H620v160ZM180-180h160v-160H180v160Zm440 0h160v-160H620v160Z\"/>\n",
              "  </svg>\n",
              "    </button>\n",
              "\n",
              "  <style>\n",
              "    .colab-df-container {\n",
              "      display:flex;\n",
              "      gap: 12px;\n",
              "    }\n",
              "\n",
              "    .colab-df-convert {\n",
              "      background-color: #E8F0FE;\n",
              "      border: none;\n",
              "      border-radius: 50%;\n",
              "      cursor: pointer;\n",
              "      display: none;\n",
              "      fill: #1967D2;\n",
              "      height: 32px;\n",
              "      padding: 0 0 0 0;\n",
              "      width: 32px;\n",
              "    }\n",
              "\n",
              "    .colab-df-convert:hover {\n",
              "      background-color: #E2EBFA;\n",
              "      box-shadow: 0px 1px 2px rgba(60, 64, 67, 0.3), 0px 1px 3px 1px rgba(60, 64, 67, 0.15);\n",
              "      fill: #174EA6;\n",
              "    }\n",
              "\n",
              "    .colab-df-buttons div {\n",
              "      margin-bottom: 4px;\n",
              "    }\n",
              "\n",
              "    [theme=dark] .colab-df-convert {\n",
              "      background-color: #3B4455;\n",
              "      fill: #D2E3FC;\n",
              "    }\n",
              "\n",
              "    [theme=dark] .colab-df-convert:hover {\n",
              "      background-color: #434B5C;\n",
              "      box-shadow: 0px 1px 3px 1px rgba(0, 0, 0, 0.15);\n",
              "      filter: drop-shadow(0px 1px 2px rgba(0, 0, 0, 0.3));\n",
              "      fill: #FFFFFF;\n",
              "    }\n",
              "  </style>\n",
              "\n",
              "    <script>\n",
              "      const buttonEl =\n",
              "        document.querySelector('#df-f7109ba5-5238-46d1-951e-59a6931bdae4 button.colab-df-convert');\n",
              "      buttonEl.style.display =\n",
              "        google.colab.kernel.accessAllowed ? 'block' : 'none';\n",
              "\n",
              "      async function convertToInteractive(key) {\n",
              "        const element = document.querySelector('#df-f7109ba5-5238-46d1-951e-59a6931bdae4');\n",
              "        const dataTable =\n",
              "          await google.colab.kernel.invokeFunction('convertToInteractive',\n",
              "                                                    [key], {});\n",
              "        if (!dataTable) return;\n",
              "\n",
              "        const docLinkHtml = 'Like what you see? Visit the ' +\n",
              "          '<a target=\"_blank\" href=https://colab.research.google.com/notebooks/data_table.ipynb>data table notebook</a>'\n",
              "          + ' to learn more about interactive tables.';\n",
              "        element.innerHTML = '';\n",
              "        dataTable['output_type'] = 'display_data';\n",
              "        await google.colab.output.renderOutput(dataTable, element);\n",
              "        const docLink = document.createElement('div');\n",
              "        docLink.innerHTML = docLinkHtml;\n",
              "        element.appendChild(docLink);\n",
              "      }\n",
              "    </script>\n",
              "  </div>\n",
              "\n",
              "\n",
              "<div id=\"df-d46d9c87-8a4f-4a75-828e-676159ba3fe1\">\n",
              "  <button class=\"colab-df-quickchart\" onclick=\"quickchart('df-d46d9c87-8a4f-4a75-828e-676159ba3fe1')\"\n",
              "            title=\"Suggest charts.\"\n",
              "            style=\"display:none;\">\n",
              "\n",
              "<svg xmlns=\"http://www.w3.org/2000/svg\" height=\"24px\"viewBox=\"0 0 24 24\"\n",
              "     width=\"24px\">\n",
              "    <g>\n",
              "        <path d=\"M19 3H5c-1.1 0-2 .9-2 2v14c0 1.1.9 2 2 2h14c1.1 0 2-.9 2-2V5c0-1.1-.9-2-2-2zM9 17H7v-7h2v7zm4 0h-2V7h2v10zm4 0h-2v-4h2v4z\"/>\n",
              "    </g>\n",
              "</svg>\n",
              "  </button>\n",
              "\n",
              "<style>\n",
              "  .colab-df-quickchart {\n",
              "      --bg-color: #E8F0FE;\n",
              "      --fill-color: #1967D2;\n",
              "      --hover-bg-color: #E2EBFA;\n",
              "      --hover-fill-color: #174EA6;\n",
              "      --disabled-fill-color: #AAA;\n",
              "      --disabled-bg-color: #DDD;\n",
              "  }\n",
              "\n",
              "  [theme=dark] .colab-df-quickchart {\n",
              "      --bg-color: #3B4455;\n",
              "      --fill-color: #D2E3FC;\n",
              "      --hover-bg-color: #434B5C;\n",
              "      --hover-fill-color: #FFFFFF;\n",
              "      --disabled-bg-color: #3B4455;\n",
              "      --disabled-fill-color: #666;\n",
              "  }\n",
              "\n",
              "  .colab-df-quickchart {\n",
              "    background-color: var(--bg-color);\n",
              "    border: none;\n",
              "    border-radius: 50%;\n",
              "    cursor: pointer;\n",
              "    display: none;\n",
              "    fill: var(--fill-color);\n",
              "    height: 32px;\n",
              "    padding: 0;\n",
              "    width: 32px;\n",
              "  }\n",
              "\n",
              "  .colab-df-quickchart:hover {\n",
              "    background-color: var(--hover-bg-color);\n",
              "    box-shadow: 0 1px 2px rgba(60, 64, 67, 0.3), 0 1px 3px 1px rgba(60, 64, 67, 0.15);\n",
              "    fill: var(--button-hover-fill-color);\n",
              "  }\n",
              "\n",
              "  .colab-df-quickchart-complete:disabled,\n",
              "  .colab-df-quickchart-complete:disabled:hover {\n",
              "    background-color: var(--disabled-bg-color);\n",
              "    fill: var(--disabled-fill-color);\n",
              "    box-shadow: none;\n",
              "  }\n",
              "\n",
              "  .colab-df-spinner {\n",
              "    border: 2px solid var(--fill-color);\n",
              "    border-color: transparent;\n",
              "    border-bottom-color: var(--fill-color);\n",
              "    animation:\n",
              "      spin 1s steps(1) infinite;\n",
              "  }\n",
              "\n",
              "  @keyframes spin {\n",
              "    0% {\n",
              "      border-color: transparent;\n",
              "      border-bottom-color: var(--fill-color);\n",
              "      border-left-color: var(--fill-color);\n",
              "    }\n",
              "    20% {\n",
              "      border-color: transparent;\n",
              "      border-left-color: var(--fill-color);\n",
              "      border-top-color: var(--fill-color);\n",
              "    }\n",
              "    30% {\n",
              "      border-color: transparent;\n",
              "      border-left-color: var(--fill-color);\n",
              "      border-top-color: var(--fill-color);\n",
              "      border-right-color: var(--fill-color);\n",
              "    }\n",
              "    40% {\n",
              "      border-color: transparent;\n",
              "      border-right-color: var(--fill-color);\n",
              "      border-top-color: var(--fill-color);\n",
              "    }\n",
              "    60% {\n",
              "      border-color: transparent;\n",
              "      border-right-color: var(--fill-color);\n",
              "    }\n",
              "    80% {\n",
              "      border-color: transparent;\n",
              "      border-right-color: var(--fill-color);\n",
              "      border-bottom-color: var(--fill-color);\n",
              "    }\n",
              "    90% {\n",
              "      border-color: transparent;\n",
              "      border-bottom-color: var(--fill-color);\n",
              "    }\n",
              "  }\n",
              "</style>\n",
              "\n",
              "  <script>\n",
              "    async function quickchart(key) {\n",
              "      const quickchartButtonEl =\n",
              "        document.querySelector('#' + key + ' button');\n",
              "      quickchartButtonEl.disabled = true;  // To prevent multiple clicks.\n",
              "      quickchartButtonEl.classList.add('colab-df-spinner');\n",
              "      try {\n",
              "        const charts = await google.colab.kernel.invokeFunction(\n",
              "            'suggestCharts', [key], {});\n",
              "      } catch (error) {\n",
              "        console.error('Error during call to suggestCharts:', error);\n",
              "      }\n",
              "      quickchartButtonEl.classList.remove('colab-df-spinner');\n",
              "      quickchartButtonEl.classList.add('colab-df-quickchart-complete');\n",
              "    }\n",
              "    (() => {\n",
              "      let quickchartButtonEl =\n",
              "        document.querySelector('#df-d46d9c87-8a4f-4a75-828e-676159ba3fe1 button');\n",
              "      quickchartButtonEl.style.display =\n",
              "        google.colab.kernel.accessAllowed ? 'block' : 'none';\n",
              "    })();\n",
              "  </script>\n",
              "</div>\n",
              "    </div>\n",
              "  </div>\n"
            ]
          },
          "metadata": {},
          "execution_count": 53
        }
      ]
    },
    {
      "cell_type": "markdown",
      "source": [
        "Prepare X and Y"
      ],
      "metadata": {
        "id": "JFHY1P27BPeQ"
      }
    },
    {
      "cell_type": "code",
      "source": [
        "def prepare_xy_multi(dataset, num_time_series=3, window_size=[20,15,10], target_series=0):\n",
        "\n",
        "    dataX, dataY = [], []\n",
        "\n",
        "    act_data = []\n",
        "\n",
        "    for i in range(num_time_series):\n",
        "        dataX.append([]) #Initialize an empty list for each time series\n",
        "        act_data.append(dataset.iloc[:,i].to_list())\n",
        "\n",
        "    #Get max window size\n",
        "    max_window_size = max(window_size)\n",
        "\n",
        "    for i in range(len(dataset)-max_window_size):\n",
        "\n",
        "        #Prepare input for each time series\n",
        "        for j in range(num_time_series):\n",
        "\n",
        "            #Prepare input features\n",
        "            input_features = act_data[j][(i+max_window_size-window_size[j]):(i+max_window_size)]\n",
        "            dataX[j].append(input_features)\n",
        "\n",
        "        #Prepare Label\n",
        "        label = act_data[target_series][i + max_window_size]\n",
        "        dataY.append(label)\n",
        "\n",
        "    return dataX, dataY"
      ],
      "metadata": {
        "id": "RIyInuV_BBAn"
      },
      "execution_count": 54,
      "outputs": []
    },
    {
      "cell_type": "code",
      "source": [
        "#Prepare Training and Test X, y\n",
        "train_x_multi, train_y_multi = prepare_xy_multi(norm_train_df)\n",
        "test_x_multi, test_y_multi = prepare_xy_multi(norm_test_df)"
      ],
      "metadata": {
        "id": "mvKnVU0KBRIg"
      },
      "execution_count": 55,
      "outputs": []
    },
    {
      "cell_type": "code",
      "source": [
        "len(train_x_multi)"
      ],
      "metadata": {
        "colab": {
          "base_uri": "https://localhost:8080/"
        },
        "id": "xYxOmmrvBWF6",
        "outputId": "8572a57c-f68e-4784-b84c-f42ddf1ff089"
      },
      "execution_count": 56,
      "outputs": [
        {
          "output_type": "execute_result",
          "data": {
            "text/plain": [
              "3"
            ]
          },
          "metadata": {},
          "execution_count": 56
        }
      ]
    },
    {
      "cell_type": "markdown",
      "metadata": {
        "id": "w_Ry7JKCFHya"
      },
      "source": [
        "#### Build Model II"
      ]
    },
    {
      "cell_type": "code",
      "metadata": {
        "id": "Ycup7zqKFK5P"
      },
      "source": [
        "#Build 3 input layers - one for each time series\n",
        "input_1 = tf.keras.layers.Input(shape=(len(train_x_multi[0][0]), 1,))\n",
        "input_2 = tf.keras.layers.Input(shape=(len(train_x_multi[1][0]), 1,))\n",
        "input_3 = tf.keras.layers.Input(shape=(len(train_x_multi[2][0]), 1,))"
      ],
      "execution_count": 57,
      "outputs": []
    },
    {
      "cell_type": "code",
      "metadata": {
        "id": "Er732Ic1Fm5u"
      },
      "source": [
        "#Build 3 LSTM Layers - One for each time series\n",
        "lstm_1 = tf.keras.layers.LSTM(8)(input_1)\n",
        "lstm_2 = tf.keras.layers.LSTM(8)(input_2)\n",
        "lstm_3 = tf.keras.layers.LSTM(8)(input_3)"
      ],
      "execution_count": 58,
      "outputs": []
    },
    {
      "cell_type": "code",
      "metadata": {
        "id": "JqPAeGmOF48D"
      },
      "source": [
        "#Concatenate LSTM layers output\n",
        "cat = tf.keras.layers.concatenate([lstm_1, lstm_2, lstm_3])"
      ],
      "execution_count": 59,
      "outputs": []
    },
    {
      "cell_type": "code",
      "metadata": {
        "id": "EZ62gahlGFv6",
        "colab": {
          "base_uri": "https://localhost:8080/"
        },
        "outputId": "388ce838-0acf-4150-83e0-72fb17ff5753"
      },
      "source": [
        "cat"
      ],
      "execution_count": 60,
      "outputs": [
        {
          "output_type": "execute_result",
          "data": {
            "text/plain": [
              "<KerasTensor: shape=(None, 24) dtype=float32 (created by layer 'concatenate')>"
            ]
          },
          "metadata": {},
          "execution_count": 60
        }
      ]
    },
    {
      "cell_type": "code",
      "metadata": {
        "id": "cSZOsGivGHYP"
      },
      "source": [
        "#Output Layer\n",
        "op = tf.keras.layers.Dense(1)(cat)"
      ],
      "execution_count": 61,
      "outputs": []
    },
    {
      "cell_type": "code",
      "metadata": {
        "id": "XpxgSvz1GNUu"
      },
      "source": [
        "#Build Non-Sequential Model\n",
        "model_multi = tf.keras.Model([input_1, input_2, input_3], #3 Inputs\n",
        "                             op) #Output"
      ],
      "execution_count": 62,
      "outputs": []
    },
    {
      "cell_type": "code",
      "metadata": {
        "id": "tFKmR18FGdO0"
      },
      "source": [
        "#compile model\n",
        "model_multi.compile(optimizer='adam', loss='mae')"
      ],
      "execution_count": 63,
      "outputs": []
    },
    {
      "cell_type": "markdown",
      "metadata": {
        "id": "vD8_Mbr0Gm-M"
      },
      "source": [
        "##### Model Training"
      ]
    },
    {
      "cell_type": "code",
      "metadata": {
        "id": "MjSyetM4GmQP",
        "colab": {
          "base_uri": "https://localhost:8080/"
        },
        "outputId": "bcf7f666-3cc3-41d2-aa31-d95f1241cc5e"
      },
      "source": [
        "model_multi.summary()"
      ],
      "execution_count": 64,
      "outputs": [
        {
          "output_type": "stream",
          "name": "stdout",
          "text": [
            "Model: \"model\"\n",
            "__________________________________________________________________________________________________\n",
            " Layer (type)                   Output Shape         Param #     Connected to                     \n",
            "==================================================================================================\n",
            " input_1 (InputLayer)           [(None, 20, 1)]      0           []                               \n",
            "                                                                                                  \n",
            " input_2 (InputLayer)           [(None, 15, 1)]      0           []                               \n",
            "                                                                                                  \n",
            " input_3 (InputLayer)           [(None, 10, 1)]      0           []                               \n",
            "                                                                                                  \n",
            " lstm_1 (LSTM)                  (None, 8)            320         ['input_1[0][0]']                \n",
            "                                                                                                  \n",
            " lstm_2 (LSTM)                  (None, 8)            320         ['input_2[0][0]']                \n",
            "                                                                                                  \n",
            " lstm_3 (LSTM)                  (None, 8)            320         ['input_3[0][0]']                \n",
            "                                                                                                  \n",
            " concatenate (Concatenate)      (None, 24)           0           ['lstm_1[0][0]',                 \n",
            "                                                                  'lstm_2[0][0]',                 \n",
            "                                                                  'lstm_3[0][0]']                 \n",
            "                                                                                                  \n",
            " dense_1 (Dense)                (None, 1)            25          ['concatenate[0][0]']            \n",
            "                                                                                                  \n",
            "==================================================================================================\n",
            "Total params: 985\n",
            "Trainable params: 985\n",
            "Non-trainable params: 0\n",
            "__________________________________________________________________________________________________\n"
          ]
        }
      ]
    },
    {
      "cell_type": "markdown",
      "metadata": {
        "id": "M__bvuk0GySk"
      },
      "source": [
        "We need to feed 3 inputs. Each input will be 3 dimensional"
      ]
    },
    {
      "cell_type": "code",
      "metadata": {
        "id": "_SWP2u8KG3Gd"
      },
      "source": [
        "#Build data for training\n",
        "train_x_multi_1 = np.reshape(np.array(train_x_multi[0]), (len(train_x_multi[0]),len(train_x_multi[0][1]),1 ))\n",
        "train_x_multi_2 = np.reshape(np.array(train_x_multi[1]), (len(train_x_multi[1]),len(train_x_multi[1][1]),1 ))\n",
        "train_x_multi_3 = np.reshape(np.array(train_x_multi[2]), (len(train_x_multi[2]),len(train_x_multi[2][1]),1 ))"
      ],
      "execution_count": 65,
      "outputs": []
    },
    {
      "cell_type": "code",
      "metadata": {
        "id": "6bdjkAeQH1WN",
        "colab": {
          "base_uri": "https://localhost:8080/"
        },
        "outputId": "4de98aaf-7b8b-4711-85f0-147b8db5bea6"
      },
      "source": [
        "train_x_multi_1.shape"
      ],
      "execution_count": 66,
      "outputs": [
        {
          "output_type": "execute_result",
          "data": {
            "text/plain": [
              "(336420, 20, 1)"
            ]
          },
          "metadata": {},
          "execution_count": 66
        }
      ]
    },
    {
      "cell_type": "code",
      "metadata": {
        "id": "RcU5QwTVIHi-"
      },
      "source": [
        "#Build data for test\n",
        "test_x_multi_1 = np.reshape(np.array(test_x_multi[0]), (len(test_x_multi[0]),len(test_x_multi[0][1]),1 ))\n",
        "test_x_multi_2 = np.reshape(np.array(test_x_multi[1]), (len(test_x_multi[1]),len(test_x_multi[1][1]),1 ))\n",
        "test_x_multi_3 = np.reshape(np.array(test_x_multi[2]), (len(test_x_multi[2]),len(test_x_multi[2][1]),1 ))"
      ],
      "execution_count": 67,
      "outputs": []
    },
    {
      "cell_type": "code",
      "metadata": {
        "id": "Z6JaRoa-Gri6",
        "colab": {
          "base_uri": "https://localhost:8080/"
        },
        "outputId": "b9e8a381-bf97-48bb-8f2c-c88f403c13e2"
      },
      "source": [
        "#Model training\n",
        "model_multi.fit([train_x_multi_1, train_x_multi_2, train_x_multi_3], np.array(train_y_multi),\n",
        "                validation_data=([test_x_multi_1, test_x_multi_2, test_x_multi_3], np.array(test_y_multi)),\n",
        "                epochs=10,\n",
        "                batch_size=256)"
      ],
      "execution_count": 68,
      "outputs": [
        {
          "output_type": "stream",
          "name": "stdout",
          "text": [
            "Epoch 1/10\n",
            "1315/1315 [==============================] - 20s 11ms/step - loss: 0.0767 - val_loss: 0.0241\n",
            "Epoch 2/10\n",
            "1315/1315 [==============================] - 12s 9ms/step - loss: 0.0206 - val_loss: 0.0192\n",
            "Epoch 3/10\n",
            "1315/1315 [==============================] - 13s 10ms/step - loss: 0.0182 - val_loss: 0.0178\n",
            "Epoch 4/10\n",
            "1315/1315 [==============================] - 13s 10ms/step - loss: 0.0172 - val_loss: 0.0179\n",
            "Epoch 5/10\n",
            "1315/1315 [==============================] - 12s 9ms/step - loss: 0.0166 - val_loss: 0.0172\n",
            "Epoch 6/10\n",
            "1315/1315 [==============================] - 12s 9ms/step - loss: 0.0163 - val_loss: 0.0171\n",
            "Epoch 7/10\n",
            "1315/1315 [==============================] - 12s 9ms/step - loss: 0.0162 - val_loss: 0.0176\n",
            "Epoch 8/10\n",
            "1315/1315 [==============================] - 11s 9ms/step - loss: 0.0159 - val_loss: 0.0162\n",
            "Epoch 9/10\n",
            "1315/1315 [==============================] - 11s 9ms/step - loss: 0.0159 - val_loss: 0.0170\n",
            "Epoch 10/10\n",
            "1315/1315 [==============================] - 12s 9ms/step - loss: 0.0158 - val_loss: 0.0160\n"
          ]
        },
        {
          "output_type": "execute_result",
          "data": {
            "text/plain": [
              "<keras.callbacks.History at 0x7e89195de0b0>"
            ]
          },
          "metadata": {},
          "execution_count": 68
        }
      ]
    },
    {
      "cell_type": "markdown",
      "metadata": {
        "id": "6ZIjnsQwJoWb"
      },
      "source": [
        "Visualize Model Prediction"
      ]
    },
    {
      "cell_type": "code",
      "metadata": {
        "id": "Yw3a_7jvIke3",
        "colab": {
          "base_uri": "https://localhost:8080/",
          "height": 447
        },
        "outputId": "7705a2da-fcff-47ae-81e9-b917f5f26f05"
      },
      "source": [
        "#Pick a test example\n",
        "exp_num = np.random.randint(0, len(test_y_multi))\n",
        "\n",
        "#Prepare 3 batch inputs - each 3 dimensional\n",
        "in_1 = np.expand_dims(np.array(test_x_multi[0][exp_num]), axis=0)\n",
        "in_2 = np.expand_dims(np.array(test_x_multi[1][exp_num]), axis=0)\n",
        "in_3 = np.expand_dims(np.array(test_x_multi[2][exp_num]), axis=0)\n",
        "\n",
        "#Make prediction\n",
        "prediction = model_multi.predict([in_1, in_2, in_3])\n",
        "\n",
        "#Visualize\n",
        "show_example(in_1[0], test_y_multi[exp_num], prediction[0])"
      ],
      "execution_count": 69,
      "outputs": [
        {
          "output_type": "stream",
          "name": "stdout",
          "text": [
            "1/1 [==============================] - 1s 1s/step\n"
          ]
        },
        {
          "output_type": "display_data",
          "data": {
            "text/plain": [
              "<Figure size 640x480 with 1 Axes>"
            ],
            "image/png": "[encoded data removed]"
          },
          "metadata": {}
        }
      ]
    },
    {
      "cell_type": "code",
      "source": [],
      "metadata": {
        "id": "E-8HcDyzC2fq"
      },
      "execution_count": 69,
      "outputs": []
    }
  ]
}