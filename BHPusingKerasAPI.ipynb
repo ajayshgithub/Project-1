{
  "nbformat": 4,
  "nbformat_minor": 0,
  "metadata": {
    "colab": {
      "provenance": [],
      "authorship_tag": "ABX9TyMNl1iwerLrKo7qc7nmgOLK",
      "include_colab_link": true
    },
    "kernelspec": {
      "name": "python3",
      "display_name": "Python 3"
    },
    "language_info": {
      "name": "python"
    }
  },
  "cells": [
    {
      "cell_type": "markdown",
      "metadata": {
        "id": "view-in-github",
        "colab_type": "text"
      },
      "source": [
        "<a href=\"https://colab.research.google.com/github/ajayshgithub/Project-1/blob/main/BHPusingKerasAPI.ipynb\" target=\"_parent\"><img src=\"https://colab.research.google.com/assets/colab-badge.svg\" alt=\"Open In Colab\"/></a>"
      ]
    },
    {
      "cell_type": "markdown",
      "source": [
        "Load Tensorflow\n"
      ],
      "metadata": {
        "id": "Y7DDtzbiP5nl"
      }
    },
    {
      "cell_type": "code",
      "source": [
        "%tensorflow_version 2.x"
      ],
      "metadata": {
        "colab": {
          "base_uri": "https://localhost:8080/"
        },
        "id": "u6SUaFdfUBvU",
        "outputId": "2715c852-4128-496e-f46e-dc2c2aa120f0"
      },
      "execution_count": null,
      "outputs": [
        {
          "output_type": "stream",
          "name": "stdout",
          "text": [
            "Colab only includes TensorFlow 2.x; %tensorflow_version has no effect.\n"
          ]
        }
      ]
    },
    {
      "cell_type": "code",
      "execution_count": null,
      "metadata": {
        "colab": {
          "base_uri": "https://localhost:8080/",
          "height": 35
        },
        "id": "gMSDx4F_PvsJ",
        "outputId": "fe022797-d060-49b1-8e7f-31599e3ec951"
      },
      "outputs": [
        {
          "output_type": "execute_result",
          "data": {
            "text/plain": [
              "'2.11.0'"
            ],
            "application/vnd.google.colaboratory.intrinsic+json": {
              "type": "string"
            }
          },
          "metadata": {},
          "execution_count": 2
        }
      ],
      "source": [
        "import tensorflow as tf\n",
        "tf.__version__"
      ]
    },
    {
      "cell_type": "markdown",
      "source": [
        "Collect Data"
      ],
      "metadata": {
        "id": "LOjWjHiuQGVG"
      }
    },
    {
      "cell_type": "code",
      "source": [
        "#Load Boston Housing Dataset\n",
        "(train_x, train_y),(_,_) = tf.keras.datasets.boston_housing.load_data(test_split=0)\n",
        "\n",
        "#No need to change float notation with Keras API as it is automatically taken care of"
      ],
      "metadata": {
        "id": "isdmlR22QFbi",
        "colab": {
          "base_uri": "https://localhost:8080/"
        },
        "outputId": "a884e70e-5a79-4493-bb35-c176f5701aea"
      },
      "execution_count": null,
      "outputs": [
        {
          "output_type": "stream",
          "name": "stdout",
          "text": [
            "Downloading data from https://storage.googleapis.com/tensorflow/tf-keras-datasets/boston_housing.npz\n",
            "57026/57026 [==============================] - 0s 0us/step\n"
          ]
        }
      ]
    },
    {
      "cell_type": "markdown",
      "source": [
        "Normalize input features"
      ],
      "metadata": {
        "id": "chbJlezlRAv4"
      }
    },
    {
      "cell_type": "code",
      "source": [
        "#Import MinMaxScaler from scikit learn\n",
        "from sklearn.preprocessing import MinMaxScaler"
      ],
      "metadata": {
        "id": "ndwiz7RfQhfk"
      },
      "execution_count": null,
      "outputs": []
    },
    {
      "cell_type": "code",
      "source": [
        "#Normalize the input features\n",
        "transformer = MinMaxScaler()\n",
        "train_x = transformer.fit_transform(train_x)"
      ],
      "metadata": {
        "id": "DZH-VDwDRV-P"
      },
      "execution_count": null,
      "outputs": []
    },
    {
      "cell_type": "markdown",
      "source": [
        "Building the Graph in Keras"
      ],
      "metadata": {
        "id": "vMHwnJXoR6cl"
      }
    },
    {
      "cell_type": "code",
      "source": [
        "#Initialize Sequential Graph(model)\n",
        "model = tf.keras.Sequential()\n",
        "\n",
        "#Add Dense layer for prediction- keras declares weights and bias automatically\n",
        "model.add(tf.keras.layers.Dense(1, input_shape=(13,)))\n",
        "#here 1 repesents only 1 equation  y=wx+b\n",
        "\n",
        "#Compile the model- add loss and gradient descent optimizer\n",
        "model.compile(optimizer='sgd' , loss='mse')"
      ],
      "metadata": {
        "id": "MabymLcAR-fe"
      },
      "execution_count": null,
      "outputs": []
    },
    {
      "cell_type": "markdown",
      "source": [
        "Execute the Graph"
      ],
      "metadata": {
        "id": "Ze0FHUY4S-xc"
      }
    },
    {
      "cell_type": "code",
      "source": [
        "#Train the model\n",
        "model.fit(train_x, train_y, epochs=100)"
      ],
      "metadata": {
        "id": "CDp8Tt66S2VX",
        "colab": {
          "base_uri": "https://localhost:8080/"
        },
        "outputId": "4653773b-37da-4ee4-d50e-4f8f6f1863c3"
      },
      "execution_count": null,
      "outputs": [
        {
          "output_type": "stream",
          "name": "stdout",
          "text": [
            "Epoch 1/100\n",
            "16/16 [==============================] - 1s 3ms/step - loss: 327.8958\n",
            "Epoch 2/100\n",
            "16/16 [==============================] - 0s 3ms/step - loss: 126.4548\n",
            "Epoch 3/100\n",
            "16/16 [==============================] - 0s 2ms/step - loss: 100.6808\n",
            "Epoch 4/100\n",
            "16/16 [==============================] - 0s 3ms/step - loss: 90.4137\n",
            "Epoch 5/100\n",
            "16/16 [==============================] - 0s 3ms/step - loss: 83.3185\n",
            "Epoch 6/100\n",
            "16/16 [==============================] - 0s 10ms/step - loss: 77.5225\n",
            "Epoch 7/100\n",
            "16/16 [==============================] - 0s 13ms/step - loss: 72.6756\n",
            "Epoch 8/100\n",
            "16/16 [==============================] - 0s 11ms/step - loss: 68.8299\n",
            "Epoch 9/100\n",
            "16/16 [==============================] - 0s 8ms/step - loss: 65.5556\n",
            "Epoch 10/100\n",
            "16/16 [==============================] - 0s 2ms/step - loss: 62.8214\n",
            "Epoch 11/100\n",
            "16/16 [==============================] - 0s 3ms/step - loss: 60.5044\n",
            "Epoch 12/100\n",
            "16/16 [==============================] - 0s 3ms/step - loss: 58.4380\n",
            "Epoch 13/100\n",
            "16/16 [==============================] - 0s 2ms/step - loss: 56.8240\n",
            "Epoch 14/100\n",
            "16/16 [==============================] - 0s 3ms/step - loss: 55.3128\n",
            "Epoch 15/100\n",
            "16/16 [==============================] - 0s 2ms/step - loss: 53.9631\n",
            "Epoch 16/100\n",
            "16/16 [==============================] - 0s 2ms/step - loss: 52.7942\n",
            "Epoch 17/100\n",
            "16/16 [==============================] - 0s 3ms/step - loss: 51.8799\n",
            "Epoch 18/100\n",
            "16/16 [==============================] - 0s 3ms/step - loss: 50.8351\n",
            "Epoch 19/100\n",
            "16/16 [==============================] - 0s 17ms/step - loss: 49.9804\n",
            "Epoch 20/100\n",
            "16/16 [==============================] - 0s 15ms/step - loss: 49.1863\n",
            "Epoch 21/100\n",
            "16/16 [==============================] - 0s 4ms/step - loss: 48.4934\n",
            "Epoch 22/100\n",
            "16/16 [==============================] - 0s 10ms/step - loss: 47.7871\n",
            "Epoch 23/100\n",
            "16/16 [==============================] - 0s 3ms/step - loss: 47.1502\n",
            "Epoch 24/100\n",
            "16/16 [==============================] - 0s 3ms/step - loss: 46.5287\n",
            "Epoch 25/100\n",
            "16/16 [==============================] - 0s 3ms/step - loss: 45.9770\n",
            "Epoch 26/100\n",
            "16/16 [==============================] - 0s 3ms/step - loss: 45.4137\n",
            "Epoch 27/100\n",
            "16/16 [==============================] - 0s 2ms/step - loss: 44.8713\n",
            "Epoch 28/100\n",
            "16/16 [==============================] - 0s 2ms/step - loss: 44.3875\n",
            "Epoch 29/100\n",
            "16/16 [==============================] - 0s 3ms/step - loss: 43.9833\n",
            "Epoch 30/100\n",
            "16/16 [==============================] - 0s 3ms/step - loss: 43.4113\n",
            "Epoch 31/100\n",
            "16/16 [==============================] - 0s 2ms/step - loss: 42.9779\n",
            "Epoch 32/100\n",
            "16/16 [==============================] - 0s 3ms/step - loss: 42.5400\n",
            "Epoch 33/100\n",
            "16/16 [==============================] - 0s 11ms/step - loss: 42.1144\n",
            "Epoch 34/100\n",
            "16/16 [==============================] - 0s 14ms/step - loss: 41.8117\n",
            "Epoch 35/100\n",
            "16/16 [==============================] - 0s 11ms/step - loss: 41.3750\n",
            "Epoch 36/100\n",
            "16/16 [==============================] - 0s 3ms/step - loss: 40.9892\n",
            "Epoch 37/100\n",
            "16/16 [==============================] - 0s 2ms/step - loss: 40.5636\n",
            "Epoch 38/100\n",
            "16/16 [==============================] - 0s 2ms/step - loss: 40.2779\n",
            "Epoch 39/100\n",
            "16/16 [==============================] - 0s 2ms/step - loss: 39.9058\n",
            "Epoch 40/100\n",
            "16/16 [==============================] - 0s 2ms/step - loss: 39.5511\n",
            "Epoch 41/100\n",
            "16/16 [==============================] - 0s 2ms/step - loss: 39.2314\n",
            "Epoch 42/100\n",
            "16/16 [==============================] - 0s 2ms/step - loss: 38.8840\n",
            "Epoch 43/100\n",
            "16/16 [==============================] - 0s 2ms/step - loss: 38.5991\n",
            "Epoch 44/100\n",
            "16/16 [==============================] - 0s 2ms/step - loss: 38.2390\n",
            "Epoch 45/100\n",
            "16/16 [==============================] - 0s 2ms/step - loss: 38.0051\n",
            "Epoch 46/100\n",
            "16/16 [==============================] - 0s 2ms/step - loss: 37.6706\n",
            "Epoch 47/100\n",
            "16/16 [==============================] - 0s 2ms/step - loss: 37.3748\n",
            "Epoch 48/100\n",
            "16/16 [==============================] - 0s 2ms/step - loss: 37.1277\n",
            "Epoch 49/100\n",
            "16/16 [==============================] - 0s 3ms/step - loss: 36.8487\n",
            "Epoch 50/100\n",
            "16/16 [==============================] - 0s 3ms/step - loss: 36.5822\n",
            "Epoch 51/100\n",
            "16/16 [==============================] - 0s 2ms/step - loss: 36.3526\n",
            "Epoch 52/100\n",
            "16/16 [==============================] - 0s 2ms/step - loss: 36.0487\n",
            "Epoch 53/100\n",
            "16/16 [==============================] - 0s 2ms/step - loss: 35.8231\n",
            "Epoch 54/100\n",
            "16/16 [==============================] - 0s 2ms/step - loss: 35.5782\n",
            "Epoch 55/100\n",
            "16/16 [==============================] - 0s 2ms/step - loss: 35.3186\n",
            "Epoch 56/100\n",
            "16/16 [==============================] - 0s 2ms/step - loss: 35.1561\n",
            "Epoch 57/100\n",
            "16/16 [==============================] - 0s 2ms/step - loss: 34.8919\n",
            "Epoch 58/100\n",
            "16/16 [==============================] - 0s 2ms/step - loss: 34.7124\n",
            "Epoch 59/100\n",
            "16/16 [==============================] - 0s 2ms/step - loss: 34.4721\n",
            "Epoch 60/100\n",
            "16/16 [==============================] - 0s 2ms/step - loss: 34.2949\n",
            "Epoch 61/100\n",
            "16/16 [==============================] - 0s 2ms/step - loss: 34.0484\n",
            "Epoch 62/100\n",
            "16/16 [==============================] - 0s 2ms/step - loss: 33.8516\n",
            "Epoch 63/100\n",
            "16/16 [==============================] - 0s 2ms/step - loss: 33.6381\n",
            "Epoch 64/100\n",
            "16/16 [==============================] - 0s 2ms/step - loss: 33.4409\n",
            "Epoch 65/100\n",
            "16/16 [==============================] - 0s 2ms/step - loss: 33.3233\n",
            "Epoch 66/100\n",
            "16/16 [==============================] - 0s 2ms/step - loss: 33.0872\n",
            "Epoch 67/100\n",
            "16/16 [==============================] - 0s 2ms/step - loss: 32.9645\n",
            "Epoch 68/100\n",
            "16/16 [==============================] - 0s 2ms/step - loss: 32.7784\n",
            "Epoch 69/100\n",
            "16/16 [==============================] - 0s 2ms/step - loss: 32.6264\n",
            "Epoch 70/100\n",
            "16/16 [==============================] - 0s 2ms/step - loss: 32.4782\n",
            "Epoch 71/100\n",
            "16/16 [==============================] - 0s 2ms/step - loss: 32.2926\n",
            "Epoch 72/100\n",
            "16/16 [==============================] - 0s 2ms/step - loss: 32.0950\n",
            "Epoch 73/100\n",
            "16/16 [==============================] - 0s 2ms/step - loss: 31.9873\n",
            "Epoch 74/100\n",
            "16/16 [==============================] - 0s 2ms/step - loss: 31.8318\n",
            "Epoch 75/100\n",
            "16/16 [==============================] - 0s 2ms/step - loss: 31.7287\n",
            "Epoch 76/100\n",
            "16/16 [==============================] - 0s 2ms/step - loss: 31.4799\n",
            "Epoch 77/100\n",
            "16/16 [==============================] - 0s 2ms/step - loss: 31.3792\n",
            "Epoch 78/100\n",
            "16/16 [==============================] - 0s 2ms/step - loss: 31.2229\n",
            "Epoch 79/100\n",
            "16/16 [==============================] - 0s 2ms/step - loss: 31.0609\n",
            "Epoch 80/100\n",
            "16/16 [==============================] - 0s 2ms/step - loss: 30.9979\n",
            "Epoch 81/100\n",
            "16/16 [==============================] - 0s 2ms/step - loss: 30.8579\n",
            "Epoch 82/100\n",
            "16/16 [==============================] - 0s 2ms/step - loss: 30.6773\n",
            "Epoch 83/100\n",
            "16/16 [==============================] - 0s 2ms/step - loss: 30.6197\n",
            "Epoch 84/100\n",
            "16/16 [==============================] - 0s 2ms/step - loss: 30.4490\n",
            "Epoch 85/100\n",
            "16/16 [==============================] - 0s 2ms/step - loss: 30.3453\n",
            "Epoch 86/100\n",
            "16/16 [==============================] - 0s 2ms/step - loss: 30.2616\n",
            "Epoch 87/100\n",
            "16/16 [==============================] - 0s 2ms/step - loss: 30.1202\n",
            "Epoch 88/100\n",
            "16/16 [==============================] - 0s 2ms/step - loss: 29.9890\n",
            "Epoch 89/100\n",
            "16/16 [==============================] - 0s 2ms/step - loss: 29.9133\n",
            "Epoch 90/100\n",
            "16/16 [==============================] - 0s 2ms/step - loss: 29.7529\n",
            "Epoch 91/100\n",
            "16/16 [==============================] - 0s 2ms/step - loss: 29.6455\n",
            "Epoch 92/100\n",
            "16/16 [==============================] - 0s 2ms/step - loss: 29.5574\n",
            "Epoch 93/100\n",
            "16/16 [==============================] - 0s 2ms/step - loss: 29.4520\n",
            "Epoch 94/100\n",
            "16/16 [==============================] - 0s 2ms/step - loss: 29.3268\n",
            "Epoch 95/100\n",
            "16/16 [==============================] - 0s 2ms/step - loss: 29.2267\n",
            "Epoch 96/100\n",
            "16/16 [==============================] - 0s 2ms/step - loss: 29.1539\n",
            "Epoch 97/100\n",
            "16/16 [==============================] - 0s 2ms/step - loss: 29.0472\n",
            "Epoch 98/100\n",
            "16/16 [==============================] - 0s 2ms/step - loss: 28.9410\n",
            "Epoch 99/100\n",
            "16/16 [==============================] - 0s 2ms/step - loss: 28.8704\n",
            "Epoch 100/100\n",
            "16/16 [==============================] - 0s 2ms/step - loss: 28.7592\n"
          ]
        },
        {
          "output_type": "execute_result",
          "data": {
            "text/plain": [
              "<keras.callbacks.History at 0x7fe13c3a6ac0>"
            ]
          },
          "metadata": {},
          "execution_count": 7
        }
      ]
    },
    {
      "cell_type": "code",
      "source": [
        "#Check model weights\n",
        "model.get_weights()"
      ],
      "metadata": {
        "colab": {
          "base_uri": "https://localhost:8080/"
        },
        "id": "0AZIGMg5THoC",
        "outputId": "75315dcb-e4f9-46cd-b720-51f982ba7a0e"
      },
      "execution_count": null,
      "outputs": [
        {
          "output_type": "execute_result",
          "data": {
            "text/plain": [
              "[array([[ -1.6180788 ],\n",
              "        [  4.2028675 ],\n",
              "        [ -1.7650368 ],\n",
              "        [  4.115849  ],\n",
              "        [ -0.73137075],\n",
              "        [ 18.00707   ],\n",
              "        [  1.7301326 ],\n",
              "        [ -0.8159915 ],\n",
              "        [  1.6140555 ],\n",
              "        [ -2.4528325 ],\n",
              "        [ -5.491108  ],\n",
              "        [  8.042758  ],\n",
              "        [-11.797028  ]], dtype=float32), array([12.548626], dtype=float32)]"
            ]
          },
          "metadata": {},
          "execution_count": 8
        }
      ]
    },
    {
      "cell_type": "markdown",
      "source": [
        "Save the Model"
      ],
      "metadata": {
        "id": "2W1UbTZNUl14"
      }
    },
    {
      "cell_type": "code",
      "source": [
        "#Saving the model\n",
        "model.save('boston_housing_lr.h5')\n"
      ],
      "metadata": {
        "id": "Qpk97mVDUngX"
      },
      "execution_count": null,
      "outputs": []
    },
    {
      "cell_type": "code",
      "source": [
        "!ls -l"
      ],
      "metadata": {
        "id": "dgpjGq1bVo8l",
        "colab": {
          "base_uri": "https://localhost:8080/"
        },
        "outputId": "155987d4-310f-462e-d83b-82133312b5cd"
      },
      "execution_count": null,
      "outputs": [
        {
          "output_type": "stream",
          "name": "stdout",
          "text": [
            "total 24\n",
            "-rw-r--r-- 1 root root 17600 Mar 26 07:17 boston_housing_lr.h5\n",
            "drwxr-xr-x 1 root root  4096 Mar 23 18:57 sample_data\n"
          ]
        }
      ]
    },
    {
      "cell_type": "markdown",
      "source": [
        "Model Prediction"
      ],
      "metadata": {
        "id": "jfLaEPWJY90n"
      }
    },
    {
      "cell_type": "code",
      "source": [
        "import tensorflow as tf"
      ],
      "metadata": {
        "id": "UYscgQmeVrvl"
      },
      "execution_count": null,
      "outputs": []
    },
    {
      "cell_type": "code",
      "source": [
        "#Load the saved model, you will usually do it in a different program\n",
        "model = tf.keras.models.load_model('boston_housing_lr.h5')"
      ],
      "metadata": {
        "id": "TECuSJMHZ3GZ"
      },
      "execution_count": null,
      "outputs": []
    },
    {
      "cell_type": "code",
      "source": [
        "#Prepare data on which you want to predict , here we need 13 input features\n",
        "input_data = [1.23, 0, 8.14, 0, 0.54, 6.14, 91.7, 3.98, 4, 307, 21, 396.9, 18.72]"
      ],
      "metadata": {
        "id": "BCpAzaPyaK2P"
      },
      "execution_count": null,
      "outputs": []
    },
    {
      "cell_type": "code",
      "source": [
        "#Convert the data to numpy array\n",
        "import numpy as np\n",
        "input_data= np.reshape(input_data,(1,13))\n",
        "\n",
        "#Check the input data shape, it should be(1,13) i.e. one example with 13 features\n",
        "input_data.shape"
      ],
      "metadata": {
        "colab": {
          "base_uri": "https://localhost:8080/"
        },
        "id": "f6eokaIbalO_",
        "outputId": "14112639-761a-4a21-886e-335e319a537f"
      },
      "execution_count": null,
      "outputs": [
        {
          "output_type": "execute_result",
          "data": {
            "text/plain": [
              "(1, 13)"
            ]
          },
          "metadata": {},
          "execution_count": 15
        }
      ]
    },
    {
      "cell_type": "code",
      "source": [
        "#Check the data\n",
        "input_data"
      ],
      "metadata": {
        "colab": {
          "base_uri": "https://localhost:8080/"
        },
        "id": "-Fmyoa0sbC5o",
        "outputId": "abfc1aee-6d6e-4014-fc81-d85d8242f853"
      },
      "execution_count": null,
      "outputs": [
        {
          "output_type": "execute_result",
          "data": {
            "text/plain": [
              "array([[  1.23,   0.  ,   8.14,   0.  ,   0.54,   6.14,  91.7 ,   3.98,\n",
              "          4.  , 307.  ,  21.  , 396.9 ,  18.72]])"
            ]
          },
          "metadata": {},
          "execution_count": 16
        }
      ]
    },
    {
      "cell_type": "code",
      "source": [
        "#Normalize the data with MinMaxScaler - WE NEED TO DO SAME DATA PRE-PROCESSING as done during training\n",
        "input_data = transformer.transform(input_data)\n",
        "\n",
        "#Print normalize input_data\n",
        "input_data"
      ],
      "metadata": {
        "colab": {
          "base_uri": "https://localhost:8080/"
        },
        "id": "0NRVBbrfbMmQ",
        "outputId": "97621c8c-4de0-4e70-c567-7b92a8e00a20"
      },
      "execution_count": null,
      "outputs": [
        {
          "output_type": "execute_result",
          "data": {
            "text/plain": [
              "array([[0.01375387, 0.        , 0.28152493, 0.        , 0.31893004,\n",
              "        0.49415597, 0.91452111, 0.25920032, 0.13043478, 0.22900763,\n",
              "        0.89361702, 1.        , 0.46881898]])"
            ]
          },
          "metadata": {},
          "execution_count": 17
        }
      ]
    },
    {
      "cell_type": "code",
      "source": [
        "#Prediction on input_data\n",
        "model.predict(input_data)"
      ],
      "metadata": {
        "colab": {
          "base_uri": "https://localhost:8080/"
        },
        "id": "ZcRPgFMfbvFh",
        "outputId": "bcb09707-09ff-42e9-a0b0-c7c361cafb50"
      },
      "execution_count": null,
      "outputs": [
        {
          "output_type": "stream",
          "name": "stdout",
          "text": [
            "1/1 [==============================] - 0s 98ms/step\n"
          ]
        },
        {
          "output_type": "execute_result",
          "data": {
            "text/plain": [
              "array([[19.319204]], dtype=float32)"
            ]
          },
          "metadata": {},
          "execution_count": 18
        }
      ]
    },
    {
      "cell_type": "code",
      "source": [],
      "metadata": {
        "id": "gBaBDa1vb7r2"
      },
      "execution_count": null,
      "outputs": []
    }
  ]
}