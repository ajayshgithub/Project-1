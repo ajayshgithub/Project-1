{
  "nbformat": 4,
  "nbformat_minor": 0,
  "metadata": {
    "colab": {
      "provenance": [],
      "gpuType": "T4",
      "authorship_tag": "ABX9TyMRWuasgWQsdLSeWF6OW2HM",
      "include_colab_link": true
    },
    "kernelspec": {
      "name": "python3",
      "display_name": "Python 3"
    },
    "language_info": {
      "name": "python"
    },
    "accelerator": "GPU"
  },
  "cells": [
    {
      "cell_type": "markdown",
      "metadata": {
        "id": "view-in-github",
        "colab_type": "text"
      },
      "source": [
        "<a href=\"https://colab.research.google.com/github/ajayshgithub/Project-1/blob/main/Project_WeatherForecast_using_Time_Series_with_LSTM.ipynb\" target=\"_parent\"><img src=\"https://colab.research.google.com/assets/colab-badge.svg\" alt=\"Open In Colab\"/></a>"
      ]
    },
    {
      "cell_type": "markdown",
      "metadata": {
        "id": "b8ewHTEJUO-0"
      },
      "source": [
        "#### Download data"
      ]
    },
    {
      "cell_type": "markdown",
      "metadata": {
        "id": "HPLC4rjgUYcu"
      },
      "source": [
        "We will use [weather data](https://www.bgc-jena.mpg.de/wetter/) provided by [Max Plank Institute for BiogeoChemistry](https://www.bgc-jena.mpg.de)."
      ]
    },
    {
      "cell_type": "code",
      "metadata": {
        "id": "_gJFl3t7T9mH"
      },
      "source": [
        "#Download the data\n",
        "!wget https://storage.googleapis.com/tensorflow/tf-keras-datasets/jena_climate_2009_2016.csv.zip --quiet"
      ],
      "execution_count": 1,
      "outputs": []
    },
    {
      "cell_type": "code",
      "metadata": {
        "id": "QA1E1n_dU-s2",
        "colab": {
          "base_uri": "https://localhost:8080/"
        },
        "outputId": "53d66dbf-108d-4158-c59f-605225b8000c"
      },
      "source": [
        "!ls -l"
      ],
      "execution_count": 2,
      "outputs": [
        {
          "output_type": "stream",
          "name": "stdout",
          "text": [
            "total 13256\n",
            "-rw-r--r-- 1 root root 13568290 Jul 24  2019 jena_climate_2009_2016.csv.zip\n",
            "drwxr-xr-x 1 root root     4096 Aug 17 13:29 sample_data\n"
          ]
        }
      ]
    },
    {
      "cell_type": "code",
      "metadata": {
        "id": "_dYjJ0fjVCaa",
        "colab": {
          "base_uri": "https://localhost:8080/"
        },
        "outputId": "017c3af2-489e-43dd-8b3f-c333ad21f749"
      },
      "source": [
        "#Unzip the file\n",
        "!unzip jena_climate_2009_2016.csv.zip"
      ],
      "execution_count": 3,
      "outputs": [
        {
          "output_type": "stream",
          "name": "stdout",
          "text": [
            "Archive:  jena_climate_2009_2016.csv.zip\n",
            "  inflating: jena_climate_2009_2016.csv  \n"
          ]
        }
      ]
    },
    {
      "cell_type": "code",
      "metadata": {
        "id": "Tn0OHK5fVHUM",
        "colab": {
          "base_uri": "https://localhost:8080/"
        },
        "outputId": "22c4f08f-3334-426b-9f5b-b8ff7dbdef87"
      },
      "source": [
        "!ls -l"
      ],
      "execution_count": 4,
      "outputs": [
        {
          "output_type": "stream",
          "name": "stdout",
          "text": [
            "total 55412\n",
            "-rw-r--r-- 1 root root 43164220 Mar 19  2017 jena_climate_2009_2016.csv\n",
            "-rw-r--r-- 1 root root 13568290 Jul 24  2019 jena_climate_2009_2016.csv.zip\n",
            "drwxr-xr-x 1 root root     4096 Aug 17 13:29 sample_data\n"
          ]
        }
      ]
    },
    {
      "cell_type": "markdown",
      "source": [
        "##Data Exploration"
      ],
      "metadata": {
        "id": "ULAeDqZBjSPG"
      }
    },
    {
      "cell_type": "code",
      "execution_count": 5,
      "metadata": {
        "id": "rlf2IMyFi2cn"
      },
      "outputs": [],
      "source": [
        "import pandas as pd\n",
        "from matplotlib import pyplot as plt\n",
        "import numpy as np"
      ]
    },
    {
      "cell_type": "code",
      "source": [
        "#Read Dataset\n",
        "df = pd.read_csv('jena_climate_2009_2016.csv')"
      ],
      "metadata": {
        "id": "56rQmNG6ja_A"
      },
      "execution_count": 6,
      "outputs": []
    },
    {
      "cell_type": "code",
      "source": [
        "#Let's chcck the dataset contents\n",
        "df.sample(n=5)"
      ],
      "metadata": {
        "colab": {
          "base_uri": "https://localhost:8080/",
          "height": 310
        },
        "id": "X-pEWuCbjl1n",
        "outputId": "b1fa7896-328e-4a12-ab93-d0c3ce8def77"
      },
      "execution_count": 7,
      "outputs": [
        {
          "output_type": "execute_result",
          "data": {
            "text/plain": [
              "                  Date Time  p (mbar)  T (degC)  Tpot (K)  Tdew (degC)  \\\n",
              "254109  30.10.2013 16:10:00    997.21     11.21    284.60         1.23   \n",
              "377477  04.03.2016 19:00:00    971.81      5.12    280.57        -1.40   \n",
              "183168  25.06.2012 00:30:00    985.21     12.26    286.64         9.16   \n",
              "13387   03.04.2009 23:20:00    990.47     10.27    284.21         5.62   \n",
              "18728   11.05.2009 01:30:00    992.27     10.47    284.26         7.85   \n",
              "\n",
              "        rh (%)  VPmax (mbar)  VPact (mbar)  VPdef (mbar)  sh (g/kg)  \\\n",
              "254109   50.09         13.33          6.68          6.65       4.17   \n",
              "377477   62.63          8.80          5.51          3.29       3.54   \n",
              "183168   81.30         14.29         11.62          2.67       7.37   \n",
              "13387    72.80         12.52          9.11          3.40       5.74   \n",
              "18728    83.80         12.69         10.63          2.06       6.69   \n",
              "\n",
              "        H2OC (mmol/mol)  rho (g/m**3)  wv (m/s)  max. wv (m/s)  wd (deg)  \n",
              "254109             6.69       1218.52      1.43           2.24     236.1  \n",
              "377477             5.67       1213.93      3.59           6.11     168.9  \n",
              "183168            11.79       1197.11      1.30           3.00     238.6  \n",
              "13387              9.20       1213.14      1.32           2.50     179.1  \n",
              "18728             10.71       1213.79      0.21           0.63     173.5  "
            ],
            "text/html": [
              "\n",
              "  <div id=\"df-9cd307f0-43d7-48fd-97f6-a4a3f5ca71bb\" class=\"colab-df-container\">\n",
              "    <div>\n",
              "<style scoped>\n",
              "    .dataframe tbody tr th:only-of-type {\n",
              "        vertical-align: middle;\n",
              "    }\n",
              "\n",
              "    .dataframe tbody tr th {\n",
              "        vertical-align: top;\n",
              "    }\n",
              "\n",
              "    .dataframe thead th {\n",
              "        text-align: right;\n",
              "    }\n",
              "</style>\n",
              "<table border=\"1\" class=\"dataframe\">\n",
              "  <thead>\n",
              "    <tr style=\"text-align: right;\">\n",
              "      <th></th>\n",
              "      <th>Date Time</th>\n",
              "      <th>p (mbar)</th>\n",
              "      <th>T (degC)</th>\n",
              "      <th>Tpot (K)</th>\n",
              "      <th>Tdew (degC)</th>\n",
              "      <th>rh (%)</th>\n",
              "      <th>VPmax (mbar)</th>\n",
              "      <th>VPact (mbar)</th>\n",
              "      <th>VPdef (mbar)</th>\n",
              "      <th>sh (g/kg)</th>\n",
              "      <th>H2OC (mmol/mol)</th>\n",
              "      <th>rho (g/m**3)</th>\n",
              "      <th>wv (m/s)</th>\n",
              "      <th>max. wv (m/s)</th>\n",
              "      <th>wd (deg)</th>\n",
              "    </tr>\n",
              "  </thead>\n",
              "  <tbody>\n",
              "    <tr>\n",
              "      <th>254109</th>\n",
              "      <td>30.10.2013 16:10:00</td>\n",
              "      <td>997.21</td>\n",
              "      <td>11.21</td>\n",
              "      <td>284.60</td>\n",
              "      <td>1.23</td>\n",
              "      <td>50.09</td>\n",
              "      <td>13.33</td>\n",
              "      <td>6.68</td>\n",
              "      <td>6.65</td>\n",
              "      <td>4.17</td>\n",
              "      <td>6.69</td>\n",
              "      <td>1218.52</td>\n",
              "      <td>1.43</td>\n",
              "      <td>2.24</td>\n",
              "      <td>236.1</td>\n",
              "    </tr>\n",
              "    <tr>\n",
              "      <th>377477</th>\n",
              "      <td>04.03.2016 19:00:00</td>\n",
              "      <td>971.81</td>\n",
              "      <td>5.12</td>\n",
              "      <td>280.57</td>\n",
              "      <td>-1.40</td>\n",
              "      <td>62.63</td>\n",
              "      <td>8.80</td>\n",
              "      <td>5.51</td>\n",
              "      <td>3.29</td>\n",
              "      <td>3.54</td>\n",
              "      <td>5.67</td>\n",
              "      <td>1213.93</td>\n",
              "      <td>3.59</td>\n",
              "      <td>6.11</td>\n",
              "      <td>168.9</td>\n",
              "    </tr>\n",
              "    <tr>\n",
              "      <th>183168</th>\n",
              "      <td>25.06.2012 00:30:00</td>\n",
              "      <td>985.21</td>\n",
              "      <td>12.26</td>\n",
              "      <td>286.64</td>\n",
              "      <td>9.16</td>\n",
              "      <td>81.30</td>\n",
              "      <td>14.29</td>\n",
              "      <td>11.62</td>\n",
              "      <td>2.67</td>\n",
              "      <td>7.37</td>\n",
              "      <td>11.79</td>\n",
              "      <td>1197.11</td>\n",
              "      <td>1.30</td>\n",
              "      <td>3.00</td>\n",
              "      <td>238.6</td>\n",
              "    </tr>\n",
              "    <tr>\n",
              "      <th>13387</th>\n",
              "      <td>03.04.2009 23:20:00</td>\n",
              "      <td>990.47</td>\n",
              "      <td>10.27</td>\n",
              "      <td>284.21</td>\n",
              "      <td>5.62</td>\n",
              "      <td>72.80</td>\n",
              "      <td>12.52</td>\n",
              "      <td>9.11</td>\n",
              "      <td>3.40</td>\n",
              "      <td>5.74</td>\n",
              "      <td>9.20</td>\n",
              "      <td>1213.14</td>\n",
              "      <td>1.32</td>\n",
              "      <td>2.50</td>\n",
              "      <td>179.1</td>\n",
              "    </tr>\n",
              "    <tr>\n",
              "      <th>18728</th>\n",
              "      <td>11.05.2009 01:30:00</td>\n",
              "      <td>992.27</td>\n",
              "      <td>10.47</td>\n",
              "      <td>284.26</td>\n",
              "      <td>7.85</td>\n",
              "      <td>83.80</td>\n",
              "      <td>12.69</td>\n",
              "      <td>10.63</td>\n",
              "      <td>2.06</td>\n",
              "      <td>6.69</td>\n",
              "      <td>10.71</td>\n",
              "      <td>1213.79</td>\n",
              "      <td>0.21</td>\n",
              "      <td>0.63</td>\n",
              "      <td>173.5</td>\n",
              "    </tr>\n",
              "  </tbody>\n",
              "</table>\n",
              "</div>\n",
              "    <div class=\"colab-df-buttons\">\n",
              "\n",
              "  <div class=\"colab-df-container\">\n",
              "    <button class=\"colab-df-convert\" onclick=\"convertToInteractive('df-9cd307f0-43d7-48fd-97f6-a4a3f5ca71bb')\"\n",
              "            title=\"Convert this dataframe to an interactive table.\"\n",
              "            style=\"display:none;\">\n",
              "\n",
              "  <svg xmlns=\"http://www.w3.org/2000/svg\" height=\"24px\" viewBox=\"0 -960 960 960\">\n",
              "    <path d=\"M120-120v-720h720v720H120Zm60-500h600v-160H180v160Zm220 220h160v-160H400v160Zm0 220h160v-160H400v160ZM180-400h160v-160H180v160Zm440 0h160v-160H620v160ZM180-180h160v-160H180v160Zm440 0h160v-160H620v160Z\"/>\n",
              "  </svg>\n",
              "    </button>\n",
              "\n",
              "  <style>\n",
              "    .colab-df-container {\n",
              "      display:flex;\n",
              "      gap: 12px;\n",
              "    }\n",
              "\n",
              "    .colab-df-convert {\n",
              "      background-color: #E8F0FE;\n",
              "      border: none;\n",
              "      border-radius: 50%;\n",
              "      cursor: pointer;\n",
              "      display: none;\n",
              "      fill: #1967D2;\n",
              "      height: 32px;\n",
              "      padding: 0 0 0 0;\n",
              "      width: 32px;\n",
              "    }\n",
              "\n",
              "    .colab-df-convert:hover {\n",
              "      background-color: #E2EBFA;\n",
              "      box-shadow: 0px 1px 2px rgba(60, 64, 67, 0.3), 0px 1px 3px 1px rgba(60, 64, 67, 0.15);\n",
              "      fill: #174EA6;\n",
              "    }\n",
              "\n",
              "    .colab-df-buttons div {\n",
              "      margin-bottom: 4px;\n",
              "    }\n",
              "\n",
              "    [theme=dark] .colab-df-convert {\n",
              "      background-color: #3B4455;\n",
              "      fill: #D2E3FC;\n",
              "    }\n",
              "\n",
              "    [theme=dark] .colab-df-convert:hover {\n",
              "      background-color: #434B5C;\n",
              "      box-shadow: 0px 1px 3px 1px rgba(0, 0, 0, 0.15);\n",
              "      filter: drop-shadow(0px 1px 2px rgba(0, 0, 0, 0.3));\n",
              "      fill: #FFFFFF;\n",
              "    }\n",
              "  </style>\n",
              "\n",
              "    <script>\n",
              "      const buttonEl =\n",
              "        document.querySelector('#df-9cd307f0-43d7-48fd-97f6-a4a3f5ca71bb button.colab-df-convert');\n",
              "      buttonEl.style.display =\n",
              "        google.colab.kernel.accessAllowed ? 'block' : 'none';\n",
              "\n",
              "      async function convertToInteractive(key) {\n",
              "        const element = document.querySelector('#df-9cd307f0-43d7-48fd-97f6-a4a3f5ca71bb');\n",
              "        const dataTable =\n",
              "          await google.colab.kernel.invokeFunction('convertToInteractive',\n",
              "                                                    [key], {});\n",
              "        if (!dataTable) return;\n",
              "\n",
              "        const docLinkHtml = 'Like what you see? Visit the ' +\n",
              "          '<a target=\"_blank\" href=https://colab.research.google.com/notebooks/data_table.ipynb>data table notebook</a>'\n",
              "          + ' to learn more about interactive tables.';\n",
              "        element.innerHTML = '';\n",
              "        dataTable['output_type'] = 'display_data';\n",
              "        await google.colab.output.renderOutput(dataTable, element);\n",
              "        const docLink = document.createElement('div');\n",
              "        docLink.innerHTML = docLinkHtml;\n",
              "        element.appendChild(docLink);\n",
              "      }\n",
              "    </script>\n",
              "  </div>\n",
              "\n",
              "\n",
              "<div id=\"df-afda375b-58d3-4031-83eb-8d29af83bbb2\">\n",
              "  <button class=\"colab-df-quickchart\" onclick=\"quickchart('df-afda375b-58d3-4031-83eb-8d29af83bbb2')\"\n",
              "            title=\"Suggest charts.\"\n",
              "            style=\"display:none;\">\n",
              "\n",
              "<svg xmlns=\"http://www.w3.org/2000/svg\" height=\"24px\"viewBox=\"0 0 24 24\"\n",
              "     width=\"24px\">\n",
              "    <g>\n",
              "        <path d=\"M19 3H5c-1.1 0-2 .9-2 2v14c0 1.1.9 2 2 2h14c1.1 0 2-.9 2-2V5c0-1.1-.9-2-2-2zM9 17H7v-7h2v7zm4 0h-2V7h2v10zm4 0h-2v-4h2v4z\"/>\n",
              "    </g>\n",
              "</svg>\n",
              "  </button>\n",
              "\n",
              "<style>\n",
              "  .colab-df-quickchart {\n",
              "    background-color: #E8F0FE;\n",
              "    border: none;\n",
              "    border-radius: 50%;\n",
              "    cursor: pointer;\n",
              "    display: none;\n",
              "    fill: #1967D2;\n",
              "    height: 32px;\n",
              "    padding: 0 0 0 0;\n",
              "    width: 32px;\n",
              "  }\n",
              "\n",
              "  .colab-df-quickchart:hover {\n",
              "    background-color: #E2EBFA;\n",
              "    box-shadow: 0px 1px 2px rgba(60, 64, 67, 0.3), 0px 1px 3px 1px rgba(60, 64, 67, 0.15);\n",
              "    fill: #174EA6;\n",
              "  }\n",
              "\n",
              "  [theme=dark] .colab-df-quickchart {\n",
              "    background-color: #3B4455;\n",
              "    fill: #D2E3FC;\n",
              "  }\n",
              "\n",
              "  [theme=dark] .colab-df-quickchart:hover {\n",
              "    background-color: #434B5C;\n",
              "    box-shadow: 0px 1px 3px 1px rgba(0, 0, 0, 0.15);\n",
              "    filter: drop-shadow(0px 1px 2px rgba(0, 0, 0, 0.3));\n",
              "    fill: #FFFFFF;\n",
              "  }\n",
              "</style>\n",
              "\n",
              "  <script>\n",
              "    async function quickchart(key) {\n",
              "      const charts = await google.colab.kernel.invokeFunction(\n",
              "          'suggestCharts', [key], {});\n",
              "    }\n",
              "    (() => {\n",
              "      let quickchartButtonEl =\n",
              "        document.querySelector('#df-afda375b-58d3-4031-83eb-8d29af83bbb2 button');\n",
              "      quickchartButtonEl.style.display =\n",
              "        google.colab.kernel.accessAllowed ? 'block' : 'none';\n",
              "    })();\n",
              "  </script>\n",
              "</div>\n",
              "    </div>\n",
              "  </div>\n"
            ]
          },
          "metadata": {},
          "execution_count": 7
        }
      ]
    },
    {
      "cell_type": "code",
      "source": [
        "#No. of records\n",
        "df.shape"
      ],
      "metadata": {
        "colab": {
          "base_uri": "https://localhost:8080/"
        },
        "id": "Y0Ver1a4jtG9",
        "outputId": "4de77b8e-855d-4e45-cd27-56d2429557db"
      },
      "execution_count": 8,
      "outputs": [
        {
          "output_type": "execute_result",
          "data": {
            "text/plain": [
              "(420551, 15)"
            ]
          },
          "metadata": {},
          "execution_count": 8
        }
      ]
    },
    {
      "cell_type": "code",
      "source": [
        "#Columns\n",
        "df.columns"
      ],
      "metadata": {
        "colab": {
          "base_uri": "https://localhost:8080/"
        },
        "id": "sSKX0ShzkAOx",
        "outputId": "6e321a64-cec9-4062-a7af-4a957e0286f5"
      },
      "execution_count": 9,
      "outputs": [
        {
          "output_type": "execute_result",
          "data": {
            "text/plain": [
              "Index(['Date Time', 'p (mbar)', 'T (degC)', 'Tpot (K)', 'Tdew (degC)',\n",
              "       'rh (%)', 'VPmax (mbar)', 'VPact (mbar)', 'VPdef (mbar)', 'sh (g/kg)',\n",
              "       'H2OC (mmol/mol)', 'rho (g/m**3)', 'wv (m/s)', 'max. wv (m/s)',\n",
              "       'wd (deg)'],\n",
              "      dtype='object')"
            ]
          },
          "metadata": {},
          "execution_count": 9
        }
      ]
    },
    {
      "cell_type": "code",
      "source": [
        "df.head(n=10)"
      ],
      "metadata": {
        "colab": {
          "base_uri": "https://localhost:8080/",
          "height": 554
        },
        "id": "ekfk6dXokCkJ",
        "outputId": "b308e886-72e1-41da-b4fa-f7e24c8c0016"
      },
      "execution_count": 10,
      "outputs": [
        {
          "output_type": "execute_result",
          "data": {
            "text/plain": [
              "             Date Time  p (mbar)  T (degC)  Tpot (K)  Tdew (degC)  rh (%)  \\\n",
              "0  01.01.2009 00:10:00    996.52     -8.02    265.40        -8.90    93.3   \n",
              "1  01.01.2009 00:20:00    996.57     -8.41    265.01        -9.28    93.4   \n",
              "2  01.01.2009 00:30:00    996.53     -8.51    264.91        -9.31    93.9   \n",
              "3  01.01.2009 00:40:00    996.51     -8.31    265.12        -9.07    94.2   \n",
              "4  01.01.2009 00:50:00    996.51     -8.27    265.15        -9.04    94.1   \n",
              "5  01.01.2009 01:00:00    996.50     -8.05    265.38        -8.78    94.4   \n",
              "6  01.01.2009 01:10:00    996.50     -7.62    265.81        -8.30    94.8   \n",
              "7  01.01.2009 01:20:00    996.50     -7.62    265.81        -8.36    94.4   \n",
              "8  01.01.2009 01:30:00    996.50     -7.91    265.52        -8.73    93.8   \n",
              "9  01.01.2009 01:40:00    996.53     -8.43    264.99        -9.34    93.1   \n",
              "\n",
              "   VPmax (mbar)  VPact (mbar)  VPdef (mbar)  sh (g/kg)  H2OC (mmol/mol)  \\\n",
              "0          3.33          3.11          0.22       1.94             3.12   \n",
              "1          3.23          3.02          0.21       1.89             3.03   \n",
              "2          3.21          3.01          0.20       1.88             3.02   \n",
              "3          3.26          3.07          0.19       1.92             3.08   \n",
              "4          3.27          3.08          0.19       1.92             3.09   \n",
              "5          3.33          3.14          0.19       1.96             3.15   \n",
              "6          3.44          3.26          0.18       2.04             3.27   \n",
              "7          3.44          3.25          0.19       2.03             3.26   \n",
              "8          3.36          3.15          0.21       1.97             3.16   \n",
              "9          3.23          3.00          0.22       1.88             3.02   \n",
              "\n",
              "   rho (g/m**3)  wv (m/s)  max. wv (m/s)  wd (deg)  \n",
              "0       1307.75      1.03           1.75     152.3  \n",
              "1       1309.80      0.72           1.50     136.1  \n",
              "2       1310.24      0.19           0.63     171.6  \n",
              "3       1309.19      0.34           0.50     198.0  \n",
              "4       1309.00      0.32           0.63     214.3  \n",
              "5       1307.86      0.21           0.63     192.7  \n",
              "6       1305.68      0.18           0.63     166.5  \n",
              "7       1305.69      0.19           0.50     118.6  \n",
              "8       1307.17      0.28           0.75     188.5  \n",
              "9       1309.85      0.59           0.88     185.0  "
            ],
            "text/html": [
              "\n",
              "  <div id=\"df-e7ce6e64-d6f6-4b79-b5df-9164418ad8a8\" class=\"colab-df-container\">\n",
              "    <div>\n",
              "<style scoped>\n",
              "    .dataframe tbody tr th:only-of-type {\n",
              "        vertical-align: middle;\n",
              "    }\n",
              "\n",
              "    .dataframe tbody tr th {\n",
              "        vertical-align: top;\n",
              "    }\n",
              "\n",
              "    .dataframe thead th {\n",
              "        text-align: right;\n",
              "    }\n",
              "</style>\n",
              "<table border=\"1\" class=\"dataframe\">\n",
              "  <thead>\n",
              "    <tr style=\"text-align: right;\">\n",
              "      <th></th>\n",
              "      <th>Date Time</th>\n",
              "      <th>p (mbar)</th>\n",
              "      <th>T (degC)</th>\n",
              "      <th>Tpot (K)</th>\n",
              "      <th>Tdew (degC)</th>\n",
              "      <th>rh (%)</th>\n",
              "      <th>VPmax (mbar)</th>\n",
              "      <th>VPact (mbar)</th>\n",
              "      <th>VPdef (mbar)</th>\n",
              "      <th>sh (g/kg)</th>\n",
              "      <th>H2OC (mmol/mol)</th>\n",
              "      <th>rho (g/m**3)</th>\n",
              "      <th>wv (m/s)</th>\n",
              "      <th>max. wv (m/s)</th>\n",
              "      <th>wd (deg)</th>\n",
              "    </tr>\n",
              "  </thead>\n",
              "  <tbody>\n",
              "    <tr>\n",
              "      <th>0</th>\n",
              "      <td>01.01.2009 00:10:00</td>\n",
              "      <td>996.52</td>\n",
              "      <td>-8.02</td>\n",
              "      <td>265.40</td>\n",
              "      <td>-8.90</td>\n",
              "      <td>93.3</td>\n",
              "      <td>3.33</td>\n",
              "      <td>3.11</td>\n",
              "      <td>0.22</td>\n",
              "      <td>1.94</td>\n",
              "      <td>3.12</td>\n",
              "      <td>1307.75</td>\n",
              "      <td>1.03</td>\n",
              "      <td>1.75</td>\n",
              "      <td>152.3</td>\n",
              "    </tr>\n",
              "    <tr>\n",
              "      <th>1</th>\n",
              "      <td>01.01.2009 00:20:00</td>\n",
              "      <td>996.57</td>\n",
              "      <td>-8.41</td>\n",
              "      <td>265.01</td>\n",
              "      <td>-9.28</td>\n",
              "      <td>93.4</td>\n",
              "      <td>3.23</td>\n",
              "      <td>3.02</td>\n",
              "      <td>0.21</td>\n",
              "      <td>1.89</td>\n",
              "      <td>3.03</td>\n",
              "      <td>1309.80</td>\n",
              "      <td>0.72</td>\n",
              "      <td>1.50</td>\n",
              "      <td>136.1</td>\n",
              "    </tr>\n",
              "    <tr>\n",
              "      <th>2</th>\n",
              "      <td>01.01.2009 00:30:00</td>\n",
              "      <td>996.53</td>\n",
              "      <td>-8.51</td>\n",
              "      <td>264.91</td>\n",
              "      <td>-9.31</td>\n",
              "      <td>93.9</td>\n",
              "      <td>3.21</td>\n",
              "      <td>3.01</td>\n",
              "      <td>0.20</td>\n",
              "      <td>1.88</td>\n",
              "      <td>3.02</td>\n",
              "      <td>1310.24</td>\n",
              "      <td>0.19</td>\n",
              "      <td>0.63</td>\n",
              "      <td>171.6</td>\n",
              "    </tr>\n",
              "    <tr>\n",
              "      <th>3</th>\n",
              "      <td>01.01.2009 00:40:00</td>\n",
              "      <td>996.51</td>\n",
              "      <td>-8.31</td>\n",
              "      <td>265.12</td>\n",
              "      <td>-9.07</td>\n",
              "      <td>94.2</td>\n",
              "      <td>3.26</td>\n",
              "      <td>3.07</td>\n",
              "      <td>0.19</td>\n",
              "      <td>1.92</td>\n",
              "      <td>3.08</td>\n",
              "      <td>1309.19</td>\n",
              "      <td>0.34</td>\n",
              "      <td>0.50</td>\n",
              "      <td>198.0</td>\n",
              "    </tr>\n",
              "    <tr>\n",
              "      <th>4</th>\n",
              "      <td>01.01.2009 00:50:00</td>\n",
              "      <td>996.51</td>\n",
              "      <td>-8.27</td>\n",
              "      <td>265.15</td>\n",
              "      <td>-9.04</td>\n",
              "      <td>94.1</td>\n",
              "      <td>3.27</td>\n",
              "      <td>3.08</td>\n",
              "      <td>0.19</td>\n",
              "      <td>1.92</td>\n",
              "      <td>3.09</td>\n",
              "      <td>1309.00</td>\n",
              "      <td>0.32</td>\n",
              "      <td>0.63</td>\n",
              "      <td>214.3</td>\n",
              "    </tr>\n",
              "    <tr>\n",
              "      <th>5</th>\n",
              "      <td>01.01.2009 01:00:00</td>\n",
              "      <td>996.50</td>\n",
              "      <td>-8.05</td>\n",
              "      <td>265.38</td>\n",
              "      <td>-8.78</td>\n",
              "      <td>94.4</td>\n",
              "      <td>3.33</td>\n",
              "      <td>3.14</td>\n",
              "      <td>0.19</td>\n",
              "      <td>1.96</td>\n",
              "      <td>3.15</td>\n",
              "      <td>1307.86</td>\n",
              "      <td>0.21</td>\n",
              "      <td>0.63</td>\n",
              "      <td>192.7</td>\n",
              "    </tr>\n",
              "    <tr>\n",
              "      <th>6</th>\n",
              "      <td>01.01.2009 01:10:00</td>\n",
              "      <td>996.50</td>\n",
              "      <td>-7.62</td>\n",
              "      <td>265.81</td>\n",
              "      <td>-8.30</td>\n",
              "      <td>94.8</td>\n",
              "      <td>3.44</td>\n",
              "      <td>3.26</td>\n",
              "      <td>0.18</td>\n",
              "      <td>2.04</td>\n",
              "      <td>3.27</td>\n",
              "      <td>1305.68</td>\n",
              "      <td>0.18</td>\n",
              "      <td>0.63</td>\n",
              "      <td>166.5</td>\n",
              "    </tr>\n",
              "    <tr>\n",
              "      <th>7</th>\n",
              "      <td>01.01.2009 01:20:00</td>\n",
              "      <td>996.50</td>\n",
              "      <td>-7.62</td>\n",
              "      <td>265.81</td>\n",
              "      <td>-8.36</td>\n",
              "      <td>94.4</td>\n",
              "      <td>3.44</td>\n",
              "      <td>3.25</td>\n",
              "      <td>0.19</td>\n",
              "      <td>2.03</td>\n",
              "      <td>3.26</td>\n",
              "      <td>1305.69</td>\n",
              "      <td>0.19</td>\n",
              "      <td>0.50</td>\n",
              "      <td>118.6</td>\n",
              "    </tr>\n",
              "    <tr>\n",
              "      <th>8</th>\n",
              "      <td>01.01.2009 01:30:00</td>\n",
              "      <td>996.50</td>\n",
              "      <td>-7.91</td>\n",
              "      <td>265.52</td>\n",
              "      <td>-8.73</td>\n",
              "      <td>93.8</td>\n",
              "      <td>3.36</td>\n",
              "      <td>3.15</td>\n",
              "      <td>0.21</td>\n",
              "      <td>1.97</td>\n",
              "      <td>3.16</td>\n",
              "      <td>1307.17</td>\n",
              "      <td>0.28</td>\n",
              "      <td>0.75</td>\n",
              "      <td>188.5</td>\n",
              "    </tr>\n",
              "    <tr>\n",
              "      <th>9</th>\n",
              "      <td>01.01.2009 01:40:00</td>\n",
              "      <td>996.53</td>\n",
              "      <td>-8.43</td>\n",
              "      <td>264.99</td>\n",
              "      <td>-9.34</td>\n",
              "      <td>93.1</td>\n",
              "      <td>3.23</td>\n",
              "      <td>3.00</td>\n",
              "      <td>0.22</td>\n",
              "      <td>1.88</td>\n",
              "      <td>3.02</td>\n",
              "      <td>1309.85</td>\n",
              "      <td>0.59</td>\n",
              "      <td>0.88</td>\n",
              "      <td>185.0</td>\n",
              "    </tr>\n",
              "  </tbody>\n",
              "</table>\n",
              "</div>\n",
              "    <div class=\"colab-df-buttons\">\n",
              "\n",
              "  <div class=\"colab-df-container\">\n",
              "    <button class=\"colab-df-convert\" onclick=\"convertToInteractive('df-e7ce6e64-d6f6-4b79-b5df-9164418ad8a8')\"\n",
              "            title=\"Convert this dataframe to an interactive table.\"\n",
              "            style=\"display:none;\">\n",
              "\n",
              "  <svg xmlns=\"http://www.w3.org/2000/svg\" height=\"24px\" viewBox=\"0 -960 960 960\">\n",
              "    <path d=\"M120-120v-720h720v720H120Zm60-500h600v-160H180v160Zm220 220h160v-160H400v160Zm0 220h160v-160H400v160ZM180-400h160v-160H180v160Zm440 0h160v-160H620v160ZM180-180h160v-160H180v160Zm440 0h160v-160H620v160Z\"/>\n",
              "  </svg>\n",
              "    </button>\n",
              "\n",
              "  <style>\n",
              "    .colab-df-container {\n",
              "      display:flex;\n",
              "      gap: 12px;\n",
              "    }\n",
              "\n",
              "    .colab-df-convert {\n",
              "      background-color: #E8F0FE;\n",
              "      border: none;\n",
              "      border-radius: 50%;\n",
              "      cursor: pointer;\n",
              "      display: none;\n",
              "      fill: #1967D2;\n",
              "      height: 32px;\n",
              "      padding: 0 0 0 0;\n",
              "      width: 32px;\n",
              "    }\n",
              "\n",
              "    .colab-df-convert:hover {\n",
              "      background-color: #E2EBFA;\n",
              "      box-shadow: 0px 1px 2px rgba(60, 64, 67, 0.3), 0px 1px 3px 1px rgba(60, 64, 67, 0.15);\n",
              "      fill: #174EA6;\n",
              "    }\n",
              "\n",
              "    .colab-df-buttons div {\n",
              "      margin-bottom: 4px;\n",
              "    }\n",
              "\n",
              "    [theme=dark] .colab-df-convert {\n",
              "      background-color: #3B4455;\n",
              "      fill: #D2E3FC;\n",
              "    }\n",
              "\n",
              "    [theme=dark] .colab-df-convert:hover {\n",
              "      background-color: #434B5C;\n",
              "      box-shadow: 0px 1px 3px 1px rgba(0, 0, 0, 0.15);\n",
              "      filter: drop-shadow(0px 1px 2px rgba(0, 0, 0, 0.3));\n",
              "      fill: #FFFFFF;\n",
              "    }\n",
              "  </style>\n",
              "\n",
              "    <script>\n",
              "      const buttonEl =\n",
              "        document.querySelector('#df-e7ce6e64-d6f6-4b79-b5df-9164418ad8a8 button.colab-df-convert');\n",
              "      buttonEl.style.display =\n",
              "        google.colab.kernel.accessAllowed ? 'block' : 'none';\n",
              "\n",
              "      async function convertToInteractive(key) {\n",
              "        const element = document.querySelector('#df-e7ce6e64-d6f6-4b79-b5df-9164418ad8a8');\n",
              "        const dataTable =\n",
              "          await google.colab.kernel.invokeFunction('convertToInteractive',\n",
              "                                                    [key], {});\n",
              "        if (!dataTable) return;\n",
              "\n",
              "        const docLinkHtml = 'Like what you see? Visit the ' +\n",
              "          '<a target=\"_blank\" href=https://colab.research.google.com/notebooks/data_table.ipynb>data table notebook</a>'\n",
              "          + ' to learn more about interactive tables.';\n",
              "        element.innerHTML = '';\n",
              "        dataTable['output_type'] = 'display_data';\n",
              "        await google.colab.output.renderOutput(dataTable, element);\n",
              "        const docLink = document.createElement('div');\n",
              "        docLink.innerHTML = docLinkHtml;\n",
              "        element.appendChild(docLink);\n",
              "      }\n",
              "    </script>\n",
              "  </div>\n",
              "\n",
              "\n",
              "<div id=\"df-93919f74-21b5-44da-9ee9-b8945edabb6a\">\n",
              "  <button class=\"colab-df-quickchart\" onclick=\"quickchart('df-93919f74-21b5-44da-9ee9-b8945edabb6a')\"\n",
              "            title=\"Suggest charts.\"\n",
              "            style=\"display:none;\">\n",
              "\n",
              "<svg xmlns=\"http://www.w3.org/2000/svg\" height=\"24px\"viewBox=\"0 0 24 24\"\n",
              "     width=\"24px\">\n",
              "    <g>\n",
              "        <path d=\"M19 3H5c-1.1 0-2 .9-2 2v14c0 1.1.9 2 2 2h14c1.1 0 2-.9 2-2V5c0-1.1-.9-2-2-2zM9 17H7v-7h2v7zm4 0h-2V7h2v10zm4 0h-2v-4h2v4z\"/>\n",
              "    </g>\n",
              "</svg>\n",
              "  </button>\n",
              "\n",
              "<style>\n",
              "  .colab-df-quickchart {\n",
              "    background-color: #E8F0FE;\n",
              "    border: none;\n",
              "    border-radius: 50%;\n",
              "    cursor: pointer;\n",
              "    display: none;\n",
              "    fill: #1967D2;\n",
              "    height: 32px;\n",
              "    padding: 0 0 0 0;\n",
              "    width: 32px;\n",
              "  }\n",
              "\n",
              "  .colab-df-quickchart:hover {\n",
              "    background-color: #E2EBFA;\n",
              "    box-shadow: 0px 1px 2px rgba(60, 64, 67, 0.3), 0px 1px 3px 1px rgba(60, 64, 67, 0.15);\n",
              "    fill: #174EA6;\n",
              "  }\n",
              "\n",
              "  [theme=dark] .colab-df-quickchart {\n",
              "    background-color: #3B4455;\n",
              "    fill: #D2E3FC;\n",
              "  }\n",
              "\n",
              "  [theme=dark] .colab-df-quickchart:hover {\n",
              "    background-color: #434B5C;\n",
              "    box-shadow: 0px 1px 3px 1px rgba(0, 0, 0, 0.15);\n",
              "    filter: drop-shadow(0px 1px 2px rgba(0, 0, 0, 0.3));\n",
              "    fill: #FFFFFF;\n",
              "  }\n",
              "</style>\n",
              "\n",
              "  <script>\n",
              "    async function quickchart(key) {\n",
              "      const charts = await google.colab.kernel.invokeFunction(\n",
              "          'suggestCharts', [key], {});\n",
              "    }\n",
              "    (() => {\n",
              "      let quickchartButtonEl =\n",
              "        document.querySelector('#df-93919f74-21b5-44da-9ee9-b8945edabb6a button');\n",
              "      quickchartButtonEl.style.display =\n",
              "        google.colab.kernel.accessAllowed ? 'block' : 'none';\n",
              "    })();\n",
              "  </script>\n",
              "</div>\n",
              "    </div>\n",
              "  </div>\n"
            ]
          },
          "metadata": {},
          "execution_count": 10
        }
      ]
    },
    {
      "cell_type": "code",
      "source": [
        "#Checking null values\n",
        "df.isnull().sum()"
      ],
      "metadata": {
        "colab": {
          "base_uri": "https://localhost:8080/"
        },
        "id": "L50hL6bpkMsg",
        "outputId": "593a38c3-53e9-43b4-e1ff-6c734ef4364d"
      },
      "execution_count": 11,
      "outputs": [
        {
          "output_type": "execute_result",
          "data": {
            "text/plain": [
              "Date Time          0\n",
              "p (mbar)           0\n",
              "T (degC)           0\n",
              "Tpot (K)           0\n",
              "Tdew (degC)        0\n",
              "rh (%)             0\n",
              "VPmax (mbar)       0\n",
              "VPact (mbar)       0\n",
              "VPdef (mbar)       0\n",
              "sh (g/kg)          0\n",
              "H2OC (mmol/mol)    0\n",
              "rho (g/m**3)       0\n",
              "wv (m/s)           0\n",
              "max. wv (m/s)      0\n",
              "wd (deg)           0\n",
              "dtype: int64"
            ]
          },
          "metadata": {},
          "execution_count": 11
        }
      ]
    },
    {
      "cell_type": "markdown",
      "source": [
        "##DAta for Air Temperature"
      ],
      "metadata": {
        "id": "8wLo8KKXmmzO"
      }
    },
    {
      "cell_type": "markdown",
      "source": [
        "Excercise #1 : Build a model which will predict future 'Air Tempreture' based on the past data."
      ],
      "metadata": {
        "id": "_N69va3gmm2f"
      }
    },
    {
      "cell_type": "code",
      "source": [
        "#Get data for air temp.\n",
        "temp_df = df['T (degC)']"
      ],
      "metadata": {
        "id": "2c02VUmrkS8x"
      },
      "execution_count": 12,
      "outputs": []
    },
    {
      "cell_type": "code",
      "source": [
        "#Make date time column as index to make sure data is sorted\n",
        "temp_df.index = df['Date Time']"
      ],
      "metadata": {
        "id": "-gCcIDjqmzST"
      },
      "execution_count": 13,
      "outputs": []
    },
    {
      "cell_type": "code",
      "source": [
        "#Check data\n",
        "temp_df.head(n=50)"
      ],
      "metadata": {
        "colab": {
          "base_uri": "https://localhost:8080/"
        },
        "id": "afuv4xoznCxc",
        "outputId": "51a9a19d-bea2-426a-9abe-5948a36bdd9d"
      },
      "execution_count": 14,
      "outputs": [
        {
          "output_type": "execute_result",
          "data": {
            "text/plain": [
              "Date Time\n",
              "01.01.2009 00:10:00   -8.02\n",
              "01.01.2009 00:20:00   -8.41\n",
              "01.01.2009 00:30:00   -8.51\n",
              "01.01.2009 00:40:00   -8.31\n",
              "01.01.2009 00:50:00   -8.27\n",
              "01.01.2009 01:00:00   -8.05\n",
              "01.01.2009 01:10:00   -7.62\n",
              "01.01.2009 01:20:00   -7.62\n",
              "01.01.2009 01:30:00   -7.91\n",
              "01.01.2009 01:40:00   -8.43\n",
              "01.01.2009 01:50:00   -8.76\n",
              "01.01.2009 02:00:00   -8.88\n",
              "01.01.2009 02:10:00   -8.85\n",
              "01.01.2009 02:20:00   -8.83\n",
              "01.01.2009 02:30:00   -8.66\n",
              "01.01.2009 02:40:00   -8.66\n",
              "01.01.2009 02:50:00   -8.70\n",
              "01.01.2009 03:00:00   -8.81\n",
              "01.01.2009 03:10:00   -8.84\n",
              "01.01.2009 03:20:00   -8.94\n",
              "01.01.2009 03:30:00   -8.94\n",
              "01.01.2009 03:40:00   -8.86\n",
              "01.01.2009 03:50:00   -8.99\n",
              "01.01.2009 04:00:00   -9.05\n",
              "01.01.2009 04:10:00   -9.23\n",
              "01.01.2009 04:20:00   -9.49\n",
              "01.01.2009 04:30:00   -9.50\n",
              "01.01.2009 04:40:00   -9.35\n",
              "01.01.2009 04:50:00   -9.47\n",
              "01.01.2009 05:00:00   -9.63\n",
              "01.01.2009 05:10:00   -9.67\n",
              "01.01.2009 05:20:00   -9.68\n",
              "01.01.2009 05:30:00   -9.90\n",
              "01.01.2009 05:40:00   -9.91\n",
              "01.01.2009 05:50:00   -9.51\n",
              "01.01.2009 06:00:00   -9.67\n",
              "01.01.2009 06:10:00   -9.59\n",
              "01.01.2009 06:20:00   -9.15\n",
              "01.01.2009 06:30:00   -8.91\n",
              "01.01.2009 06:40:00   -9.04\n",
              "01.01.2009 06:50:00   -9.43\n",
              "01.01.2009 07:00:00   -9.17\n",
              "01.01.2009 07:10:00   -8.71\n",
              "01.01.2009 07:20:00   -8.55\n",
              "01.01.2009 07:30:00   -8.40\n",
              "01.01.2009 07:40:00   -8.30\n",
              "01.01.2009 07:50:00   -8.13\n",
              "01.01.2009 08:00:00   -8.10\n",
              "01.01.2009 08:10:00   -8.14\n",
              "01.01.2009 08:20:00   -8.06\n",
              "Name: T (degC), dtype: float64"
            ]
          },
          "metadata": {},
          "execution_count": 14
        }
      ]
    },
    {
      "cell_type": "code",
      "source": [
        "#Visualize data\n",
        "temp_df.plot(subplots=True, figsize=(10,6))\n",
        "plt.show()"
      ],
      "metadata": {
        "colab": {
          "base_uri": "https://localhost:8080/",
          "height": 545
        },
        "id": "4lMB4KhTnIsb",
        "outputId": "567745cf-170b-434e-f5db-b28a90deb9af"
      },
      "execution_count": 15,
      "outputs": [
        {
          "output_type": "display_data",
          "data": {
            "text/plain": [
              "<Figure size 1000x600 with 1 Axes>"
            ],
            "image/png": "[encoded data removed]"
          },
          "metadata": {}
        }
      ]
    },
    {
      "cell_type": "markdown",
      "source": [
        "##Data Preparation\n"
      ],
      "metadata": {
        "id": "QW2rbkC9nviO"
      }
    },
    {
      "cell_type": "markdown",
      "source": [
        "Split data between training and Test"
      ],
      "metadata": {
        "id": "bNjRy5tcnves"
      }
    },
    {
      "cell_type": "code",
      "source": [
        "#Number of training examples - set to 80%\n",
        "num_training_examples = int(0.8 * temp_df.shape[0])\n",
        "num_training_examples"
      ],
      "metadata": {
        "colab": {
          "base_uri": "https://localhost:8080/"
        },
        "id": "KQiHInD3nUY1",
        "outputId": "fc9b3301-0733-46fd-853b-bda88ddfb43a"
      },
      "execution_count": 16,
      "outputs": [
        {
          "output_type": "execute_result",
          "data": {
            "text/plain": [
              "336440"
            ]
          },
          "metadata": {},
          "execution_count": 16
        }
      ]
    },
    {
      "cell_type": "code",
      "source": [
        "#Prepare training  and test data\n",
        "train_data = temp_df.to_list()[:num_training_examples]\n",
        "test_data = temp_df.to_list()[num_training_examples:]"
      ],
      "metadata": {
        "id": "y1izWzXSoESe"
      },
      "execution_count": 17,
      "outputs": []
    },
    {
      "cell_type": "code",
      "source": [
        "#Check the data\n",
        "print(train_data[:100])"
      ],
      "metadata": {
        "colab": {
          "base_uri": "https://localhost:8080/"
        },
        "id": "Refd3E2Qoeft",
        "outputId": "b84cc1c9-ebe3-49fc-ee5b-379d72a9b706"
      },
      "execution_count": 18,
      "outputs": [
        {
          "output_type": "stream",
          "name": "stdout",
          "text": [
            "[-8.02, -8.41, -8.51, -8.31, -8.27, -8.05, -7.62, -7.62, -7.91, -8.43, -8.76, -8.88, -8.85, -8.83, -8.66, -8.66, -8.7, -8.81, -8.84, -8.94, -8.94, -8.86, -8.99, -9.05, -9.23, -9.49, -9.5, -9.35, -9.47, -9.63, -9.67, -9.68, -9.9, -9.91, -9.51, -9.67, -9.59, -9.15, -8.91, -9.04, -9.43, -9.17, -8.71, -8.55, -8.4, -8.3, -8.13, -8.1, -8.14, -8.06, -7.95, -7.74, -7.57, -7.66, -7.71, -7.56, -7.29, -7.15, -7.02, -7.04, -7.03, -7.15, -7.26, -7.34, -7.35, -7.41, -7.48, -7.38, -7.21, -7.16, -7.03, -6.87, -6.77, -6.7, -6.61, -6.51, -6.21, -5.89, -5.83, -5.76, -5.9, -5.97, -5.88, -5.94, -5.84, -5.76, -5.75, -5.76, -5.73, -5.69, -5.53, -5.57, -5.43, -5.32, -5.36, -5.4, -5.31, -5.28, -5.32, -5.29]\n"
          ]
        }
      ]
    },
    {
      "cell_type": "markdown",
      "source": [
        "Normalize the data"
      ],
      "metadata": {
        "id": "pDn2vjXSop5S"
      }
    },
    {
      "cell_type": "code",
      "source": [
        "import tensorflow as tf"
      ],
      "metadata": {
        "id": "BOooiBSaoidF"
      },
      "execution_count": 19,
      "outputs": []
    },
    {
      "cell_type": "code",
      "source": [
        "#Find the mean, std deviation\n",
        "mean = np.array(train_data).mean()\n",
        "std= np.array(train_data).std()"
      ],
      "metadata": {
        "id": "AGVXx1GBo7Me"
      },
      "execution_count": 20,
      "outputs": []
    },
    {
      "cell_type": "code",
      "source": [
        "mean, std"
      ],
      "metadata": {
        "colab": {
          "base_uri": "https://localhost:8080/"
        },
        "id": "zqqZWGUfrALO",
        "outputId": "1aca0b7d-8fcd-4886-9546-ee58f9f29a5d"
      },
      "execution_count": 21,
      "outputs": [
        {
          "output_type": "execute_result",
          "data": {
            "text/plain": [
              "(8.987612768992983, 8.440672143902399)"
            ]
          },
          "metadata": {},
          "execution_count": 21
        }
      ]
    },
    {
      "cell_type": "code",
      "source": [
        "#Normalize training and test data\n",
        "norm_train = (np.array(train_data)-mean)/std\n",
        "norm_test = (np.array(test_data)- mean)/std"
      ],
      "metadata": {
        "id": "e0UUJzDBrBng"
      },
      "execution_count": 22,
      "outputs": []
    },
    {
      "cell_type": "code",
      "source": [
        "norm_train.shape"
      ],
      "metadata": {
        "colab": {
          "base_uri": "https://localhost:8080/"
        },
        "id": "VDTxhyCfreW8",
        "outputId": "24d153b2-45ba-4165-eced-e45faa64d943"
      },
      "execution_count": 23,
      "outputs": [
        {
          "output_type": "execute_result",
          "data": {
            "text/plain": [
              "(336440,)"
            ]
          },
          "metadata": {},
          "execution_count": 23
        }
      ]
    },
    {
      "cell_type": "markdown",
      "source": [
        "Build X(Input Features) and y(Label) for model training"
      ],
      "metadata": {
        "id": "VBLpHWpcr_Wp"
      }
    },
    {
      "cell_type": "code",
      "source": [
        "def prepare_xy(dataset, window_size=20):\n",
        "\n",
        "    dataX, dataY = [], []\n",
        "\n",
        "    for i in range(len(dataset)-window_size):\n",
        "\n",
        "        #Prepare input features\n",
        "        input_features = dataset[i:(i+window_size)]\n",
        "        dataX.append(input_features)\n",
        "\n",
        "        #Prepare Label\n",
        "        label = dataset[i + window_size]\n",
        "        dataY.append(label)\n",
        "\n",
        "    return np.array(dataX), np.array(dataY)"
      ],
      "metadata": {
        "id": "FL_lLIYzrg7a"
      },
      "execution_count": 24,
      "outputs": []
    },
    {
      "cell_type": "code",
      "source": [
        "#Prepare X and y for train and test\n",
        "train_x, train_y = prepare_xy(norm_train)\n",
        "test_x, test_y = prepare_xy(norm_test)"
      ],
      "metadata": {
        "id": "vdkG4r9LsTgg"
      },
      "execution_count": 25,
      "outputs": []
    },
    {
      "cell_type": "code",
      "source": [
        "train_x.shape"
      ],
      "metadata": {
        "colab": {
          "base_uri": "https://localhost:8080/"
        },
        "id": "ou8jZdNysonh",
        "outputId": "defce024-266d-4b3e-c43d-22a8053127fc"
      },
      "execution_count": 26,
      "outputs": [
        {
          "output_type": "execute_result",
          "data": {
            "text/plain": [
              "(336420, 20)"
            ]
          },
          "metadata": {},
          "execution_count": 26
        }
      ]
    },
    {
      "cell_type": "code",
      "source": [
        "train_y.shape"
      ],
      "metadata": {
        "colab": {
          "base_uri": "https://localhost:8080/"
        },
        "id": "Ph5EY_ggsrN5",
        "outputId": "3a6eb315-5ba4-4bf7-a075-6192ec6625f8"
      },
      "execution_count": 27,
      "outputs": [
        {
          "output_type": "execute_result",
          "data": {
            "text/plain": [
              "(336420,)"
            ]
          },
          "metadata": {},
          "execution_count": 27
        }
      ]
    },
    {
      "cell_type": "code",
      "source": [
        "#Checking first example of input feature(x)\n",
        "train_x[0]"
      ],
      "metadata": {
        "colab": {
          "base_uri": "https://localhost:8080/"
        },
        "id": "yWnClEdSssaa",
        "outputId": "995f8ca5-4e4d-4f28-9c85-ca94ad200f89"
      },
      "execution_count": 28,
      "outputs": [
        {
          "output_type": "execute_result",
          "data": {
            "text/plain": [
              "array([-2.01495953, -2.06116438, -2.07301178, -2.04931698, -2.04457802,\n",
              "       -2.01851375, -1.96756994, -1.96756994, -2.00192739, -2.06353386,\n",
              "       -2.10263027, -2.11684715, -2.11329293, -2.11092345, -2.09078287,\n",
              "       -2.09078287, -2.09552183, -2.10855397, -2.11210819, -2.12395559])"
            ]
          },
          "metadata": {},
          "execution_count": 28
        }
      ]
    },
    {
      "cell_type": "code",
      "source": [
        "#Checking first example label(y)\n",
        "train_y[0]"
      ],
      "metadata": {
        "colab": {
          "base_uri": "https://localhost:8080/"
        },
        "id": "XxadXBsYs5OK",
        "outputId": "ac5e12a8-e43c-4279-a455-efd9c7ddc081"
      },
      "execution_count": 29,
      "outputs": [
        {
          "output_type": "execute_result",
          "data": {
            "text/plain": [
              "-2.1239555882932875"
            ]
          },
          "metadata": {},
          "execution_count": 29
        }
      ]
    },
    {
      "cell_type": "markdown",
      "source": [
        "VIsualize single example\n"
      ],
      "metadata": {
        "id": "gVICfB4NtIe9"
      }
    },
    {
      "cell_type": "code",
      "source": [
        "def show_example(input_features, target, prediction=None):\n",
        "\n",
        "    #Plot historical values\n",
        "    plt.plot(list(range(input_features.shape[0])), input_features.flatten(), '.-', label='History' )\n",
        "\n",
        "    #Plot target\n",
        "    plt.plot(input_features.shape[0]+1, target, 'rx', markersize=10, label='Actual')\n",
        "\n",
        "    #Plot prediction, if applicable\n",
        "    if prediction:\n",
        "        plt.plot(input_features.shape[0]+1, prediction, 'go', markersize=10, label='Prediction')\n",
        "\n",
        "    plt.legend()\n",
        "    plt.show()"
      ],
      "metadata": {
        "id": "hLD-eBFPtBUL"
      },
      "execution_count": 30,
      "outputs": []
    },
    {
      "cell_type": "code",
      "source": [
        "#Display examples\n",
        "exp_num = np.random.randint(0, train_x.shape[0])\n",
        "show_example(train_x[exp_num], train_y[exp_num])"
      ],
      "metadata": {
        "id": "gCGN_UvRtaDV",
        "colab": {
          "base_uri": "https://localhost:8080/",
          "height": 430
        },
        "outputId": "17222bad-b380-451b-c2aa-36f18991b955"
      },
      "execution_count": 31,
      "outputs": [
        {
          "output_type": "display_data",
          "data": {
            "text/plain": [
              "<Figure size 640x480 with 1 Axes>"
            ],
            "image/png": "[encoded data removed]"
          },
          "metadata": {}
        }
      ]
    },
    {
      "cell_type": "markdown",
      "source": [
        "Prediction usin average method"
      ],
      "metadata": {
        "id": "sj3_vXUNMcMf"
      }
    },
    {
      "cell_type": "code",
      "source": [
        "#Prediction is taken as average of all the points in sequence e.g.20\n",
        "exp_num = np.random.randint(0, train_x.shape[0])\n",
        "show_example(train_x[exp_num], train_y[exp_num], train_x[exp_num].mean())"
      ],
      "metadata": {
        "colab": {
          "base_uri": "https://localhost:8080/",
          "height": 430
        },
        "id": "e_Cqv_CGMQ80",
        "outputId": "95e19d33-e2dc-4727-9edb-00409ae7bed9"
      },
      "execution_count": 32,
      "outputs": [
        {
          "output_type": "display_data",
          "data": {
            "text/plain": [
              "<Figure size 640x480 with 1 Axes>"
            ],
            "image/png": "[encoded data removed]"
          },
          "metadata": {}
        }
      ]
    },
    {
      "cell_type": "markdown",
      "source": [
        "##Build Model"
      ],
      "metadata": {
        "id": "yta2zXwXNQDO"
      }
    },
    {
      "cell_type": "code",
      "source": [
        "import tensorflow as tf"
      ],
      "metadata": {
        "id": "Eue-SBkFNCcX"
      },
      "execution_count": 33,
      "outputs": []
    },
    {
      "cell_type": "code",
      "source": [
        "tf.random.set_seed(13)"
      ],
      "metadata": {
        "id": "KUbnm6pPNUj4"
      },
      "execution_count": 34,
      "outputs": []
    },
    {
      "cell_type": "code",
      "source": [
        "#Build Model\n",
        "model = tf.keras.Sequential()\n",
        "\n",
        "#Add LSTM layer\n",
        "model.add(tf.keras.layers.LSTM(8, input_shape=(train_x.shape[1],1,)))\n",
        "\n",
        "#Add output layer\n",
        "model.add(tf.keras.layers.Dense(1))"
      ],
      "metadata": {
        "id": "5eErnUolNXbY"
      },
      "execution_count": 35,
      "outputs": []
    },
    {
      "cell_type": "code",
      "source": [
        "#Compile the model\n",
        "model.compile(optimizer='adam', loss='mae')"
      ],
      "metadata": {
        "id": "gMlP8Ws2NqnH"
      },
      "execution_count": 36,
      "outputs": []
    },
    {
      "cell_type": "code",
      "source": [
        "model.summary()"
      ],
      "metadata": {
        "colab": {
          "base_uri": "https://localhost:8080/"
        },
        "id": "y9gqBeOaN7J1",
        "outputId": "8ba06967-df84-4519-8154-8579fc2b9738"
      },
      "execution_count": 37,
      "outputs": [
        {
          "output_type": "stream",
          "name": "stdout",
          "text": [
            "Model: \"sequential\"\n",
            "_________________________________________________________________\n",
            " Layer (type)                Output Shape              Param #   \n",
            "=================================================================\n",
            " lstm (LSTM)                 (None, 8)                 320       \n",
            "                                                                 \n",
            " dense (Dense)               (None, 1)                 9         \n",
            "                                                                 \n",
            "=================================================================\n",
            "Total params: 329\n",
            "Trainable params: 329\n",
            "Non-trainable params: 0\n",
            "_________________________________________________________________\n"
          ]
        }
      ]
    },
    {
      "cell_type": "markdown",
      "source": [
        "Train the model\n",
        "\n",
        "- Convert batch to be 3 dimensional data : Batch size x Sequence length x 1"
      ],
      "metadata": {
        "id": "SxErkD_-OFVP"
      }
    },
    {
      "cell_type": "code",
      "source": [
        "train_x.shape"
      ],
      "metadata": {
        "colab": {
          "base_uri": "https://localhost:8080/"
        },
        "id": "zx5Ic70lN8WV",
        "outputId": "f0ddda43-548b-4aa5-da6f-380f8e290716"
      },
      "execution_count": 38,
      "outputs": [
        {
          "output_type": "execute_result",
          "data": {
            "text/plain": [
              "(336420, 20)"
            ]
          },
          "metadata": {},
          "execution_count": 38
        }
      ]
    },
    {
      "cell_type": "code",
      "source": [
        "train_x = np.expand_dims(train_x,axis=2)\n",
        "test_x = np.expand_dims(test_x,axis=2)\n"
      ],
      "metadata": {
        "id": "JmUQp3JqOHUn"
      },
      "execution_count": 39,
      "outputs": []
    },
    {
      "cell_type": "code",
      "source": [
        "train_x.shape"
      ],
      "metadata": {
        "colab": {
          "base_uri": "https://localhost:8080/"
        },
        "id": "zlEuTeXZORl8",
        "outputId": "07584779-7973-4690-9e97-9c714bad649d"
      },
      "execution_count": 40,
      "outputs": [
        {
          "output_type": "execute_result",
          "data": {
            "text/plain": [
              "(336420, 20, 1)"
            ]
          },
          "metadata": {},
          "execution_count": 40
        }
      ]
    },
    {
      "cell_type": "code",
      "source": [
        "train_y.shape"
      ],
      "metadata": {
        "colab": {
          "base_uri": "https://localhost:8080/"
        },
        "id": "pmJbqj7bOTCk",
        "outputId": "6c043a67-3c81-4e79-fab8-33d6a7723bab"
      },
      "execution_count": 41,
      "outputs": [
        {
          "output_type": "execute_result",
          "data": {
            "text/plain": [
              "(336420,)"
            ]
          },
          "metadata": {},
          "execution_count": 41
        }
      ]
    },
    {
      "cell_type": "code",
      "source": [
        "model.fit(train_x, train_y,\n",
        "          validation_data=(test_x, test_y),\n",
        "          epochs=10,\n",
        "          batch_size=256)"
      ],
      "metadata": {
        "colab": {
          "base_uri": "https://localhost:8080/"
        },
        "id": "iR2plUacOUcM",
        "outputId": "afc8a823-fe2f-497e-fe01-2d6522421011"
      },
      "execution_count": 42,
      "outputs": [
        {
          "output_type": "stream",
          "name": "stdout",
          "text": [
            "Epoch 1/10\n",
            "1315/1315 [==============================] - 15s 6ms/step - loss: 0.1158 - val_loss: 0.0258\n",
            "Epoch 2/10\n",
            "1315/1315 [==============================] - 6s 5ms/step - loss: 0.0209 - val_loss: 0.0192\n",
            "Epoch 3/10\n",
            "1315/1315 [==============================] - 7s 5ms/step - loss: 0.0179 - val_loss: 0.0175\n",
            "Epoch 4/10\n",
            "1315/1315 [==============================] - 6s 5ms/step - loss: 0.0166 - val_loss: 0.0167\n",
            "Epoch 5/10\n",
            "1315/1315 [==============================] - 10s 7ms/step - loss: 0.0159 - val_loss: 0.0165\n",
            "Epoch 6/10\n",
            "1315/1315 [==============================] - 11s 8ms/step - loss: 0.0155 - val_loss: 0.0157\n",
            "Epoch 7/10\n",
            "1315/1315 [==============================] - 7s 6ms/step - loss: 0.0155 - val_loss: 0.0163\n",
            "Epoch 8/10\n",
            "1315/1315 [==============================] - 7s 5ms/step - loss: 0.0154 - val_loss: 0.0160\n",
            "Epoch 9/10\n",
            "1315/1315 [==============================] - 7s 5ms/step - loss: 0.0154 - val_loss: 0.0159\n",
            "Epoch 10/10\n",
            "1315/1315 [==============================] - 6s 5ms/step - loss: 0.0153 - val_loss: 0.0156\n"
          ]
        },
        {
          "output_type": "execute_result",
          "data": {
            "text/plain": [
              "<keras.callbacks.History at 0x7c8137f82d10>"
            ]
          },
          "metadata": {},
          "execution_count": 42
        }
      ]
    },
    {
      "cell_type": "code",
      "source": [
        "#Model Prediction\n",
        "a = model.predict(test_x[0:1])\n",
        "a * std + mean"
      ],
      "metadata": {
        "colab": {
          "base_uri": "https://localhost:8080/"
        },
        "id": "2mUa6iAhOiIn",
        "outputId": "39c746ed-baf7-413c-ee94-a161a0e61de0"
      },
      "execution_count": 44,
      "outputs": [
        {
          "output_type": "stream",
          "name": "stdout",
          "text": [
            "1/1 [==============================] - 0s 30ms/step\n"
          ]
        },
        {
          "output_type": "execute_result",
          "data": {
            "text/plain": [
              "array([[14.320805]], dtype=float32)"
            ]
          },
          "metadata": {},
          "execution_count": 44
        }
      ]
    },
    {
      "cell_type": "markdown",
      "source": [
        "VIsualize model prediction"
      ],
      "metadata": {
        "id": "JmLjonRdPBfj"
      }
    },
    {
      "cell_type": "code",
      "source": [
        "#Pick a test example\n",
        "exp_num = np.random.randint(0, test_x.shape[0])\n",
        "\n",
        "#Make input example a batch of 1\n",
        "prediction = model.predict(np.expand_dims(test_x[exp_num], axis=0))\n",
        "\n",
        "#Visualize\n",
        "show_example(test_x[exp_num], test_y[exp_num], prediction[0])"
      ],
      "metadata": {
        "colab": {
          "base_uri": "https://localhost:8080/",
          "height": 447
        },
        "id": "RvhbnKBfO_-8",
        "outputId": "24bdeb09-f368-453a-fe16-9d674fe482d4"
      },
      "execution_count": 45,
      "outputs": [
        {
          "output_type": "stream",
          "name": "stdout",
          "text": [
            "1/1 [==============================] - 0s 20ms/step\n"
          ]
        },
        {
          "output_type": "display_data",
          "data": {
            "text/plain": [
              "<Figure size 640x480 with 1 Axes>"
            ],
            "image/png": "[encoded data removed]"
          },
          "metadata": {}
        }
      ]
    },
    {
      "cell_type": "markdown",
      "source": [
        "##Multiple Time Series- Data Preparation"
      ],
      "metadata": {
        "id": "IFIV0rjy_Fxt"
      }
    },
    {
      "cell_type": "code",
      "source": [
        "#Air temperature, pressure and air density\n",
        "features_to_include = ['T (degC)', 'p (mbar)', 'rho (g/m**3)']\n",
        "\n",
        "#Get data\n",
        "multi_df = df[features_to_include]\n",
        "multi_df.index = df['Date Time']"
      ],
      "metadata": {
        "id": "0GMb7l_B_LrX"
      },
      "execution_count": 46,
      "outputs": []
    },
    {
      "cell_type": "code",
      "source": [
        "#Train and Test Data\n",
        "train_df = multi_df.iloc[:num_training_examples,:]\n",
        "test_df = multi_df.iloc[num_training_examples:,:]"
      ],
      "metadata": {
        "id": "KWXC5gQR_sJ7"
      },
      "execution_count": 47,
      "outputs": []
    },
    {
      "cell_type": "code",
      "source": [
        "train_df.shape"
      ],
      "metadata": {
        "colab": {
          "base_uri": "https://localhost:8080/"
        },
        "id": "jITQO67BAAFL",
        "outputId": "f521834b-0cce-4e31-d2c9-24f7cca93665"
      },
      "execution_count": 48,
      "outputs": [
        {
          "output_type": "execute_result",
          "data": {
            "text/plain": [
              "(336440, 3)"
            ]
          },
          "metadata": {},
          "execution_count": 48
        }
      ]
    },
    {
      "cell_type": "markdown",
      "source": [
        "Normalize data\n"
      ],
      "metadata": {
        "id": "duxawZjdAa7b"
      }
    },
    {
      "cell_type": "code",
      "source": [
        "#Find mean and standard deviation\n",
        "mean_multi = train_df.mean()\n",
        "std_multi = train_df.std()"
      ],
      "metadata": {
        "id": "eWKje4hTABYI"
      },
      "execution_count": 49,
      "outputs": []
    },
    {
      "cell_type": "code",
      "source": [
        "mean_multi"
      ],
      "metadata": {
        "colab": {
          "base_uri": "https://localhost:8080/"
        },
        "id": "o-KPL7r7AlfM",
        "outputId": "af9343eb-58b8-43e9-c71d-062612f8aa90"
      },
      "execution_count": 50,
      "outputs": [
        {
          "output_type": "execute_result",
          "data": {
            "text/plain": [
              "T (degC)           8.987613\n",
              "p (mbar)         988.832741\n",
              "rho (g/m**3)    1217.704598\n",
              "dtype: float64"
            ]
          },
          "metadata": {},
          "execution_count": 50
        }
      ]
    },
    {
      "cell_type": "code",
      "source": [
        "std_multi"
      ],
      "metadata": {
        "colab": {
          "base_uri": "https://localhost:8080/"
        },
        "id": "x16LFhkwAmwy",
        "outputId": "0664aebc-0883-48f2-d0ca-1b12043a5c43"
      },
      "execution_count": 51,
      "outputs": [
        {
          "output_type": "execute_result",
          "data": {
            "text/plain": [
              "T (degC)         8.440685\n",
              "p (mbar)         8.349543\n",
              "rho (g/m**3)    40.129560\n",
              "dtype: float64"
            ]
          },
          "metadata": {},
          "execution_count": 51
        }
      ]
    },
    {
      "cell_type": "code",
      "source": [
        "#Normalize train and test data\n",
        "norm_train_df = (train_df - mean_multi)/std_multi\n",
        "norm_test_df = (test_df - mean_multi)/std_multi"
      ],
      "metadata": {
        "id": "yKxHC03MAn0B"
      },
      "execution_count": 52,
      "outputs": []
    },
    {
      "cell_type": "code",
      "source": [
        "norm_train_df.sample(n=5)"
      ],
      "metadata": {
        "colab": {
          "base_uri": "https://localhost:8080/",
          "height": 237
        },
        "id": "JTw8CSpKA9y_",
        "outputId": "492162f3-d03f-4f40-e1de-d36805105d76"
      },
      "execution_count": 53,
      "outputs": [
        {
          "output_type": "execute_result",
          "data": {
            "text/plain": [
              "                     T (degC)  p (mbar)  rho (g/m**3)\n",
              "Date Time                                            \n",
              "06.02.2013 04:00:00 -1.174977 -2.030379      0.584741\n",
              "15.05.2010 20:50:00 -0.406082 -0.597966      0.207712\n",
              "03.08.2009 04:10:00  0.836708 -0.201537     -0.892973\n",
              "01.09.2011 21:20:00  0.673214 -0.051828     -0.673683\n",
              "27.08.2011 09:00:00  0.458776 -0.340467     -0.574006"
            ],
            "text/html": [
              "\n",
              "  <div id=\"df-65c512c1-9944-43da-a9a2-b0dd57a04c33\" class=\"colab-df-container\">\n",
              "    <div>\n",
              "<style scoped>\n",
              "    .dataframe tbody tr th:only-of-type {\n",
              "        vertical-align: middle;\n",
              "    }\n",
              "\n",
              "    .dataframe tbody tr th {\n",
              "        vertical-align: top;\n",
              "    }\n",
              "\n",
              "    .dataframe thead th {\n",
              "        text-align: right;\n",
              "    }\n",
              "</style>\n",
              "<table border=\"1\" class=\"dataframe\">\n",
              "  <thead>\n",
              "    <tr style=\"text-align: right;\">\n",
              "      <th></th>\n",
              "      <th>T (degC)</th>\n",
              "      <th>p (mbar)</th>\n",
              "      <th>rho (g/m**3)</th>\n",
              "    </tr>\n",
              "    <tr>\n",
              "      <th>Date Time</th>\n",
              "      <th></th>\n",
              "      <th></th>\n",
              "      <th></th>\n",
              "    </tr>\n",
              "  </thead>\n",
              "  <tbody>\n",
              "    <tr>\n",
              "      <th>06.02.2013 04:00:00</th>\n",
              "      <td>-1.174977</td>\n",
              "      <td>-2.030379</td>\n",
              "      <td>0.584741</td>\n",
              "    </tr>\n",
              "    <tr>\n",
              "      <th>15.05.2010 20:50:00</th>\n",
              "      <td>-0.406082</td>\n",
              "      <td>-0.597966</td>\n",
              "      <td>0.207712</td>\n",
              "    </tr>\n",
              "    <tr>\n",
              "      <th>03.08.2009 04:10:00</th>\n",
              "      <td>0.836708</td>\n",
              "      <td>-0.201537</td>\n",
              "      <td>-0.892973</td>\n",
              "    </tr>\n",
              "    <tr>\n",
              "      <th>01.09.2011 21:20:00</th>\n",
              "      <td>0.673214</td>\n",
              "      <td>-0.051828</td>\n",
              "      <td>-0.673683</td>\n",
              "    </tr>\n",
              "    <tr>\n",
              "      <th>27.08.2011 09:00:00</th>\n",
              "      <td>0.458776</td>\n",
              "      <td>-0.340467</td>\n",
              "      <td>-0.574006</td>\n",
              "    </tr>\n",
              "  </tbody>\n",
              "</table>\n",
              "</div>\n",
              "    <div class=\"colab-df-buttons\">\n",
              "\n",
              "  <div class=\"colab-df-container\">\n",
              "    <button class=\"colab-df-convert\" onclick=\"convertToInteractive('df-65c512c1-9944-43da-a9a2-b0dd57a04c33')\"\n",
              "            title=\"Convert this dataframe to an interactive table.\"\n",
              "            style=\"display:none;\">\n",
              "\n",
              "  <svg xmlns=\"http://www.w3.org/2000/svg\" height=\"24px\" viewBox=\"0 -960 960 960\">\n",
              "    <path d=\"M120-120v-720h720v720H120Zm60-500h600v-160H180v160Zm220 220h160v-160H400v160Zm0 220h160v-160H400v160ZM180-400h160v-160H180v160Zm440 0h160v-160H620v160ZM180-180h160v-160H180v160Zm440 0h160v-160H620v160Z\"/>\n",
              "  </svg>\n",
              "    </button>\n",
              "\n",
              "  <style>\n",
              "    .colab-df-container {\n",
              "      display:flex;\n",
              "      gap: 12px;\n",
              "    }\n",
              "\n",
              "    .colab-df-convert {\n",
              "      background-color: #E8F0FE;\n",
              "      border: none;\n",
              "      border-radius: 50%;\n",
              "      cursor: pointer;\n",
              "      display: none;\n",
              "      fill: #1967D2;\n",
              "      height: 32px;\n",
              "      padding: 0 0 0 0;\n",
              "      width: 32px;\n",
              "    }\n",
              "\n",
              "    .colab-df-convert:hover {\n",
              "      background-color: #E2EBFA;\n",
              "      box-shadow: 0px 1px 2px rgba(60, 64, 67, 0.3), 0px 1px 3px 1px rgba(60, 64, 67, 0.15);\n",
              "      fill: #174EA6;\n",
              "    }\n",
              "\n",
              "    .colab-df-buttons div {\n",
              "      margin-bottom: 4px;\n",
              "    }\n",
              "\n",
              "    [theme=dark] .colab-df-convert {\n",
              "      background-color: #3B4455;\n",
              "      fill: #D2E3FC;\n",
              "    }\n",
              "\n",
              "    [theme=dark] .colab-df-convert:hover {\n",
              "      background-color: #434B5C;\n",
              "      box-shadow: 0px 1px 3px 1px rgba(0, 0, 0, 0.15);\n",
              "      filter: drop-shadow(0px 1px 2px rgba(0, 0, 0, 0.3));\n",
              "      fill: #FFFFFF;\n",
              "    }\n",
              "  </style>\n",
              "\n",
              "    <script>\n",
              "      const buttonEl =\n",
              "        document.querySelector('#df-65c512c1-9944-43da-a9a2-b0dd57a04c33 button.colab-df-convert');\n",
              "      buttonEl.style.display =\n",
              "        google.colab.kernel.accessAllowed ? 'block' : 'none';\n",
              "\n",
              "      async function convertToInteractive(key) {\n",
              "        const element = document.querySelector('#df-65c512c1-9944-43da-a9a2-b0dd57a04c33');\n",
              "        const dataTable =\n",
              "          await google.colab.kernel.invokeFunction('convertToInteractive',\n",
              "                                                    [key], {});\n",
              "        if (!dataTable) return;\n",
              "\n",
              "        const docLinkHtml = 'Like what you see? Visit the ' +\n",
              "          '<a target=\"_blank\" href=https://colab.research.google.com/notebooks/data_table.ipynb>data table notebook</a>'\n",
              "          + ' to learn more about interactive tables.';\n",
              "        element.innerHTML = '';\n",
              "        dataTable['output_type'] = 'display_data';\n",
              "        await google.colab.output.renderOutput(dataTable, element);\n",
              "        const docLink = document.createElement('div');\n",
              "        docLink.innerHTML = docLinkHtml;\n",
              "        element.appendChild(docLink);\n",
              "      }\n",
              "    </script>\n",
              "  </div>\n",
              "\n",
              "\n",
              "<div id=\"df-112fba8d-f83b-4b04-93eb-adeafa6e3174\">\n",
              "  <button class=\"colab-df-quickchart\" onclick=\"quickchart('df-112fba8d-f83b-4b04-93eb-adeafa6e3174')\"\n",
              "            title=\"Suggest charts.\"\n",
              "            style=\"display:none;\">\n",
              "\n",
              "<svg xmlns=\"http://www.w3.org/2000/svg\" height=\"24px\"viewBox=\"0 0 24 24\"\n",
              "     width=\"24px\">\n",
              "    <g>\n",
              "        <path d=\"M19 3H5c-1.1 0-2 .9-2 2v14c0 1.1.9 2 2 2h14c1.1 0 2-.9 2-2V5c0-1.1-.9-2-2-2zM9 17H7v-7h2v7zm4 0h-2V7h2v10zm4 0h-2v-4h2v4z\"/>\n",
              "    </g>\n",
              "</svg>\n",
              "  </button>\n",
              "\n",
              "<style>\n",
              "  .colab-df-quickchart {\n",
              "    background-color: #E8F0FE;\n",
              "    border: none;\n",
              "    border-radius: 50%;\n",
              "    cursor: pointer;\n",
              "    display: none;\n",
              "    fill: #1967D2;\n",
              "    height: 32px;\n",
              "    padding: 0 0 0 0;\n",
              "    width: 32px;\n",
              "  }\n",
              "\n",
              "  .colab-df-quickchart:hover {\n",
              "    background-color: #E2EBFA;\n",
              "    box-shadow: 0px 1px 2px rgba(60, 64, 67, 0.3), 0px 1px 3px 1px rgba(60, 64, 67, 0.15);\n",
              "    fill: #174EA6;\n",
              "  }\n",
              "\n",
              "  [theme=dark] .colab-df-quickchart {\n",
              "    background-color: #3B4455;\n",
              "    fill: #D2E3FC;\n",
              "  }\n",
              "\n",
              "  [theme=dark] .colab-df-quickchart:hover {\n",
              "    background-color: #434B5C;\n",
              "    box-shadow: 0px 1px 3px 1px rgba(0, 0, 0, 0.15);\n",
              "    filter: drop-shadow(0px 1px 2px rgba(0, 0, 0, 0.3));\n",
              "    fill: #FFFFFF;\n",
              "  }\n",
              "</style>\n",
              "\n",
              "  <script>\n",
              "    async function quickchart(key) {\n",
              "      const charts = await google.colab.kernel.invokeFunction(\n",
              "          'suggestCharts', [key], {});\n",
              "    }\n",
              "    (() => {\n",
              "      let quickchartButtonEl =\n",
              "        document.querySelector('#df-112fba8d-f83b-4b04-93eb-adeafa6e3174 button');\n",
              "      quickchartButtonEl.style.display =\n",
              "        google.colab.kernel.accessAllowed ? 'block' : 'none';\n",
              "    })();\n",
              "  </script>\n",
              "</div>\n",
              "    </div>\n",
              "  </div>\n"
            ]
          },
          "metadata": {},
          "execution_count": 53
        }
      ]
    },
    {
      "cell_type": "markdown",
      "source": [
        "Prepare X and Y"
      ],
      "metadata": {
        "id": "JFHY1P27BPeQ"
      }
    },
    {
      "cell_type": "code",
      "source": [
        "def prepare_xy_multi(dataset, num_time_series=3, window_size=[20,15,10], target_series=0):\n",
        "\n",
        "    dataX, dataY = [], []\n",
        "\n",
        "    act_data = []\n",
        "\n",
        "    for i in range(num_time_series):\n",
        "        dataX.append([]) #Initialize an empty list for each time series\n",
        "        act_data.append(dataset.iloc[:,i].to_list())\n",
        "\n",
        "    #Get max window size\n",
        "    max_window_size = max(window_size)\n",
        "\n",
        "    for i in range(len(dataset)-max_window_size):\n",
        "\n",
        "        #Prepare input for each time series\n",
        "        for j in range(num_time_series):\n",
        "\n",
        "            #Prepare input features\n",
        "            input_features = act_data[j][(i+max_window_size-window_size[j]):(i+max_window_size)]\n",
        "            dataX[j].append(input_features)\n",
        "\n",
        "        #Prepare Label\n",
        "        label = act_data[target_series][i + max_window_size]\n",
        "        dataY.append(label)\n",
        "\n",
        "    return dataX, dataY"
      ],
      "metadata": {
        "id": "RIyInuV_BBAn"
      },
      "execution_count": 54,
      "outputs": []
    },
    {
      "cell_type": "code",
      "source": [
        "#Prepare Training and Test X, y\n",
        "train_x_multi, train_y_multi = prepare_xy_multi(norm_train_df)\n",
        "test_x_multi, test_y_multi = prepare_xy_multi(norm_test_df)"
      ],
      "metadata": {
        "id": "mvKnVU0KBRIg"
      },
      "execution_count": 55,
      "outputs": []
    },
    {
      "cell_type": "code",
      "source": [
        "len(train_x_multi)"
      ],
      "metadata": {
        "colab": {
          "base_uri": "https://localhost:8080/"
        },
        "id": "xYxOmmrvBWF6",
        "outputId": "0314a41d-96d9-4fe5-a2d8-9567cf3f2909"
      },
      "execution_count": 56,
      "outputs": [
        {
          "output_type": "execute_result",
          "data": {
            "text/plain": [
              "3"
            ]
          },
          "metadata": {},
          "execution_count": 56
        }
      ]
    },
    {
      "cell_type": "markdown",
      "metadata": {
        "id": "w_Ry7JKCFHya"
      },
      "source": [
        "#### Build Model II"
      ]
    },
    {
      "cell_type": "code",
      "metadata": {
        "id": "Ycup7zqKFK5P"
      },
      "source": [
        "#Build 3 input layers - one for each time series\n",
        "input_1 = tf.keras.layers.Input(shape=(len(train_x_multi[0][0]), 1,))\n",
        "input_2 = tf.keras.layers.Input(shape=(len(train_x_multi[1][0]), 1,))\n",
        "input_3 = tf.keras.layers.Input(shape=(len(train_x_multi[2][0]), 1,))"
      ],
      "execution_count": 57,
      "outputs": []
    },
    {
      "cell_type": "code",
      "metadata": {
        "id": "Er732Ic1Fm5u"
      },
      "source": [
        "#Build 3 LSTM Layers - One for each time series\n",
        "lstm_1 = tf.keras.layers.LSTM(8)(input_1)\n",
        "lstm_2 = tf.keras.layers.LSTM(8)(input_2)\n",
        "lstm_3 = tf.keras.layers.LSTM(8)(input_3)"
      ],
      "execution_count": 58,
      "outputs": []
    },
    {
      "cell_type": "code",
      "metadata": {
        "id": "JqPAeGmOF48D"
      },
      "source": [
        "#Concatenate LSTM layers output\n",
        "cat = tf.keras.layers.concatenate([lstm_1, lstm_2, lstm_3])"
      ],
      "execution_count": 59,
      "outputs": []
    },
    {
      "cell_type": "code",
      "metadata": {
        "id": "EZ62gahlGFv6",
        "colab": {
          "base_uri": "https://localhost:8080/"
        },
        "outputId": "a67f2a22-4214-4281-d1fd-9e26c5916e07"
      },
      "source": [
        "cat"
      ],
      "execution_count": 60,
      "outputs": [
        {
          "output_type": "execute_result",
          "data": {
            "text/plain": [
              "<KerasTensor: shape=(None, 24) dtype=float32 (created by layer 'concatenate')>"
            ]
          },
          "metadata": {},
          "execution_count": 60
        }
      ]
    },
    {
      "cell_type": "code",
      "metadata": {
        "id": "cSZOsGivGHYP"
      },
      "source": [
        "#Output Layer\n",
        "op = tf.keras.layers.Dense(1)(cat)"
      ],
      "execution_count": 61,
      "outputs": []
    },
    {
      "cell_type": "code",
      "metadata": {
        "id": "XpxgSvz1GNUu"
      },
      "source": [
        "#Build Non-Sequential Model\n",
        "model_multi = tf.keras.Model([input_1, input_2, input_3], #3 Inputs\n",
        "                             op) #Output"
      ],
      "execution_count": 62,
      "outputs": []
    },
    {
      "cell_type": "code",
      "metadata": {
        "id": "tFKmR18FGdO0"
      },
      "source": [
        "#compile model\n",
        "model_multi.compile(optimizer='adam', loss='mae')"
      ],
      "execution_count": 63,
      "outputs": []
    },
    {
      "cell_type": "markdown",
      "metadata": {
        "id": "vD8_Mbr0Gm-M"
      },
      "source": [
        "##### Model Training"
      ]
    },
    {
      "cell_type": "code",
      "metadata": {
        "id": "MjSyetM4GmQP",
        "colab": {
          "base_uri": "https://localhost:8080/"
        },
        "outputId": "038315bc-fb9e-4538-eb35-4fdddb01457e"
      },
      "source": [
        "model_multi.summary()"
      ],
      "execution_count": 64,
      "outputs": [
        {
          "output_type": "stream",
          "name": "stdout",
          "text": [
            "Model: \"model\"\n",
            "__________________________________________________________________________________________________\n",
            " Layer (type)                   Output Shape         Param #     Connected to                     \n",
            "==================================================================================================\n",
            " input_1 (InputLayer)           [(None, 20, 1)]      0           []                               \n",
            "                                                                                                  \n",
            " input_2 (InputLayer)           [(None, 15, 1)]      0           []                               \n",
            "                                                                                                  \n",
            " input_3 (InputLayer)           [(None, 10, 1)]      0           []                               \n",
            "                                                                                                  \n",
            " lstm_1 (LSTM)                  (None, 8)            320         ['input_1[0][0]']                \n",
            "                                                                                                  \n",
            " lstm_2 (LSTM)                  (None, 8)            320         ['input_2[0][0]']                \n",
            "                                                                                                  \n",
            " lstm_3 (LSTM)                  (None, 8)            320         ['input_3[0][0]']                \n",
            "                                                                                                  \n",
            " concatenate (Concatenate)      (None, 24)           0           ['lstm_1[0][0]',                 \n",
            "                                                                  'lstm_2[0][0]',                 \n",
            "                                                                  'lstm_3[0][0]']                 \n",
            "                                                                                                  \n",
            " dense_1 (Dense)                (None, 1)            25          ['concatenate[0][0]']            \n",
            "                                                                                                  \n",
            "==================================================================================================\n",
            "Total params: 985\n",
            "Trainable params: 985\n",
            "Non-trainable params: 0\n",
            "__________________________________________________________________________________________________\n"
          ]
        }
      ]
    },
    {
      "cell_type": "markdown",
      "metadata": {
        "id": "M__bvuk0GySk"
      },
      "source": [
        "We need to feed 3 inputs. Each input will be 3 dimensional"
      ]
    },
    {
      "cell_type": "code",
      "metadata": {
        "id": "_SWP2u8KG3Gd"
      },
      "source": [
        "#Build data for training\n",
        "train_x_multi_1 = np.reshape(np.array(train_x_multi[0]), (len(train_x_multi[0]),len(train_x_multi[0][1]),1 ))\n",
        "train_x_multi_2 = np.reshape(np.array(train_x_multi[1]), (len(train_x_multi[1]),len(train_x_multi[1][1]),1 ))\n",
        "train_x_multi_3 = np.reshape(np.array(train_x_multi[2]), (len(train_x_multi[2]),len(train_x_multi[2][1]),1 ))"
      ],
      "execution_count": 65,
      "outputs": []
    },
    {
      "cell_type": "code",
      "metadata": {
        "id": "6bdjkAeQH1WN",
        "colab": {
          "base_uri": "https://localhost:8080/"
        },
        "outputId": "90f14c87-43b3-4baf-da41-c1ca13742ff0"
      },
      "source": [
        "train_x_multi_1.shape"
      ],
      "execution_count": 66,
      "outputs": [
        {
          "output_type": "execute_result",
          "data": {
            "text/plain": [
              "(336420, 20, 1)"
            ]
          },
          "metadata": {},
          "execution_count": 66
        }
      ]
    },
    {
      "cell_type": "code",
      "metadata": {
        "id": "RcU5QwTVIHi-"
      },
      "source": [
        "#Build data for test\n",
        "test_x_multi_1 = np.reshape(np.array(test_x_multi[0]), (len(test_x_multi[0]),len(test_x_multi[0][1]),1 ))\n",
        "test_x_multi_2 = np.reshape(np.array(test_x_multi[1]), (len(test_x_multi[1]),len(test_x_multi[1][1]),1 ))\n",
        "test_x_multi_3 = np.reshape(np.array(test_x_multi[2]), (len(test_x_multi[2]),len(test_x_multi[2][1]),1 ))"
      ],
      "execution_count": 67,
      "outputs": []
    },
    {
      "cell_type": "code",
      "metadata": {
        "id": "Z6JaRoa-Gri6",
        "colab": {
          "base_uri": "https://localhost:8080/"
        },
        "outputId": "b1044aa7-4ae0-45ca-fdbd-c903b5d9e58d"
      },
      "source": [
        "#Model training\n",
        "model_multi.fit([train_x_multi_1, train_x_multi_2, train_x_multi_3], np.array(train_y_multi),\n",
        "                validation_data=([test_x_multi_1, test_x_multi_2, test_x_multi_3], np.array(test_y_multi)),\n",
        "                epochs=10,\n",
        "                batch_size=256)"
      ],
      "execution_count": 68,
      "outputs": [
        {
          "output_type": "stream",
          "name": "stdout",
          "text": [
            "Epoch 1/10\n",
            "1315/1315 [==============================] - 17s 9ms/step - loss: 0.0697 - val_loss: 0.0243\n",
            "Epoch 2/10\n",
            "1315/1315 [==============================] - 11s 9ms/step - loss: 0.0204 - val_loss: 0.0189\n",
            "Epoch 3/10\n",
            "1315/1315 [==============================] - 11s 8ms/step - loss: 0.0180 - val_loss: 0.0174\n",
            "Epoch 4/10\n",
            "1315/1315 [==============================] - 11s 9ms/step - loss: 0.0167 - val_loss: 0.0175\n",
            "Epoch 5/10\n",
            "1315/1315 [==============================] - 11s 8ms/step - loss: 0.0160 - val_loss: 0.0165\n",
            "Epoch 6/10\n",
            "1315/1315 [==============================] - 12s 9ms/step - loss: 0.0157 - val_loss: 0.0158\n",
            "Epoch 7/10\n",
            "1315/1315 [==============================] - 12s 9ms/step - loss: 0.0156 - val_loss: 0.0164\n",
            "Epoch 8/10\n",
            "1315/1315 [==============================] - 11s 8ms/step - loss: 0.0154 - val_loss: 0.0156\n",
            "Epoch 9/10\n",
            "1315/1315 [==============================] - 11s 8ms/step - loss: 0.0154 - val_loss: 0.0167\n",
            "Epoch 10/10\n",
            "1315/1315 [==============================] - 11s 8ms/step - loss: 0.0153 - val_loss: 0.0156\n"
          ]
        },
        {
          "output_type": "execute_result",
          "data": {
            "text/plain": [
              "<keras.callbacks.History at 0x7c813a9963b0>"
            ]
          },
          "metadata": {},
          "execution_count": 68
        }
      ]
    },
    {
      "cell_type": "markdown",
      "metadata": {
        "id": "6ZIjnsQwJoWb"
      },
      "source": [
        "Visualize Model Prediction"
      ]
    },
    {
      "cell_type": "code",
      "metadata": {
        "id": "Yw3a_7jvIke3",
        "colab": {
          "base_uri": "https://localhost:8080/",
          "height": 447
        },
        "outputId": "04c1ef60-6c67-410d-9877-6783d3cc860e"
      },
      "source": [
        "#Pick a test example\n",
        "exp_num = np.random.randint(0, len(test_y_multi))\n",
        "\n",
        "#Prepare 3 batch inputs - each 3 dimensional\n",
        "in_1 = np.expand_dims(np.array(test_x_multi[0][exp_num]), axis=0)\n",
        "in_2 = np.expand_dims(np.array(test_x_multi[1][exp_num]), axis=0)\n",
        "in_3 = np.expand_dims(np.array(test_x_multi[2][exp_num]), axis=0)\n",
        "\n",
        "#Make prediction\n",
        "prediction = model_multi.predict([in_1, in_2, in_3])\n",
        "\n",
        "#Visualize\n",
        "show_example(in_1[0], test_y_multi[exp_num], prediction[0])"
      ],
      "execution_count": 69,
      "outputs": [
        {
          "output_type": "stream",
          "name": "stdout",
          "text": [
            "1/1 [==============================] - 1s 884ms/step\n"
          ]
        },
        {
          "output_type": "display_data",
          "data": {
            "text/plain": [
              "<Figure size 640x480 with 1 Axes>"
            ],
            "image/png": "[encoded data removed]"
          },
          "metadata": {}
        }
      ]
    },
    {
      "cell_type": "code",
      "source": [],
      "metadata": {
        "id": "E-8HcDyzC2fq"
      },
      "execution_count": null,
      "outputs": []
    }
  ]
}